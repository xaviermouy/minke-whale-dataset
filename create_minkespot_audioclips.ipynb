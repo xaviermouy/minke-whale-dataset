{
 "cells": [
  {
   "cell_type": "markdown",
   "id": "ee5b7eac",
   "metadata": {},
   "source": [
    "# Creation of the MINKE-SPOT labeled audio clips\n",
    "\n",
    "This notebook uses the annotations dataset to generate the labelled audio clip required by minkeSPOT (well, MINKE-SPOT really) to train, test and evaluate the CNN (see https://github.com/ChristianBergler/ORCA-SPOT).\n",
    "\n",
    "The audio clips must follow the following template/format: Filename Template:\n",
    "call/noise-XXX_ID_YEAR_TAPENAME_STARTTIME_ENDTIME.wav\n",
    "\n",
    " - 1st-Element: call/noise-XXX = call-XXX or noise-XXX for pointing out wether it is a target signal or any kind of noise signal. XXX is a placeholder for any kind of string which could be added for more specific label information, e.g. call-N9, noise-boat\n",
    "\n",
    " - 2nd-Element: ID = unique ID (natural number) to identify the audio clip\n",
    "\n",
    " - 3rd-Element: YEAR = year of the tape when it has been recorded\n",
    "\n",
    " - 4th-Element: TAPENAME = name of the recorded tape (has to be unique in order to do a proper data split into train, devel, test set by putting one tape only in only one of the three sets\n",
    "\n",
    " - 5th-Element: STARTTIME = start time of the audio clip in milliseconds with respect to the original recording (natural number)\n",
    "\n",
    " - 6th-Element: ENDTIME = end time of the audio clip in milliseconds with respect to the original recording(natural number)\n",
    "\n",
    "Examples of valid filenames:\n",
    " - call-Orca-A12_929_2019_Rec-031-2018-10-19-06-59-59-ASWMUX231648_2949326_2949919\n",
    " Label Name=call-Orca-A12, ID=929, Year=2019, Tapename=Rec-031-2018-10-19-06-59-59-ASWMUX231648, Starttime in ms=2949326, Starttime in ms=2949919\n",
    "\n",
    " - noise-humanVoice_2381_2010_101BC_149817_150055.wav\n",
    " Label Name=noise-humanVoice, ID=2381, Year=2010, Tapename=101BC, Starttime in ms=149817, Starttime in ms=150055\n",
    "\n"
   ]
  },
  {
   "cell_type": "markdown",
   "id": "ab9f692a",
   "metadata": {},
   "source": [
    "## Input parameters"
   ]
  },
  {
   "cell_type": "code",
   "execution_count": 1,
   "id": "37629baa",
   "metadata": {},
   "outputs": [],
   "source": [
    "params = dict()\n",
    "params['dataset_file_path'] = r'C:\\Users\\xavier.mouy\\Documents\\GitHub\\minke-whale-dataset\\datasets\\Annotations_dataset_NN-HK-MW-HB_20220316T142143.nc'\n",
    "params['out_dir'] = r'C:\\Users\\xavier.mouy\\Documents\\GitHub\\minke-spot\\datasets'\n",
    "params['tape_name_timeframe'] = '%Y%m%d%H'\n",
    "params['class_call'] = ['MW']\n",
    "params['class_noise'] = ['HB', 'HK', 'HKP', 'HKPT', 'NN', 'NNS']\n",
    "params['sanpling_rate_hz'] = 2000\n",
    "params['clips_buffer_s'] = 1\n",
    "\n",
    "params['separate_label_folders'] = True\n",
    "params['spectro_on'] = True\n",
    "params['spetro_on_npy'] = False\n",
    "\n",
    "params['spetro_nfft'] = 256\n",
    "params['spetro_frame'] = 256\n",
    "params['spetro_inc'] = 128\n"
   ]
  },
  {
   "cell_type": "markdown",
   "id": "9b906a7a",
   "metadata": {},
   "source": [
    "## Script"
   ]
  },
  {
   "cell_type": "code",
   "execution_count": 2,
   "id": "b021bf62",
   "metadata": {},
   "outputs": [],
   "source": [
    "# Imports\n",
    "from ecosound.core.annotation import Annotation\n",
    "from ecosound.core.metadata import DeploymentInfo\n",
    "from ecosound.core.audiotools import Sound\n",
    "import pandas as pd\n",
    "from datetime import datetime\n",
    "import os\n",
    "import librosa\n",
    "import librosa.display\n",
    "import soundfile\n",
    "import csv\n",
    "import matplotlib\n",
    "import matplotlib.pyplot as plt\n",
    "import numpy as np\n",
    "matplotlib.use('Agg')"
   ]
  },
  {
   "cell_type": "code",
   "execution_count": 3,
   "id": "9daa1621",
   "metadata": {},
   "outputs": [],
   "source": [
    "def calc_spectro(y, sr, n_fft,hop_length, win_length):\n",
    "    S = librosa.stft(y, n_fft=n_fft, hop_length=hop_length, win_length=win_length)\n",
    "    S = librosa.amplitude_to_db(S,ref=np.max)\n",
    "    fig, ax = plt.subplots()\n",
    "    img = librosa.display.specshow(S, hop_length=hop_length,y_axis='linear', x_axis='time', sr=sr,ax=ax)\n",
    "    #img = librosa.display.specshow(S, hop_length=hop_length,y_axis='linear', x_axis='time', sr=sr,ax=ax)\n",
    "    ax.set_title('Power spectrogram')\n",
    "    fig.colorbar(img, ax=ax, format=\"%+2.0f dB\")\n",
    "    return fig, ax, S"
   ]
  },
  {
   "cell_type": "code",
   "execution_count": 4,
   "id": "c7d6910f",
   "metadata": {},
   "outputs": [],
   "source": [
    "# Load dataset\n",
    "dataset = Annotation()\n",
    "dataset.from_netcdf(params['dataset_file_path'])\n",
    "dataset.data['label'] = dataset.data['label_class'] + dataset.data['label_subclass']"
   ]
  },
  {
   "cell_type": "code",
   "execution_count": 5,
   "id": "b9e12e18",
   "metadata": {},
   "outputs": [],
   "source": [
    "# labels\n",
    "class_ID = [1] * len(params['class_call']) + [0] * len(params['class_noise']) # 1 = call, 0 = noise\n",
    "class_labels = params['class_call'] + params['class_noise']"
   ]
  },
  {
   "cell_type": "code",
   "execution_count": 6,
   "id": "f5a6310e",
   "metadata": {},
   "outputs": [],
   "source": [
    "# create output folders for this dataset\n",
    "current_dir_name = datetime.strftime(datetime.now(),'%Y%m%dT%H%M%S') + '_' + '-'.join(params['class_call']) + '_' + '-'.join(params['class_noise'])\n",
    "current_out_dir = os.path.join(params['out_dir'],current_dir_name)\n",
    "os.mkdir(current_out_dir)\n",
    "if params['separate_label_folders']:\n",
    "    for label in class_labels:\n",
    "        os.mkdir(os.path.join(current_out_dir,label))"
   ]
  },
  {
   "cell_type": "code",
   "execution_count": 7,
   "id": "210b5046",
   "metadata": {},
   "outputs": [],
   "source": [
    "# writes input parameters as csv file for book keeping purposes\n",
    "log_file = open(os.path.join(current_out_dir,\"parameters.csv\"), \"w\")\n",
    "writer = csv.writer(log_file) \n",
    "for key, value in params.items():\n",
    "    writer.writerow([key, value])\n",
    "log_file.close()"
   ]
  },
  {
   "cell_type": "code",
   "execution_count": 8,
   "id": "597d4f74",
   "metadata": {
    "scrolled": true
   },
   "outputs": [
    {
     "name": "stdout",
     "output_type": "stream",
     "text": [
      "MW 1\n"
     ]
    },
    {
     "name": "stderr",
     "output_type": "stream",
     "text": [
      "C:\\Users\\xavier.mouy\\Anaconda3\\envs\\ecosound\\lib\\site-packages\\librosa\\core\\spectrum.py:1641: UserWarning: amplitude_to_db was called on complex input so phase information will be discarded. To suppress this warning, call amplitude_to_db(np.abs(S)) instead.\n",
      "  warnings.warn(\n"
     ]
    },
    {
     "name": "stdout",
     "output_type": "stream",
     "text": [
      "HB 0\n",
      "HK 0\n",
      "HKP 0\n",
      "HKPT 0\n",
      "NN 0\n"
     ]
    },
    {
     "name": "stderr",
     "output_type": "stream",
     "text": [
      "C:\\Users\\xavier.mouy\\Anaconda3\\envs\\ecosound\\lib\\site-packages\\librosa\\core\\spectrum.py:1641: UserWarning: amplitude_to_db was called on complex input so phase information will be discarded. To suppress this warning, call amplitude_to_db(np.abs(S)) instead.\n",
      "  warnings.warn(\n"
     ]
    },
    {
     "name": "stdout",
     "output_type": "stream",
     "text": [
      "NNS 0\n"
     ]
    }
   ],
   "source": [
    "#loop through each class_labels / class_ID\n",
    "annot_unique_id = 0\n",
    "for sp_label, cl_id in zip(class_labels, class_ID):\n",
    "    print(sp_label, cl_id)\n",
    "    annot_sp = dataset.data[dataset.data['label'] == sp_label]\n",
    "    # loop through is annot for that class label\n",
    "    for idx, annot in annot_sp.iterrows():\n",
    "        # define start/stop times +/- buffer\n",
    "        t1 = annot.time_min_offset - params['clips_buffer_s']\n",
    "        if t1 <= 0:\n",
    "            t1=0\n",
    "        t2 = annot.time_max_offset + params['clips_buffer_s']\n",
    "        duration = t2-t1\n",
    "        # load sound clip\n",
    "        y, s = librosa.load(os.path.join(annot['audio_file_dir'],\n",
    "                           annot['audio_file_name'])+annot['audio_file_extension'],\n",
    "                           sr=params['sanpling_rate_hz'],\n",
    "                           offset=t1,\n",
    "                           duration=duration\n",
    "                           ) # Downsample 44.1kHz to 8kHz\n",
    "        t2 = t1+(len(y)/s) # readjust end time in case it exceeded the end  of the file (which librosa handles by taking the last sample)\n",
    "       \n",
    "        # Create audio clip standard name\n",
    "        F=[None] * 6\n",
    "        # Field 1: call/noise\n",
    "        if cl_id == 1: # call\n",
    "            F[0] = 'call-' + annot['label']\n",
    "        elif cl_id == 0: # noise\n",
    "            F[0] = 'noise-' + annot['label']\n",
    "        # Field 2: unique ID\n",
    "        F[1] = str(annot_unique_id)  \n",
    "        # Field 3: YEAR\n",
    "        F[2] = str(annot['time_min_date'].year)\n",
    "        # Field 4: TAPENAME\n",
    "        F[3] = ''.join(annot['deployment_ID']).replace(\"_\", \"-\") + '-' + datetime.strftime(annot['time_min_date'],params['tape_name_timeframe'])\n",
    "        # Field 5: STARTTIME in milliseconds\n",
    "        F[4] = str(round(t1*1000))\n",
    "        # Field 6: ENDTIME in milliseconds\n",
    "        F[5] = str(round(annot.time_max_offset*1000))\n",
    "        F = '_'.join(F) + '.wav'\n",
    "\n",
    "        # Write audio clip\n",
    "        outfilename = os.path.join(os.path.join(current_out_dir,sp_label,F))\n",
    "        soundfile.write(outfilename, y, s, subtype=None, endian=None, format=None, closefd=True)\n",
    "        \n",
    "        # write spectrogram image\n",
    "        if params['spectro_on']:\n",
    "            fig, ax, S = calc_spectro(y,s, params['spetro_nfft'],params['spetro_inc'], win_length= params['spetro_frame'])\n",
    "            fig.savefig(os.path.splitext(outfilename)[0] + '.png',dpi=600)\n",
    "            plt.close('all') \n",
    "            plt.close()\n",
    "            plt.cla()\n",
    "            plt.clf()\n",
    "            if params['spetro_on_npy']:\n",
    "                np.save(os.path.splitext(outfilename)[0] + '.npy', S)\n",
    "            \n",
    "        annot_unique_id += 1"
   ]
  },
  {
   "cell_type": "code",
   "execution_count": null,
   "id": "f4d51f47",
   "metadata": {},
   "outputs": [],
   "source": []
  }
 ],
 "metadata": {
  "kernelspec": {
   "display_name": "Python 3 (ipykernel)",
   "language": "python",
   "name": "python3"
  },
  "language_info": {
   "codemirror_mode": {
    "name": "ipython",
    "version": 3
   },
   "file_extension": ".py",
   "mimetype": "text/x-python",
   "name": "python",
   "nbconvert_exporter": "python",
   "pygments_lexer": "ipython3",
   "version": "3.8.12"
  }
 },
 "nbformat": 4,
 "nbformat_minor": 5
}
