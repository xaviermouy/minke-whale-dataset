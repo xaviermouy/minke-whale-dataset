{
 "cells": [
  {
   "cell_type": "markdown",
   "id": "ee5b7eac",
   "metadata": {},
   "source": [
    "# Creation of the MINKE-SPOT labeled audio clips\n",
    "\n",
    "This notebook uses the annotations dataset to generate the labelled audio clip required by minkeSPOT (well, MINKE-SPOT really) to train, test and evaluate the CNN (see https://github.com/ChristianBergler/ORCA-SPOT).\n",
    "\n",
    "The audio clips must follow the following template/format: Filename Template:\n",
    "call/noise-XXX_ID_YEAR_TAPENAME_STARTTIME_ENDTIME.wav\n",
    "\n",
    " - 1st-Element: call/noise-XXX = call-XXX or noise-XXX for pointing out wether it is a target signal or any kind of noise signal. XXX is a placeholder for any kind of string which could be added for more specific label information, e.g. call-N9, noise-boat\n",
    "\n",
    " - 2nd-Element: ID = unique ID (natural number) to identify the audio clip\n",
    "\n",
    " - 3rd-Element: YEAR = year of the tape when it has been recorded\n",
    "\n",
    " - 4th-Element: TAPENAME = name of the recorded tape (has to be unique in order to do a proper data split into train, devel, test set by putting one tape only in only one of the three sets\n",
    "\n",
    " - 5th-Element: STARTTIME = start time of the audio clip in milliseconds with respect to the original recording (natural number)\n",
    "\n",
    " - 6th-Element: ENDTIME = end time of the audio clip in milliseconds with respect to the original recording(natural number)\n",
    "\n",
    "Examples of valid filenames:\n",
    " - call-Orca-A12_929_2019_Rec-031-2018-10-19-06-59-59-ASWMUX231648_2949326_2949919\n",
    " Label Name=call-Orca-A12, ID=929, Year=2019, Tapename=Rec-031-2018-10-19-06-59-59-ASWMUX231648, Starttime in ms=2949326, Starttime in ms=2949919\n",
    "\n",
    " - noise-humanVoice_2381_2010_101BC_149817_150055.wav\n",
    " Label Name=noise-humanVoice, ID=2381, Year=2010, Tapename=101BC, Starttime in ms=149817, Starttime in ms=150055\n",
    "\n"
   ]
  },
  {
   "cell_type": "markdown",
   "id": "ab9f692a",
   "metadata": {},
   "source": [
    "## Input parameters"
   ]
  },
  {
   "cell_type": "code",
   "execution_count": 1,
   "id": "37629baa",
   "metadata": {},
   "outputs": [],
   "source": [
    "params = dict()\n",
    "#params['dataset_file_path'] = r'C:\\Users\\xavier.mouy\\Documents\\GitHub\\minke-whale-dataset\\datasets\\Annotations_dataset_MW-NN_20220201T211942.nc'\n",
    "params['dataset_file_path'] = r'C:\\Users\\xavier.mouy\\Documents\\GitHub\\minke-whale-dataset\\datasets\\Annotations_dataset_MW-NN_20220204T192254.nc'\n",
    "params['out_dir'] = r'C:\\Users\\xavier.mouy\\Documents\\GitHub\\minke-spot\\datasets'\n",
    "params['separate_label_folders'] = True\n",
    "params['tape_name_timeframe'] = '%Y%m%d%H'\n",
    "params['class_call'] = ['MW']\n",
    "params['class_noise'] = ['NN']\n",
    "params['sanpling_rate_hz'] = 2000\n",
    "params['clips_buffer_s'] = 0"
   ]
  },
  {
   "cell_type": "markdown",
   "id": "9b906a7a",
   "metadata": {},
   "source": [
    "## Script"
   ]
  },
  {
   "cell_type": "code",
   "execution_count": 2,
   "id": "b021bf62",
   "metadata": {},
   "outputs": [],
   "source": [
    "# Imports\n",
    "from ecosound.core.annotation import Annotation\n",
    "from ecosound.core.metadata import DeploymentInfo\n",
    "from ecosound.core.audiotools import Sound\n",
    "import pandas as pd\n",
    "from datetime import datetime\n",
    "import os\n",
    "import librosa\n",
    "import soundfile\n",
    "import csv"
   ]
  },
  {
   "cell_type": "code",
   "execution_count": 3,
   "id": "c7d6910f",
   "metadata": {},
   "outputs": [],
   "source": [
    "# Load dataset\n",
    "dataset = Annotation()\n",
    "dataset.from_netcdf(params['dataset_file_path'])"
   ]
  },
  {
   "cell_type": "code",
   "execution_count": 4,
   "id": "b9e12e18",
   "metadata": {},
   "outputs": [],
   "source": [
    "# labels\n",
    "class_ID = [1] * len(params['class_call']) + [0] * len(params['class_noise']) # 1 = call, 0 = noise\n",
    "class_labels = params['class_call'] + params['class_noise']"
   ]
  },
  {
   "cell_type": "code",
   "execution_count": 5,
   "id": "f5a6310e",
   "metadata": {},
   "outputs": [],
   "source": [
    "# create output folders for this dataset\n",
    "current_dir_name = datetime.strftime(datetime.now(),'%Y%m%dT%H%M%S') + '_' + '-'.join(params['class_call']) + '_' + '-'.join(params['class_noise'])\n",
    "current_out_dir = os.path.join(params['out_dir'],current_dir_name)\n",
    "os.mkdir(current_out_dir)\n",
    "if params['separate_label_folders']:\n",
    "    for label in class_labels:\n",
    "        os.mkdir(os.path.join(current_out_dir,label))"
   ]
  },
  {
   "cell_type": "code",
   "execution_count": 6,
   "id": "210b5046",
   "metadata": {},
   "outputs": [],
   "source": [
    "# writes input parameters as csv file for book keeping purposes\n",
    "log_file = open(os.path.join(current_out_dir,\"parameters.csv\"), \"w\")\n",
    "writer = csv.writer(log_file)\n",
    "for key, value in params.items():\n",
    "    writer.writerow([key, value])\n",
    "log_file.close()"
   ]
  },
  {
   "cell_type": "code",
   "execution_count": 7,
   "id": "597d4f74",
   "metadata": {},
   "outputs": [
    {
     "name": "stdout",
     "output_type": "stream",
     "text": [
      "MW 1\n",
      "NN 0\n"
     ]
    },
    {
     "name": "stderr",
     "output_type": "stream",
     "text": [
      "C:\\Users\\xavier.mouy\\Anaconda3\\envs\\ecosound\\lib\\site-packages\\librosa\\core\\audio.py:165: UserWarning: PySoundFile failed. Trying audioread instead.\n",
      "  warnings.warn(\"PySoundFile failed. Trying audioread instead.\")\n"
     ]
    },
    {
     "ename": "FileNotFoundError",
     "evalue": "[Errno 2] No such file or directory: 'C:\\\\Users\\\\xavier.mouy\\\\Documents\\\\GitHub\\\\minke-whale-dataset\\\\datasets\\\\USA-NEFSC-SBNMS-200903-NOPP6a_CH01\\\\NOPP6a_Clips_Ano_1000_20090315_023000_9247s320ms_ch01.aif'",
     "output_type": "error",
     "traceback": [
      "\u001b[1;31m---------------------------------------------------------------------------\u001b[0m",
      "\u001b[1;31mRuntimeError\u001b[0m                              Traceback (most recent call last)",
      "\u001b[1;32m~\\Anaconda3\\envs\\ecosound\\lib\\site-packages\\librosa\\core\\audio.py\u001b[0m in \u001b[0;36mload\u001b[1;34m(path, sr, mono, offset, duration, dtype, res_type)\u001b[0m\n\u001b[0;32m    148\u001b[0m     \u001b[1;32mtry\u001b[0m\u001b[1;33m:\u001b[0m\u001b[1;33m\u001b[0m\u001b[1;33m\u001b[0m\u001b[0m\n\u001b[1;32m--> 149\u001b[1;33m         \u001b[1;32mwith\u001b[0m \u001b[0msf\u001b[0m\u001b[1;33m.\u001b[0m\u001b[0mSoundFile\u001b[0m\u001b[1;33m(\u001b[0m\u001b[0mpath\u001b[0m\u001b[1;33m)\u001b[0m \u001b[1;32mas\u001b[0m \u001b[0msf_desc\u001b[0m\u001b[1;33m:\u001b[0m\u001b[1;33m\u001b[0m\u001b[1;33m\u001b[0m\u001b[0m\n\u001b[0m\u001b[0;32m    150\u001b[0m             \u001b[0msr_native\u001b[0m \u001b[1;33m=\u001b[0m \u001b[0msf_desc\u001b[0m\u001b[1;33m.\u001b[0m\u001b[0msamplerate\u001b[0m\u001b[1;33m\u001b[0m\u001b[1;33m\u001b[0m\u001b[0m\n",
      "\u001b[1;32m~\\Anaconda3\\envs\\ecosound\\lib\\site-packages\\soundfile.py\u001b[0m in \u001b[0;36m__init__\u001b[1;34m(self, file, mode, samplerate, channels, subtype, endian, format, closefd)\u001b[0m\n\u001b[0;32m    739\u001b[0m                                          format, subtype, endian)\n\u001b[1;32m--> 740\u001b[1;33m         \u001b[0mself\u001b[0m\u001b[1;33m.\u001b[0m\u001b[0m_file\u001b[0m \u001b[1;33m=\u001b[0m \u001b[0mself\u001b[0m\u001b[1;33m.\u001b[0m\u001b[0m_open\u001b[0m\u001b[1;33m(\u001b[0m\u001b[0mfile\u001b[0m\u001b[1;33m,\u001b[0m \u001b[0mmode_int\u001b[0m\u001b[1;33m,\u001b[0m \u001b[0mclosefd\u001b[0m\u001b[1;33m)\u001b[0m\u001b[1;33m\u001b[0m\u001b[1;33m\u001b[0m\u001b[0m\n\u001b[0m\u001b[0;32m    741\u001b[0m         \u001b[1;32mif\u001b[0m \u001b[0mset\u001b[0m\u001b[1;33m(\u001b[0m\u001b[0mmode\u001b[0m\u001b[1;33m)\u001b[0m\u001b[1;33m.\u001b[0m\u001b[0missuperset\u001b[0m\u001b[1;33m(\u001b[0m\u001b[1;34m'r+'\u001b[0m\u001b[1;33m)\u001b[0m \u001b[1;32mand\u001b[0m \u001b[0mself\u001b[0m\u001b[1;33m.\u001b[0m\u001b[0mseekable\u001b[0m\u001b[1;33m(\u001b[0m\u001b[1;33m)\u001b[0m\u001b[1;33m:\u001b[0m\u001b[1;33m\u001b[0m\u001b[1;33m\u001b[0m\u001b[0m\n",
      "\u001b[1;32m~\\Anaconda3\\envs\\ecosound\\lib\\site-packages\\soundfile.py\u001b[0m in \u001b[0;36m_open\u001b[1;34m(self, file, mode_int, closefd)\u001b[0m\n\u001b[0;32m   1263\u001b[0m             \u001b[1;32mraise\u001b[0m \u001b[0mTypeError\u001b[0m\u001b[1;33m(\u001b[0m\u001b[1;34m\"Invalid file: {0!r}\"\u001b[0m\u001b[1;33m.\u001b[0m\u001b[0mformat\u001b[0m\u001b[1;33m(\u001b[0m\u001b[0mself\u001b[0m\u001b[1;33m.\u001b[0m\u001b[0mname\u001b[0m\u001b[1;33m)\u001b[0m\u001b[1;33m)\u001b[0m\u001b[1;33m\u001b[0m\u001b[1;33m\u001b[0m\u001b[0m\n\u001b[1;32m-> 1264\u001b[1;33m         _error_check(_snd.sf_error(file_ptr),\n\u001b[0m\u001b[0;32m   1265\u001b[0m                      \"Error opening {0!r}: \".format(self.name))\n",
      "\u001b[1;32m~\\Anaconda3\\envs\\ecosound\\lib\\site-packages\\soundfile.py\u001b[0m in \u001b[0;36m_error_check\u001b[1;34m(err, prefix)\u001b[0m\n\u001b[0;32m   1454\u001b[0m         \u001b[0merr_str\u001b[0m \u001b[1;33m=\u001b[0m \u001b[0m_snd\u001b[0m\u001b[1;33m.\u001b[0m\u001b[0msf_error_number\u001b[0m\u001b[1;33m(\u001b[0m\u001b[0merr\u001b[0m\u001b[1;33m)\u001b[0m\u001b[1;33m\u001b[0m\u001b[1;33m\u001b[0m\u001b[0m\n\u001b[1;32m-> 1455\u001b[1;33m         \u001b[1;32mraise\u001b[0m \u001b[0mRuntimeError\u001b[0m\u001b[1;33m(\u001b[0m\u001b[0mprefix\u001b[0m \u001b[1;33m+\u001b[0m \u001b[0m_ffi\u001b[0m\u001b[1;33m.\u001b[0m\u001b[0mstring\u001b[0m\u001b[1;33m(\u001b[0m\u001b[0merr_str\u001b[0m\u001b[1;33m)\u001b[0m\u001b[1;33m.\u001b[0m\u001b[0mdecode\u001b[0m\u001b[1;33m(\u001b[0m\u001b[1;34m'utf-8'\u001b[0m\u001b[1;33m,\u001b[0m \u001b[1;34m'replace'\u001b[0m\u001b[1;33m)\u001b[0m\u001b[1;33m)\u001b[0m\u001b[1;33m\u001b[0m\u001b[1;33m\u001b[0m\u001b[0m\n\u001b[0m\u001b[0;32m   1456\u001b[0m \u001b[1;33m\u001b[0m\u001b[0m\n",
      "\u001b[1;31mRuntimeError\u001b[0m: Error opening 'C:\\\\Users\\\\xavier.mouy\\\\Documents\\\\GitHub\\\\minke-whale-dataset\\\\datasets\\\\USA-NEFSC-SBNMS-200903-NOPP6a_CH01\\\\NOPP6a_Clips_Ano_1000_20090315_023000_9247s320ms_ch01.aif': System error.",
      "\nDuring handling of the above exception, another exception occurred:\n",
      "\u001b[1;31mFileNotFoundError\u001b[0m                         Traceback (most recent call last)",
      "\u001b[1;32mC:\\Users\\XAVIER~1.MOU\\AppData\\Local\\Temp/ipykernel_19092/3214688422.py\u001b[0m in \u001b[0;36m<module>\u001b[1;34m\u001b[0m\n\u001b[0;32m     13\u001b[0m         \u001b[0mduration\u001b[0m \u001b[1;33m=\u001b[0m \u001b[0mt2\u001b[0m\u001b[1;33m-\u001b[0m\u001b[0mt1\u001b[0m\u001b[1;33m\u001b[0m\u001b[1;33m\u001b[0m\u001b[0m\n\u001b[0;32m     14\u001b[0m         \u001b[1;31m# load sound clip\u001b[0m\u001b[1;33m\u001b[0m\u001b[1;33m\u001b[0m\u001b[1;33m\u001b[0m\u001b[0m\n\u001b[1;32m---> 15\u001b[1;33m         y, s = librosa.load(os.path.join(annot['audio_file_dir'],\n\u001b[0m\u001b[0;32m     16\u001b[0m                            annot['audio_file_name'])+annot['audio_file_extension'],\n\u001b[0;32m     17\u001b[0m                            \u001b[0msr\u001b[0m\u001b[1;33m=\u001b[0m\u001b[0mparams\u001b[0m\u001b[1;33m[\u001b[0m\u001b[1;34m'sanpling_rate_hz'\u001b[0m\u001b[1;33m]\u001b[0m\u001b[1;33m,\u001b[0m\u001b[1;33m\u001b[0m\u001b[1;33m\u001b[0m\u001b[0m\n",
      "\u001b[1;32m~\\Anaconda3\\envs\\ecosound\\lib\\site-packages\\librosa\\core\\audio.py\u001b[0m in \u001b[0;36mload\u001b[1;34m(path, sr, mono, offset, duration, dtype, res_type)\u001b[0m\n\u001b[0;32m    164\u001b[0m         \u001b[1;32mif\u001b[0m \u001b[0misinstance\u001b[0m\u001b[1;33m(\u001b[0m\u001b[0mpath\u001b[0m\u001b[1;33m,\u001b[0m \u001b[1;33m(\u001b[0m\u001b[0mstr\u001b[0m\u001b[1;33m,\u001b[0m \u001b[0mpathlib\u001b[0m\u001b[1;33m.\u001b[0m\u001b[0mPurePath\u001b[0m\u001b[1;33m)\u001b[0m\u001b[1;33m)\u001b[0m\u001b[1;33m:\u001b[0m\u001b[1;33m\u001b[0m\u001b[1;33m\u001b[0m\u001b[0m\n\u001b[0;32m    165\u001b[0m             \u001b[0mwarnings\u001b[0m\u001b[1;33m.\u001b[0m\u001b[0mwarn\u001b[0m\u001b[1;33m(\u001b[0m\u001b[1;34m\"PySoundFile failed. Trying audioread instead.\"\u001b[0m\u001b[1;33m)\u001b[0m\u001b[1;33m\u001b[0m\u001b[1;33m\u001b[0m\u001b[0m\n\u001b[1;32m--> 166\u001b[1;33m             \u001b[0my\u001b[0m\u001b[1;33m,\u001b[0m \u001b[0msr_native\u001b[0m \u001b[1;33m=\u001b[0m \u001b[0m__audioread_load\u001b[0m\u001b[1;33m(\u001b[0m\u001b[0mpath\u001b[0m\u001b[1;33m,\u001b[0m \u001b[0moffset\u001b[0m\u001b[1;33m,\u001b[0m \u001b[0mduration\u001b[0m\u001b[1;33m,\u001b[0m \u001b[0mdtype\u001b[0m\u001b[1;33m)\u001b[0m\u001b[1;33m\u001b[0m\u001b[1;33m\u001b[0m\u001b[0m\n\u001b[0m\u001b[0;32m    167\u001b[0m         \u001b[1;32melse\u001b[0m\u001b[1;33m:\u001b[0m\u001b[1;33m\u001b[0m\u001b[1;33m\u001b[0m\u001b[0m\n\u001b[0;32m    168\u001b[0m             \u001b[1;32mraise\u001b[0m \u001b[1;33m(\u001b[0m\u001b[0mexc\u001b[0m\u001b[1;33m)\u001b[0m\u001b[1;33m\u001b[0m\u001b[1;33m\u001b[0m\u001b[0m\n",
      "\u001b[1;32m~\\Anaconda3\\envs\\ecosound\\lib\\site-packages\\librosa\\core\\audio.py\u001b[0m in \u001b[0;36m__audioread_load\u001b[1;34m(path, offset, duration, dtype)\u001b[0m\n\u001b[0;32m    188\u001b[0m \u001b[1;33m\u001b[0m\u001b[0m\n\u001b[0;32m    189\u001b[0m     \u001b[0my\u001b[0m \u001b[1;33m=\u001b[0m \u001b[1;33m[\u001b[0m\u001b[1;33m]\u001b[0m\u001b[1;33m\u001b[0m\u001b[1;33m\u001b[0m\u001b[0m\n\u001b[1;32m--> 190\u001b[1;33m     \u001b[1;32mwith\u001b[0m \u001b[0maudioread\u001b[0m\u001b[1;33m.\u001b[0m\u001b[0maudio_open\u001b[0m\u001b[1;33m(\u001b[0m\u001b[0mpath\u001b[0m\u001b[1;33m)\u001b[0m \u001b[1;32mas\u001b[0m \u001b[0minput_file\u001b[0m\u001b[1;33m:\u001b[0m\u001b[1;33m\u001b[0m\u001b[1;33m\u001b[0m\u001b[0m\n\u001b[0m\u001b[0;32m    191\u001b[0m         \u001b[0msr_native\u001b[0m \u001b[1;33m=\u001b[0m \u001b[0minput_file\u001b[0m\u001b[1;33m.\u001b[0m\u001b[0msamplerate\u001b[0m\u001b[1;33m\u001b[0m\u001b[1;33m\u001b[0m\u001b[0m\n\u001b[0;32m    192\u001b[0m         \u001b[0mn_channels\u001b[0m \u001b[1;33m=\u001b[0m \u001b[0minput_file\u001b[0m\u001b[1;33m.\u001b[0m\u001b[0mchannels\u001b[0m\u001b[1;33m\u001b[0m\u001b[1;33m\u001b[0m\u001b[0m\n",
      "\u001b[1;32m~\\Anaconda3\\envs\\ecosound\\lib\\site-packages\\audioread\\__init__.py\u001b[0m in \u001b[0;36maudio_open\u001b[1;34m(path, backends)\u001b[0m\n\u001b[0;32m    109\u001b[0m     \u001b[1;32mfor\u001b[0m \u001b[0mBackendClass\u001b[0m \u001b[1;32min\u001b[0m \u001b[0mbackends\u001b[0m\u001b[1;33m:\u001b[0m\u001b[1;33m\u001b[0m\u001b[1;33m\u001b[0m\u001b[0m\n\u001b[0;32m    110\u001b[0m         \u001b[1;32mtry\u001b[0m\u001b[1;33m:\u001b[0m\u001b[1;33m\u001b[0m\u001b[1;33m\u001b[0m\u001b[0m\n\u001b[1;32m--> 111\u001b[1;33m             \u001b[1;32mreturn\u001b[0m \u001b[0mBackendClass\u001b[0m\u001b[1;33m(\u001b[0m\u001b[0mpath\u001b[0m\u001b[1;33m)\u001b[0m\u001b[1;33m\u001b[0m\u001b[1;33m\u001b[0m\u001b[0m\n\u001b[0m\u001b[0;32m    112\u001b[0m         \u001b[1;32mexcept\u001b[0m \u001b[0mDecodeError\u001b[0m\u001b[1;33m:\u001b[0m\u001b[1;33m\u001b[0m\u001b[1;33m\u001b[0m\u001b[0m\n\u001b[0;32m    113\u001b[0m             \u001b[1;32mpass\u001b[0m\u001b[1;33m\u001b[0m\u001b[1;33m\u001b[0m\u001b[0m\n",
      "\u001b[1;32m~\\Anaconda3\\envs\\ecosound\\lib\\site-packages\\audioread\\rawread.py\u001b[0m in \u001b[0;36m__init__\u001b[1;34m(self, filename)\u001b[0m\n\u001b[0;32m     60\u001b[0m     \"\"\"\n\u001b[0;32m     61\u001b[0m     \u001b[1;32mdef\u001b[0m \u001b[0m__init__\u001b[0m\u001b[1;33m(\u001b[0m\u001b[0mself\u001b[0m\u001b[1;33m,\u001b[0m \u001b[0mfilename\u001b[0m\u001b[1;33m)\u001b[0m\u001b[1;33m:\u001b[0m\u001b[1;33m\u001b[0m\u001b[1;33m\u001b[0m\u001b[0m\n\u001b[1;32m---> 62\u001b[1;33m         \u001b[0mself\u001b[0m\u001b[1;33m.\u001b[0m\u001b[0m_fh\u001b[0m \u001b[1;33m=\u001b[0m \u001b[0mopen\u001b[0m\u001b[1;33m(\u001b[0m\u001b[0mfilename\u001b[0m\u001b[1;33m,\u001b[0m \u001b[1;34m'rb'\u001b[0m\u001b[1;33m)\u001b[0m\u001b[1;33m\u001b[0m\u001b[1;33m\u001b[0m\u001b[0m\n\u001b[0m\u001b[0;32m     63\u001b[0m \u001b[1;33m\u001b[0m\u001b[0m\n\u001b[0;32m     64\u001b[0m         \u001b[1;32mtry\u001b[0m\u001b[1;33m:\u001b[0m\u001b[1;33m\u001b[0m\u001b[1;33m\u001b[0m\u001b[0m\n",
      "\u001b[1;31mFileNotFoundError\u001b[0m: [Errno 2] No such file or directory: 'C:\\\\Users\\\\xavier.mouy\\\\Documents\\\\GitHub\\\\minke-whale-dataset\\\\datasets\\\\USA-NEFSC-SBNMS-200903-NOPP6a_CH01\\\\NOPP6a_Clips_Ano_1000_20090315_023000_9247s320ms_ch01.aif'"
     ]
    }
   ],
   "source": [
    "#loop through each class_labels / class_ID\n",
    "annot_unique_id = 0\n",
    "for sp_label, cl_id in zip(class_labels, class_ID):\n",
    "    print(sp_label, cl_id)\n",
    "    annot_sp = dataset.data[dataset.data['label_class'] == sp_label]\n",
    "    # loop through is annot for that class label\n",
    "    for idx, annot in annot_sp.iterrows():\n",
    "        # define start/stop times +/- buffer\n",
    "        t1 = annot.time_min_offset - params['clips_buffer_s']\n",
    "        if t1 <= 0:\n",
    "            t1=0\n",
    "        t2 = annot.time_max_offset + params['clips_buffer_s']\n",
    "        duration = t2-t1\n",
    "        # load sound clip\n",
    "        y, s = librosa.load(os.path.join(annot['audio_file_dir'],\n",
    "                           annot['audio_file_name'])+annot['audio_file_extension'],\n",
    "                           sr=params['sanpling_rate_hz'],\n",
    "                           offset=t1,\n",
    "                           duration=duration\n",
    "                           ) # Downsample 44.1kHz to 8kHz\n",
    "        t2 = t1+(len(y)/s) # readjust end time in case it exceeded the end  of the file (which librosa handles by taking the last sample)\n",
    "       \n",
    "        # Create audio clip standard name\n",
    "        F=[None] * 6\n",
    "        # Field 1: call/noise\n",
    "        if cl_id == 1: # call\n",
    "            F[0] = 'call-' + annot['label_class']\n",
    "        elif cl_id == 0: # noise\n",
    "            F[0] = 'noise-' + annot['label_class']\n",
    "        # Field 2: unique ID\n",
    "        F[1] = str(annot_unique_id)  \n",
    "        # Field 3: YEAR\n",
    "        F[2] = str(annot['time_min_date'].year)\n",
    "        # Field 4: TAPENAME\n",
    "        F[3] = ''.join(annot['deployment_ID']).replace(\"_\", \"-\") + '-' + datetime.strftime(annot['time_min_date'],params['tape_name_timeframe'])\n",
    "        # Field 5: STARTTIME in milliseconds\n",
    "        F[4] = str(round(t1*1000))\n",
    "        # Field 6: ENDTIME in milliseconds\n",
    "        F[5] = str(round(annot.time_max_offset*1000))\n",
    "        F = '_'.join(F) + '.wav'\n",
    "\n",
    "        # Write audio clip\n",
    "        outfilename = os.path.join(os.path.join(current_out_dir,sp_label,F))\n",
    "        soundfile.write(outfilename, y, s, subtype=None, endian=None, format=None, closefd=True)\n",
    "        annot_unique_id += 1"
   ]
  },
  {
   "cell_type": "code",
   "execution_count": 10,
   "id": "3d819706",
   "metadata": {},
   "outputs": [
    {
     "data": {
      "text/plain": [
       "'C:\\\\Users\\\\xavier.mouy\\\\Documents\\\\GitHub\\\\minke-whale-dataset\\\\datasets\\\\USA-NEFSC-SBNMS-200903-NOPP6a_CH01'"
      ]
     },
     "execution_count": 10,
     "metadata": {},
     "output_type": "execute_result"
    }
   ],
   "source": [
    "annot['audio_file_dir']"
   ]
  },
  {
   "cell_type": "code",
   "execution_count": 11,
   "id": "45092fc4",
   "metadata": {},
   "outputs": [
    {
     "data": {
      "text/plain": [
       "date                                               2009-03-15 02:30:21.545000\n",
       "uuid                                     44132c18-fe2b-46c6-ad0e-1cf31d12b563\n",
       "from_detector                                                           False\n",
       "software_name                                                           raven\n",
       "software_version                                                          nan\n",
       "operator_name                                                             nan\n",
       "UTC_offset                                                               -5.0\n",
       "entry_date                                                                NaT\n",
       "audio_channel                                                               1\n",
       "audio_file_name             NOPP6a_Clips_Ano_1000_20090315_023000_9247s320...\n",
       "audio_file_dir              C:\\Users\\xavier.mouy\\Documents\\GitHub\\minke-wh...\n",
       "audio_file_extension                                                     .aif\n",
       "audio_file_start_date                                     2009-03-15 02:30:00\n",
       "audio_sampling_frequency                                                 2000\n",
       "audio_bit_depth                                                            16\n",
       "mooring_platform_name                                          bottom mounted\n",
       "recorder_type                                                            MARU\n",
       "recorder_SN                                                           MARU137\n",
       "hydrophone_model                                                         MARU\n",
       "hydrophone_SN                                                               0\n",
       "hydrophone_depth                                                         80.7\n",
       "location_name                                     USA-NEFSC-SBNMS-NOPP6a_CH01\n",
       "location_lat                                                        42.269967\n",
       "location_lon                                                       -70.442767\n",
       "location_water_depth                                                     81.7\n",
       "deployment_ID                              USA-NEFSC-SBNMS-200903-NOPP6a_CH01\n",
       "frequency_min                                                            33.4\n",
       "frequency_max                                                           246.8\n",
       "time_min_offset                                                        21.545\n",
       "time_max_offset                                                        79.374\n",
       "time_min_date                                      2009-03-15 02:30:21.545000\n",
       "time_max_date                                      2009-03-15 02:31:19.374000\n",
       "duration                                                               57.829\n",
       "label_class                                                                NN\n",
       "label_subclass                                                            nan\n",
       "confidence                                                                NaN\n",
       "Name: 3077, dtype: object"
      ]
     },
     "execution_count": 11,
     "metadata": {},
     "output_type": "execute_result"
    }
   ],
   "source": [
    "annot\n"
   ]
  },
  {
   "cell_type": "code",
   "execution_count": null,
   "id": "6f749bc9",
   "metadata": {},
   "outputs": [],
   "source": [
    "annot_sp['audio_file_dir'].iloc[500]"
   ]
  },
  {
   "cell_type": "code",
   "execution_count": null,
   "id": "d2f8c149",
   "metadata": {},
   "outputs": [],
   "source": [
    "tmp = Annotation()\n",
    "tmp.from_netcdf(r'C:\\Users\\xavier.mouy\\Documents\\GitHub\\minke-whale-dataset\\datasets\\USA-NEFSC-SBNMS-200903-NOPP6a_CH01\\noise\\Annotations_dataset_USA-NEFSC-SBNMS-200903-NOPP6a_CH01 annotations.nc', verbose=True)"
   ]
  },
  {
   "cell_type": "code",
   "execution_count": null,
   "id": "6cad035b",
   "metadata": {},
   "outputs": [],
   "source": [
    "set(tmp.data['audio_file_dir'])"
   ]
  },
  {
   "cell_type": "code",
   "execution_count": null,
   "id": "5e82883a",
   "metadata": {},
   "outputs": [],
   "source": []
  }
 ],
 "metadata": {
  "kernelspec": {
   "display_name": "Python 3 (ipykernel)",
   "language": "python",
   "name": "python3"
  },
  "language_info": {
   "codemirror_mode": {
    "name": "ipython",
    "version": 3
   },
   "file_extension": ".py",
   "mimetype": "text/x-python",
   "name": "python",
   "nbconvert_exporter": "python",
   "pygments_lexer": "ipython3",
   "version": "3.8.12"
  }
 },
 "nbformat": 4,
 "nbformat_minor": 5
}
