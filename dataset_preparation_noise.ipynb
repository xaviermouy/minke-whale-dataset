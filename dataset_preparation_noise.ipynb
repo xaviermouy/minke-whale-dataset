{
 "cells": [
  {
   "cell_type": "markdown",
   "metadata": {},
   "source": [
    "# Creation of annotations from unannotated noise recordings\n",
    "\n",
    "\n",
    "## Purpose of this notebook\n",
    "This notebook describes the steps involved in automatically creating noise annotations from non-annotated noise recordings. This notebook is used for creating noise annotations from data provided by the Universty of Aberdeen in Scotland.\n",
    "\n",
    "Annotations are made by breaking down the recording into adjacent annotations of a given duration until the end of the file. Min and max frequency of the annotations are 0 Hz and the Nyquist frequency, respectively.\n",
    "\n",
    "## Deployment folders\n",
    "\n",
    "The data provided were separated into folders corresponding to different deployments. As a result, 7 folders were created:\n",
    "\n",
    "- UK-UAberdeen-MorayFirth-201904_986-110\n",
    "- UK-UAberdeen-MorayFirth-201904_1027-235\n",
    "- UK-UAberdeen-MorayFirth-201904_1029-237\n",
    "- UK-UAberdeen-MorayFirth-202001_1092-112\n",
    "- UK-UAberdeen-MorayFirth-202001_1093-164\n",
    "- UK-UAberdeen-MorayFirth-202101_1136-164\n",
    "- UK-UAberdeen-MorayFirth-202101_1137-112\n",
    "\n",
    "A deployment_info.csv file was created in each of these folders and contains the metadata for each deployment.\n",
    "\n",
    "![noise_scotland_folders](attachment:img/noise_scotland_folders.png)\n"
   ]
  },
  {
   "cell_type": "markdown",
   "metadata": {},
   "source": [
    "## Import libraries and define functions used throughout"
   ]
  },
  {
   "cell_type": "code",
   "execution_count": 13,
   "metadata": {},
   "outputs": [],
   "source": [
    "from ecosound.core.annotation import Annotation\n",
    "from ecosound.core.metadata import DeploymentInfo\n",
    "from ecosound.core.audiotools import Sound\n",
    "from ecosound.core.tools import filename_to_datetime\n",
    "import os\n",
    "import pandas as pd\n",
    "import numpy as np\n",
    "import uuid\n",
    "from datetime import datetime\n",
    "\n",
    "def create_noise_annot(audio_dir, deployment_file, file_ext, annot_dur_sec, label_class, label_subclass):\n",
    "    files_list = os.listdir(audio_dir)\n",
    "    annot_stack = []\n",
    "    for file in files_list:\n",
    "        if file.endswith(file_ext):\n",
    "            print(file)\n",
    "            # retrieve file start date and time\n",
    "            file_timestamp = filename_to_datetime(file)\n",
    "\n",
    "            # retrieve file duration\n",
    "            audio = Sound(os.path.join(audio_dir, file))\n",
    "            file_dur = audio.file_duration_sec\n",
    "\n",
    "            # define annotations start times (relative to start begining of the audio file)\n",
    "            t1 = np.arange(0, file_dur, annot_dur_sec)\n",
    "            t2 = t1[1:]\n",
    "            t2 = np.append(t2, file_dur)\n",
    "            # makes sure the last annotation is longer than value defined by the user (annot_dur_sec)\n",
    "            if t2[-1]-t1[-1] < annot_dur_sec:\n",
    "                #print(t1)\n",
    "                #print(t2)\n",
    "                t1 = np.delete(t1, -1)\n",
    "                t2 = np.delete(t2, -2)\n",
    "                #print(t1)\n",
    "                #print(t2)\n",
    "\n",
    "            # create the annotatiom object\n",
    "            annot = Annotation()\n",
    "\n",
    "            annot.data['time_min_offset'] = t1\n",
    "            annot.data['time_max_offset'] = t2\n",
    "            annot.insert_values(audio_file_start_date=file_timestamp[0])\n",
    "            annot.data['time_min_date'] = pd.to_datetime(\n",
    "                annot.data['audio_file_start_date'] + pd.to_timedelta(\n",
    "                    annot.data['time_min_offset'], unit='s'))\n",
    "            annot.data['time_max_date'] = pd.to_datetime(\n",
    "                annot.data['audio_file_start_date'] +\n",
    "                pd.to_timedelta(annot.data['time_max_offset'], unit='s'))\n",
    "            annot.insert_values(audio_channel=1)\n",
    "            annot.insert_values(audio_file_name=os.path.splitext(os.path.basename(file))[0])\n",
    "            annot.insert_values(audio_file_dir=audio_dir)\n",
    "            annot.insert_values(audio_file_extension=os.path.splitext(file)[1])\n",
    "            annot.insert_values(frequency_min=0)\n",
    "            annot.insert_values(software_version=0)\n",
    "            annot.insert_values(operator_name='xavier')\n",
    "            annot.insert_values(entry_date=datetime.now())\n",
    "            annot.insert_values(frequency_max=audio.file_sampling_frequency/2)\n",
    "            annot.insert_values(label_class=label_class)\n",
    "            annot.insert_values(label_subclass=label_subclass)\n",
    "            annot.insert_values(from_detector=False)\n",
    "            annot.insert_values(software_name='custom_python')\n",
    "            annot.data['uuid'] = annot.data.apply(lambda _: str(uuid.uuid4()), axis=1)\n",
    "            annot.data['duration'] = annot.data['time_max_offset'] - annot.data['time_min_offset']        \n",
    "            # add metadata\n",
    "            annot.insert_metadata(os.path.join(audio_dir, deployment_file)) \n",
    "            # stack annotatiosn for each file\n",
    "            annot_stack.append(annot)\n",
    "            # check that evrything looks fine\n",
    "            annot.check_integrity(verbose=False, ignore_frequency_duplicates=True)\n",
    "\n",
    "    # concatenate all annotations\n",
    "    annot_concat = annot_stack[0]\n",
    "    for an_idx in range(1, len(annot_stack)):\n",
    "        annot_concat = annot_concat + annot_stack[an_idx]\n",
    "    annot_concat.check_integrity(verbose=False, ignore_frequency_duplicates=True)\n",
    "    return annot_concat"
   ]
  },
  {
   "cell_type": "markdown",
   "metadata": {},
   "source": [
    "### Dataset 1: UK-UAberdeen-MorayFirth-201904_986-110\n",
    "\n",
    "Definition of all the paths of all folders with the raw annotation and audio files for this deployment."
   ]
  },
  {
   "cell_type": "code",
   "execution_count": 31,
   "metadata": {},
   "outputs": [],
   "source": [
    "audio_dir = r'C:\\Users\\xavier.mouy\\Documents\\GitHub\\minke-whale-dataset\\datasets\\UK-UAberdeen-MorayFirth-201904_986-110'\n",
    "deployment_file = r'deployment_info.csv' \n",
    "file_ext = 'wav'\n",
    "\n",
    "annot_dur_sec = 60  # duration of the noise annotations in seconds\n",
    "label_class = 'NN'  # label to use for the noise class\n",
    "label_subclass = '' # label to use for the noise subclass (if needed, e.g. S for seismic airguns)"
   ]
  },
  {
   "cell_type": "raw",
   "metadata": {},
   "source": [
    "Now we can create annotations for all audio files in that folder."
   ]
  },
  {
   "cell_type": "code",
   "execution_count": 32,
   "metadata": {},
   "outputs": [
    {
     "name": "stdout",
     "output_type": "stream",
     "text": [
      "Depl986_1678036995.190402110017.wav\n",
      "Depl986_1678036995.190406225930.wav\n",
      "Depl986_1678036995.190410165901.wav\n"
     ]
    }
   ],
   "source": [
    "annot = create_noise_annot(audio_dir, deployment_file, file_ext, annot_dur_sec, label_class, label_subclass)"
   ]
  },
  {
   "cell_type": "markdown",
   "metadata": {},
   "source": [
    "Let's look at the summary of annotations that were created:"
   ]
  },
  {
   "cell_type": "code",
   "execution_count": 33,
   "metadata": {},
   "outputs": [
    {
     "data": {
      "text/html": [
       "<div>\n",
       "<style scoped>\n",
       "    .dataframe tbody tr th:only-of-type {\n",
       "        vertical-align: middle;\n",
       "    }\n",
       "\n",
       "    .dataframe tbody tr th {\n",
       "        vertical-align: top;\n",
       "    }\n",
       "\n",
       "    .dataframe thead th {\n",
       "        text-align: right;\n",
       "    }\n",
       "</style>\n",
       "<table border=\"1\" class=\"dataframe\">\n",
       "  <thead>\n",
       "    <tr style=\"text-align: right;\">\n",
       "      <th>label_class</th>\n",
       "      <th>NN</th>\n",
       "      <th>Total</th>\n",
       "    </tr>\n",
       "    <tr>\n",
       "      <th>deployment_ID</th>\n",
       "      <th></th>\n",
       "      <th></th>\n",
       "    </tr>\n",
       "  </thead>\n",
       "  <tbody>\n",
       "    <tr>\n",
       "      <th>UK-UAberdeen-MorayFirth-201904_986-110</th>\n",
       "      <td>90</td>\n",
       "      <td>90</td>\n",
       "    </tr>\n",
       "    <tr>\n",
       "      <th>Total</th>\n",
       "      <td>90</td>\n",
       "      <td>90</td>\n",
       "    </tr>\n",
       "  </tbody>\n",
       "</table>\n",
       "</div>"
      ],
      "text/plain": [
       "label_class                             NN  Total\n",
       "deployment_ID                                    \n",
       "UK-UAberdeen-MorayFirth-201904_986-110  90     90\n",
       "Total                                   90     90"
      ]
     },
     "execution_count": 33,
     "metadata": {},
     "output_type": "execute_result"
    }
   ],
   "source": [
    "annot.summary()"
   ]
  },
  {
   "cell_type": "markdown",
   "metadata": {},
   "source": [
    "The dataset can now be saved as a Raven annotation file and netcdf4 file:"
   ]
  },
  {
   "cell_type": "code",
   "execution_count": null,
   "metadata": {},
   "outputs": [],
   "source": [
    "annot.to_netcdf(os.path.join(audio_dir, 'Annotations_dataset_' + annot.data['deployment_ID'][0] +' annotations.nc'))\n",
    "annot.to_raven(audio_dir, outfile='Annotations_dataset_' + annot.data['deployment_ID'][0] +'.Table.1.selections.txt', single_file=True)"
   ]
  },
  {
   "cell_type": "markdown",
   "metadata": {},
   "source": [
    "Here is what the annotations look like in Raven:\n",
    "\n",
    "![noiseScotland.png](attachment:noiseScotland.png)\n"
   ]
  },
  {
   "cell_type": "markdown",
   "metadata": {},
   "source": [
    "### Dataset 2: UK-UAberdeen-MorayFirth-201904_1027-235\n",
    "\n",
    "Definition of all the paths of all folders with the raw annotation and audio files for this deployment."
   ]
  },
  {
   "cell_type": "code",
   "execution_count": 34,
   "metadata": {},
   "outputs": [],
   "source": [
    "audio_dir = r'C:\\Users\\xavier.mouy\\Documents\\GitHub\\minke-whale-dataset\\datasets\\UK-UAberdeen-MorayFirth-201904_1027-235'\n",
    "deployment_file = r'deployment_info.csv' \n",
    "file_ext = 'wav'\n",
    "\n",
    "annot_dur_sec = 60  # duration of the noise annotations in seconds\n",
    "label_class = 'NN'  # label to use for the noise class\n",
    "label_subclass = '' # label to use for the noise subclass (if needed, e.g. S for seismic airguns)"
   ]
  },
  {
   "cell_type": "raw",
   "metadata": {},
   "source": [
    "Now we can create annotations for all audio files in that folder."
   ]
  },
  {
   "cell_type": "code",
   "execution_count": 35,
   "metadata": {},
   "outputs": [
    {
     "name": "stdout",
     "output_type": "stream",
     "text": [
      "Depl1027_1677725722.190403115956.wav\n",
      "Depl1027_1677725722.190411055855.wav\n",
      "Depl1027_1677725722.190415235822.wav\n"
     ]
    }
   ],
   "source": [
    "annot = create_noise_annot(audio_dir, deployment_file, file_ext, annot_dur_sec, label_class, label_subclass)"
   ]
  },
  {
   "cell_type": "markdown",
   "metadata": {},
   "source": [
    "Let's look at the summary of annotations that were created:"
   ]
  },
  {
   "cell_type": "code",
   "execution_count": 36,
   "metadata": {},
   "outputs": [
    {
     "data": {
      "text/html": [
       "<div>\n",
       "<style scoped>\n",
       "    .dataframe tbody tr th:only-of-type {\n",
       "        vertical-align: middle;\n",
       "    }\n",
       "\n",
       "    .dataframe tbody tr th {\n",
       "        vertical-align: top;\n",
       "    }\n",
       "\n",
       "    .dataframe thead th {\n",
       "        text-align: right;\n",
       "    }\n",
       "</style>\n",
       "<table border=\"1\" class=\"dataframe\">\n",
       "  <thead>\n",
       "    <tr style=\"text-align: right;\">\n",
       "      <th>label_class</th>\n",
       "      <th>NN</th>\n",
       "      <th>Total</th>\n",
       "    </tr>\n",
       "    <tr>\n",
       "      <th>deployment_ID</th>\n",
       "      <th></th>\n",
       "      <th></th>\n",
       "    </tr>\n",
       "  </thead>\n",
       "  <tbody>\n",
       "    <tr>\n",
       "      <th>UK-UAberdeen-MorayFirth-201904_1027-235</th>\n",
       "      <td>90</td>\n",
       "      <td>90</td>\n",
       "    </tr>\n",
       "    <tr>\n",
       "      <th>Total</th>\n",
       "      <td>90</td>\n",
       "      <td>90</td>\n",
       "    </tr>\n",
       "  </tbody>\n",
       "</table>\n",
       "</div>"
      ],
      "text/plain": [
       "label_class                              NN  Total\n",
       "deployment_ID                                     \n",
       "UK-UAberdeen-MorayFirth-201904_1027-235  90     90\n",
       "Total                                    90     90"
      ]
     },
     "execution_count": 36,
     "metadata": {},
     "output_type": "execute_result"
    }
   ],
   "source": [
    "annot.summary()"
   ]
  },
  {
   "cell_type": "markdown",
   "metadata": {},
   "source": [
    "The dataset can now be saved as a Raven annotation file and netcdf4 file:"
   ]
  },
  {
   "cell_type": "code",
   "execution_count": 6,
   "metadata": {},
   "outputs": [],
   "source": [
    "annot.to_netcdf(os.path.join(audio_dir, 'Annotations_dataset_' + annot.data['deployment_ID'][0] +' annotations.nc'))\n",
    "annot.to_raven(audio_dir, outfile='Annotations_dataset_' + annot.data['deployment_ID'][0] +'.Table.1.selections.txt', single_file=True)"
   ]
  },
  {
   "cell_type": "markdown",
   "metadata": {},
   "source": [
    "### Dataset 3: UK-UAberdeen-MorayFirth-201904_1029-237\n",
    "\n",
    "Definition of all the paths of all folders with the raw annotation and audio files for this deployment."
   ]
  },
  {
   "cell_type": "code",
   "execution_count": 7,
   "metadata": {},
   "outputs": [],
   "source": [
    "audio_dir = r'C:\\Users\\xavier.mouy\\Documents\\GitHub\\minke-whale-dataset\\datasets\\UK-UAberdeen-MorayFirth-201904_1029-237'\n",
    "deployment_file = r'deployment_info.csv' \n",
    "file_ext = 'wav'\n",
    "\n",
    "annot_dur_sec = 60  # duration of the noise annotations in seconds\n",
    "label_class = 'NN'  # label to use for the noise class\n",
    "label_subclass = '' # label to use for the noise subclass (if needed, e.g. S for seismic airguns)"
   ]
  },
  {
   "cell_type": "raw",
   "metadata": {},
   "source": [
    "Now we can create annotations for all audio files in that folder."
   ]
  },
  {
   "cell_type": "code",
   "execution_count": 8,
   "metadata": {
    "scrolled": true
   },
   "outputs": [
    {
     "name": "stdout",
     "output_type": "stream",
     "text": [
      "Depl1029_134541352.190403235927.wav\n",
      "Depl1029_134541352.190404175922.wav\n",
      "Depl1029_134541352.190409115847.wav\n"
     ]
    }
   ],
   "source": [
    "annot = create_noise_annot(audio_dir, deployment_file, file_ext, annot_dur_sec, label_class, label_subclass)"
   ]
  },
  {
   "cell_type": "markdown",
   "metadata": {},
   "source": [
    "Let's look at the summary of annotations that were created:"
   ]
  },
  {
   "cell_type": "code",
   "execution_count": 9,
   "metadata": {},
   "outputs": [
    {
     "data": {
      "text/html": [
       "<div>\n",
       "<style scoped>\n",
       "    .dataframe tbody tr th:only-of-type {\n",
       "        vertical-align: middle;\n",
       "    }\n",
       "\n",
       "    .dataframe tbody tr th {\n",
       "        vertical-align: top;\n",
       "    }\n",
       "\n",
       "    .dataframe thead th {\n",
       "        text-align: right;\n",
       "    }\n",
       "</style>\n",
       "<table border=\"1\" class=\"dataframe\">\n",
       "  <thead>\n",
       "    <tr style=\"text-align: right;\">\n",
       "      <th>label_class</th>\n",
       "      <th>NN</th>\n",
       "      <th>Total</th>\n",
       "    </tr>\n",
       "    <tr>\n",
       "      <th>deployment_ID</th>\n",
       "      <th></th>\n",
       "      <th></th>\n",
       "    </tr>\n",
       "  </thead>\n",
       "  <tbody>\n",
       "    <tr>\n",
       "      <th>UK-UAberdeen-MorayFirth-201904_1029-237</th>\n",
       "      <td>90</td>\n",
       "      <td>90</td>\n",
       "    </tr>\n",
       "    <tr>\n",
       "      <th>Total</th>\n",
       "      <td>90</td>\n",
       "      <td>90</td>\n",
       "    </tr>\n",
       "  </tbody>\n",
       "</table>\n",
       "</div>"
      ],
      "text/plain": [
       "label_class                              NN  Total\n",
       "deployment_ID                                     \n",
       "UK-UAberdeen-MorayFirth-201904_1029-237  90     90\n",
       "Total                                    90     90"
      ]
     },
     "execution_count": 9,
     "metadata": {},
     "output_type": "execute_result"
    }
   ],
   "source": [
    "annot.summary()"
   ]
  },
  {
   "cell_type": "markdown",
   "metadata": {},
   "source": [
    "The dataset can now be saved as a Raven annotation file and netcdf4 file:"
   ]
  },
  {
   "cell_type": "code",
   "execution_count": 10,
   "metadata": {},
   "outputs": [],
   "source": [
    "annot.to_netcdf(os.path.join(audio_dir, 'Annotations_dataset_' + annot.data['deployment_ID'][0] +' annotations.nc'))\n",
    "annot.to_raven(audio_dir, outfile='Annotations_dataset_' + annot.data['deployment_ID'][0] +'.Table.1.selections.txt', single_file=True)"
   ]
  },
  {
   "cell_type": "markdown",
   "metadata": {},
   "source": [
    "### Dataset 4: UK-UAberdeen-MorayFirth-202001_1092-112 (seismic)\n",
    "\n",
    "Definition of all the paths of all folders with the raw annotation and audio files for this deployment."
   ]
  },
  {
   "cell_type": "code",
   "execution_count": 11,
   "metadata": {},
   "outputs": [],
   "source": [
    "audio_dir = r'C:\\Users\\xavier.mouy\\Documents\\GitHub\\minke-whale-dataset\\datasets\\UK-UAberdeen-MorayFirth-202001_1092-112'\n",
    "deployment_file = r'deployment_info.csv' \n",
    "file_ext = 'wav'\n",
    "\n",
    "annot_dur_sec = 60  # duration of the noise annotations in seconds\n",
    "label_class = 'NN'  # label to use for the noise class\n",
    "label_subclass = 'S' # label to use for the noise subclass (if needed, e.g. S for seismic airguns)"
   ]
  },
  {
   "cell_type": "raw",
   "metadata": {},
   "source": [
    "Now we can create annotations for all audio files in that folder."
   ]
  },
  {
   "cell_type": "code",
   "execution_count": 14,
   "metadata": {
    "scrolled": true
   },
   "outputs": [
    {
     "name": "stdout",
     "output_type": "stream",
     "text": [
      "Depl1092_1678036995.200101014914.wav\n",
      "Depl1092_1678036995.200104224914.wav\n",
      "Depl1092_1678036995.200104234914.wav\n",
      "Depl1092_1678036995.200111084914.wav\n",
      "Depl1092_1678036995.200119004914.wav\n",
      "Depl1092_1678036995.200119034914.wav\n",
      "Depl1092_1678036995.200121014914.wav\n",
      "Depl1092_1678036995.200121214914.wav\n",
      "Depl1092_1678036995.200124014914.wav\n",
      "Depl1092_1678036995.200124164914.wav\n",
      "Depl1092_1678036995.200125184914.wav\n",
      "Depl1092_1678036995.200125214914.wav\n",
      "Depl1092_1678036995.200128064914.wav\n",
      "Depl1092_1678036995.200128134914.wav\n",
      "Depl1092_1678036995.200128144914.wav\n",
      "Depl1092_1678036995.200201214914.wav\n",
      "Depl1092_1678036995.200204224914.wav\n",
      "Depl1092_1678036995.200206004914.wav\n",
      "Depl1092_1678036995.200213004914.wav\n",
      "Depl1092_1678036995.200213024914.wav\n",
      "Depl1092_1678036995.200213084914.wav\n",
      "Depl1092_1678036995.200226104914.wav\n",
      "Depl1092_1678036995.200226124914.wav\n",
      "Depl1092_1678036995.200227004914.wav\n"
     ]
    }
   ],
   "source": [
    "annot = create_noise_annot(audio_dir, deployment_file, file_ext, annot_dur_sec, label_class, label_subclass)"
   ]
  },
  {
   "cell_type": "markdown",
   "metadata": {},
   "source": [
    "Let's look at the summary of annotations that were created:"
   ]
  },
  {
   "cell_type": "code",
   "execution_count": 15,
   "metadata": {},
   "outputs": [
    {
     "data": {
      "text/html": [
       "<div>\n",
       "<style scoped>\n",
       "    .dataframe tbody tr th:only-of-type {\n",
       "        vertical-align: middle;\n",
       "    }\n",
       "\n",
       "    .dataframe tbody tr th {\n",
       "        vertical-align: top;\n",
       "    }\n",
       "\n",
       "    .dataframe thead th {\n",
       "        text-align: right;\n",
       "    }\n",
       "</style>\n",
       "<table border=\"1\" class=\"dataframe\">\n",
       "  <thead>\n",
       "    <tr style=\"text-align: right;\">\n",
       "      <th>label_class</th>\n",
       "      <th>NN</th>\n",
       "      <th>Total</th>\n",
       "    </tr>\n",
       "    <tr>\n",
       "      <th>deployment_ID</th>\n",
       "      <th></th>\n",
       "      <th></th>\n",
       "    </tr>\n",
       "  </thead>\n",
       "  <tbody>\n",
       "    <tr>\n",
       "      <th>UK-UAberdeen-MorayFirth-202001_1092-112</th>\n",
       "      <td>216</td>\n",
       "      <td>216</td>\n",
       "    </tr>\n",
       "    <tr>\n",
       "      <th>Total</th>\n",
       "      <td>216</td>\n",
       "      <td>216</td>\n",
       "    </tr>\n",
       "  </tbody>\n",
       "</table>\n",
       "</div>"
      ],
      "text/plain": [
       "label_class                               NN  Total\n",
       "deployment_ID                                      \n",
       "UK-UAberdeen-MorayFirth-202001_1092-112  216    216\n",
       "Total                                    216    216"
      ]
     },
     "execution_count": 15,
     "metadata": {},
     "output_type": "execute_result"
    }
   ],
   "source": [
    "annot.summary()"
   ]
  },
  {
   "cell_type": "markdown",
   "metadata": {},
   "source": [
    "The dataset can now be saved as a Raven annotation file and netcdf4 file:"
   ]
  },
  {
   "cell_type": "code",
   "execution_count": 16,
   "metadata": {},
   "outputs": [],
   "source": [
    "annot.to_netcdf(os.path.join(audio_dir, 'Annotations_dataset_' + annot.data['deployment_ID'][0] +' annotations.nc'))\n",
    "annot.to_raven(audio_dir, outfile='Annotations_dataset_' + annot.data['deployment_ID'][0] +'.Table.1.selections.txt', single_file=True)"
   ]
  },
  {
   "cell_type": "markdown",
   "metadata": {},
   "source": [
    "### Dataset 5: UK-UAberdeen-MorayFirth-202001_1093-164 (seismic)\n",
    "\n",
    "Definition of all the paths of all folders with the raw annotation and audio files for this deployment."
   ]
  },
  {
   "cell_type": "code",
   "execution_count": 17,
   "metadata": {},
   "outputs": [],
   "source": [
    "audio_dir = r'C:\\Users\\xavier.mouy\\Documents\\GitHub\\minke-whale-dataset\\datasets\\UK-UAberdeen-MorayFirth-202001_1093-164'\n",
    "deployment_file = r'deployment_info.csv' \n",
    "file_ext = 'wav'\n",
    "\n",
    "annot_dur_sec = 60  # duration of the noise annotations in seconds\n",
    "label_class = 'NN'  # label to use for the noise class\n",
    "label_subclass = 'S' # label to use for the noise subclass (if needed, e.g. S for seismic airguns)"
   ]
  },
  {
   "cell_type": "raw",
   "metadata": {},
   "source": [
    "Now we can create annotations for all audio files in that folder."
   ]
  },
  {
   "cell_type": "code",
   "execution_count": 18,
   "metadata": {
    "scrolled": true
   },
   "outputs": [
    {
     "name": "stdout",
     "output_type": "stream",
     "text": [
      "Depl1093_1677725722.200104205913.wav\n",
      "Depl1093_1677725722.200110095913.wav\n",
      "Depl1093_1677725722.200110115913.wav\n",
      "Depl1093_1677725722.200111205913.wav\n",
      "Depl1093_1677725722.200119035913.wav\n",
      "Depl1093_1677725722.200121195913.wav\n",
      "Depl1093_1677725722.200121235913.wav\n",
      "Depl1093_1677725722.200123235913.wav\n",
      "Depl1093_1677725722.200124025913.wav\n",
      "Depl1093_1677725722.200124165913.wav\n",
      "Depl1093_1677725722.200126065913.wav\n",
      "Depl1093_1677725722.200126095913.wav\n",
      "Depl1093_1677725722.200128135913.wav\n",
      "Depl1093_1677725722.200130015913.wav\n",
      "Depl1093_1677725722.200131095913.wav\n",
      "Depl1093_1677725722.200201185913.wav\n",
      "Depl1093_1677725722.200202025913.wav\n",
      "Depl1093_1677725722.200204195913.wav\n",
      "Depl1093_1677725722.200205085913.wav\n",
      "Depl1093_1677725722.200205095913.wav\n",
      "Depl1093_1677725722.200205235913.wav\n",
      "Depl1093_1677725722.200206015913.wav\n",
      "Depl1093_1677725722.200213005913.wav\n",
      "Depl1093_1677725722.200213015913.wav\n",
      "Depl1093_1677725722.200226235913.wav\n"
     ]
    }
   ],
   "source": [
    "annot = create_noise_annot(audio_dir, deployment_file, file_ext, annot_dur_sec, label_class, label_subclass)"
   ]
  },
  {
   "cell_type": "markdown",
   "metadata": {},
   "source": [
    "Let's look at the summary of annotations that were created:"
   ]
  },
  {
   "cell_type": "code",
   "execution_count": 19,
   "metadata": {
    "scrolled": true
   },
   "outputs": [
    {
     "data": {
      "text/html": [
       "<div>\n",
       "<style scoped>\n",
       "    .dataframe tbody tr th:only-of-type {\n",
       "        vertical-align: middle;\n",
       "    }\n",
       "\n",
       "    .dataframe tbody tr th {\n",
       "        vertical-align: top;\n",
       "    }\n",
       "\n",
       "    .dataframe thead th {\n",
       "        text-align: right;\n",
       "    }\n",
       "</style>\n",
       "<table border=\"1\" class=\"dataframe\">\n",
       "  <thead>\n",
       "    <tr style=\"text-align: right;\">\n",
       "      <th>label_class</th>\n",
       "      <th>NN</th>\n",
       "      <th>Total</th>\n",
       "    </tr>\n",
       "    <tr>\n",
       "      <th>deployment_ID</th>\n",
       "      <th></th>\n",
       "      <th></th>\n",
       "    </tr>\n",
       "  </thead>\n",
       "  <tbody>\n",
       "    <tr>\n",
       "      <th>UK-UAberdeen-MorayFirth-202001_1093-164</th>\n",
       "      <td>225</td>\n",
       "      <td>225</td>\n",
       "    </tr>\n",
       "    <tr>\n",
       "      <th>Total</th>\n",
       "      <td>225</td>\n",
       "      <td>225</td>\n",
       "    </tr>\n",
       "  </tbody>\n",
       "</table>\n",
       "</div>"
      ],
      "text/plain": [
       "label_class                               NN  Total\n",
       "deployment_ID                                      \n",
       "UK-UAberdeen-MorayFirth-202001_1093-164  225    225\n",
       "Total                                    225    225"
      ]
     },
     "execution_count": 19,
     "metadata": {},
     "output_type": "execute_result"
    }
   ],
   "source": [
    "annot.summary()"
   ]
  },
  {
   "cell_type": "markdown",
   "metadata": {},
   "source": [
    "The dataset can now be saved as a Raven annotation file and netcdf4 file:"
   ]
  },
  {
   "cell_type": "code",
   "execution_count": 20,
   "metadata": {},
   "outputs": [],
   "source": [
    "annot.to_netcdf(os.path.join(audio_dir, 'Annotations_dataset_' + annot.data['deployment_ID'][0] +' annotations.nc'))\n",
    "annot.to_raven(audio_dir, outfile='Annotations_dataset_' + annot.data['deployment_ID'][0] +'.Table.1.selections.txt', single_file=True)"
   ]
  },
  {
   "cell_type": "markdown",
   "metadata": {},
   "source": [
    "### Dataset 6: UK-UAberdeen-MorayFirth-202101_1136-164\n",
    "\n",
    "Definition of all the paths of all folders with the raw annotation and audio files for this deployment."
   ]
  },
  {
   "cell_type": "code",
   "execution_count": 22,
   "metadata": {},
   "outputs": [],
   "source": [
    "audio_dir = r'C:\\Users\\xavier.mouy\\Documents\\GitHub\\minke-whale-dataset\\datasets\\UK-UAberdeen-MorayFirth-202101_1136-164'\n",
    "deployment_file = r'deployment_info.csv' \n",
    "file_ext = 'wav'\n",
    "\n",
    "annot_dur_sec = 60  # duration of the noise annotations in seconds\n",
    "label_class = 'NN'  # label to use for the noise class\n",
    "label_subclass = '' # label to use for the noise subclass (if needed, e.g. S for seismic airguns)"
   ]
  },
  {
   "cell_type": "raw",
   "metadata": {},
   "source": [
    "Now we can create annotations for all audio files in that folder."
   ]
  },
  {
   "cell_type": "code",
   "execution_count": 23,
   "metadata": {
    "scrolled": true
   },
   "outputs": [
    {
     "name": "stdout",
     "output_type": "stream",
     "text": [
      "Depl1136_1677725722.210102130002.wav\n",
      "Depl1136_1677725722.210103230002.wav\n",
      "Depl1136_1677725722.210105030002.wav\n",
      "Depl1136_1677725722.210105110002.wav\n",
      "Depl1136_1677725722.210119110002.wav\n",
      "Depl1136_1677725722.210119180002.wav\n",
      "Depl1136_1677725722.210208180002.wav\n",
      "Depl1136_1677725722.210216140002.wav\n",
      "Depl1136_1677725722.210216170002.wav\n",
      "Depl1136_1677725722.210217150002.wav\n",
      "Depl1136_1677725722.210220090002.wav\n",
      "Depl1136_1677725722.210221010002.wav\n"
     ]
    }
   ],
   "source": [
    "annot = create_noise_annot(audio_dir, deployment_file, file_ext, annot_dur_sec, label_class, label_subclass)"
   ]
  },
  {
   "cell_type": "markdown",
   "metadata": {},
   "source": [
    "Let's look at the summary of annotations that were created:"
   ]
  },
  {
   "cell_type": "code",
   "execution_count": 24,
   "metadata": {
    "scrolled": true
   },
   "outputs": [
    {
     "data": {
      "text/html": [
       "<div>\n",
       "<style scoped>\n",
       "    .dataframe tbody tr th:only-of-type {\n",
       "        vertical-align: middle;\n",
       "    }\n",
       "\n",
       "    .dataframe tbody tr th {\n",
       "        vertical-align: top;\n",
       "    }\n",
       "\n",
       "    .dataframe thead th {\n",
       "        text-align: right;\n",
       "    }\n",
       "</style>\n",
       "<table border=\"1\" class=\"dataframe\">\n",
       "  <thead>\n",
       "    <tr style=\"text-align: right;\">\n",
       "      <th>label_class</th>\n",
       "      <th>NN</th>\n",
       "      <th>Total</th>\n",
       "    </tr>\n",
       "    <tr>\n",
       "      <th>deployment_ID</th>\n",
       "      <th></th>\n",
       "      <th></th>\n",
       "    </tr>\n",
       "  </thead>\n",
       "  <tbody>\n",
       "    <tr>\n",
       "      <th>UK-UAberdeen-MorayFirth-202101_1136-164</th>\n",
       "      <td>108</td>\n",
       "      <td>108</td>\n",
       "    </tr>\n",
       "    <tr>\n",
       "      <th>Total</th>\n",
       "      <td>108</td>\n",
       "      <td>108</td>\n",
       "    </tr>\n",
       "  </tbody>\n",
       "</table>\n",
       "</div>"
      ],
      "text/plain": [
       "label_class                               NN  Total\n",
       "deployment_ID                                      \n",
       "UK-UAberdeen-MorayFirth-202101_1136-164  108    108\n",
       "Total                                    108    108"
      ]
     },
     "execution_count": 24,
     "metadata": {},
     "output_type": "execute_result"
    }
   ],
   "source": [
    "annot.summary()"
   ]
  },
  {
   "cell_type": "markdown",
   "metadata": {},
   "source": [
    "The dataset can now be saved as a Raven annotation file and netcdf4 file:"
   ]
  },
  {
   "cell_type": "code",
   "execution_count": 25,
   "metadata": {},
   "outputs": [],
   "source": [
    "annot.to_netcdf(os.path.join(audio_dir, 'Annotations_dataset_' + annot.data['deployment_ID'][0] +' annotations.nc'))\n",
    "annot.to_raven(audio_dir, outfile='Annotations_dataset_' + annot.data['deployment_ID'][0] +'.Table.1.selections.txt', single_file=True)"
   ]
  },
  {
   "cell_type": "markdown",
   "metadata": {},
   "source": [
    "### Dataset 7: UK-UAberdeen-MorayFirth-202101_1137-112\n",
    "\n",
    "Definition of all the paths of all folders with the raw annotation and audio files for this deployment."
   ]
  },
  {
   "cell_type": "code",
   "execution_count": 27,
   "metadata": {},
   "outputs": [],
   "source": [
    "audio_dir = r'C:\\Users\\xavier.mouy\\Documents\\GitHub\\minke-whale-dataset\\datasets\\UK-UAberdeen-MorayFirth-202101_1137-112'\n",
    "deployment_file = r'deployment_info.csv' \n",
    "file_ext = 'wav'\n",
    "\n",
    "annot_dur_sec = 60  # duration of the noise annotations in seconds\n",
    "label_class = 'NN'  # label to use for the noise class\n",
    "label_subclass = '' # label to use for the noise subclass (if needed, e.g. S for seismic airguns)"
   ]
  },
  {
   "cell_type": "raw",
   "metadata": {},
   "source": [
    "Now we can create annotations for all audio files in that folder."
   ]
  },
  {
   "cell_type": "code",
   "execution_count": 28,
   "metadata": {
    "scrolled": true
   },
   "outputs": [
    {
     "name": "stdout",
     "output_type": "stream",
     "text": [
      "Depl1137_1678508072.210107040002.wav\n",
      "Depl1137_1678508072.210108160002.wav\n",
      "Depl1137_1678508072.210113150002.wav\n",
      "Depl1137_1678508072.210114040002.wav\n",
      "Depl1137_1678508072.210116170002.wav\n",
      "Depl1137_1678508072.210119040002.wav\n",
      "Depl1137_1678508072.210122000002.wav\n",
      "Depl1137_1678508072.210123040002.wav\n",
      "Depl1137_1678508072.210123120002.wav\n",
      "Depl1137_1678508072.210208160002.wav\n",
      "Depl1137_1678508072.210211200002.wav\n",
      "Depl1137_1678508072.210213110002.wav\n"
     ]
    }
   ],
   "source": [
    "annot = create_noise_annot(audio_dir, deployment_file, file_ext, annot_dur_sec, label_class, label_subclass)"
   ]
  },
  {
   "cell_type": "markdown",
   "metadata": {},
   "source": [
    "Let's look at the summary of annotations that were created:"
   ]
  },
  {
   "cell_type": "code",
   "execution_count": 29,
   "metadata": {
    "scrolled": true
   },
   "outputs": [
    {
     "data": {
      "text/html": [
       "<div>\n",
       "<style scoped>\n",
       "    .dataframe tbody tr th:only-of-type {\n",
       "        vertical-align: middle;\n",
       "    }\n",
       "\n",
       "    .dataframe tbody tr th {\n",
       "        vertical-align: top;\n",
       "    }\n",
       "\n",
       "    .dataframe thead th {\n",
       "        text-align: right;\n",
       "    }\n",
       "</style>\n",
       "<table border=\"1\" class=\"dataframe\">\n",
       "  <thead>\n",
       "    <tr style=\"text-align: right;\">\n",
       "      <th>label_class</th>\n",
       "      <th>NN</th>\n",
       "      <th>Total</th>\n",
       "    </tr>\n",
       "    <tr>\n",
       "      <th>deployment_ID</th>\n",
       "      <th></th>\n",
       "      <th></th>\n",
       "    </tr>\n",
       "  </thead>\n",
       "  <tbody>\n",
       "    <tr>\n",
       "      <th>UK-UAberdeen-MorayFirth-202101_1137-112</th>\n",
       "      <td>108</td>\n",
       "      <td>108</td>\n",
       "    </tr>\n",
       "    <tr>\n",
       "      <th>Total</th>\n",
       "      <td>108</td>\n",
       "      <td>108</td>\n",
       "    </tr>\n",
       "  </tbody>\n",
       "</table>\n",
       "</div>"
      ],
      "text/plain": [
       "label_class                               NN  Total\n",
       "deployment_ID                                      \n",
       "UK-UAberdeen-MorayFirth-202101_1137-112  108    108\n",
       "Total                                    108    108"
      ]
     },
     "execution_count": 29,
     "metadata": {},
     "output_type": "execute_result"
    }
   ],
   "source": [
    "annot.summary()"
   ]
  },
  {
   "cell_type": "markdown",
   "metadata": {},
   "source": [
    "The dataset can now be saved as a Raven annotation file and netcdf4 file:"
   ]
  },
  {
   "cell_type": "code",
   "execution_count": 30,
   "metadata": {},
   "outputs": [],
   "source": [
    "annot.to_netcdf(os.path.join(audio_dir, 'Annotations_dataset_' + annot.data['deployment_ID'][0] +' annotations.nc'))\n",
    "annot.to_raven(audio_dir, outfile='Annotations_dataset_' + annot.data['deployment_ID'][0] +'.Table.1.selections.txt', single_file=True)"
   ]
  },
  {
   "cell_type": "code",
   "execution_count": null,
   "metadata": {},
   "outputs": [],
   "source": []
  }
 ],
 "metadata": {
  "kernelspec": {
   "display_name": "Python 3 (ipykernel)",
   "language": "python",
   "name": "python3"
  },
  "language_info": {
   "codemirror_mode": {
    "name": "ipython",
    "version": 3
   },
   "file_extension": ".py",
   "mimetype": "text/x-python",
   "name": "python",
   "nbconvert_exporter": "python",
   "pygments_lexer": "ipython3",
   "version": "3.8.12"
  }
 },
 "nbformat": 4,
 "nbformat_minor": 4
}
