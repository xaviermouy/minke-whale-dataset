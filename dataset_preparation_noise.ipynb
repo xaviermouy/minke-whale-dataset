{
 "cells": [
  {
   "cell_type": "markdown",
   "metadata": {},
   "source": [
    "# Creation of annotations from unannotated noise recordings\n",
    "\n",
    "\n",
    "## Purpose of this notebook\n",
    "This notebook describes the steps involved in automatically creating noise annotations from non-annotated noise recordings. This notebook is used for creating noise annotations from data provided by the Universty of Aberdeen in Scotland.\n",
    "\n",
    "Annotations are made by breaking down the recording into adjacent annotations of a given duration until the end of the file. Min and max frequency of the annotations are 0 Hz and the Nyquist frequency, respectively.\n",
    "\n",
    "## Deployment folders\n",
    "\n",
    "The data provided were separated into folders corresponding to different deployments. As a result, 7 folders were created:\n",
    "\n",
    "- UK-UAberdeen-MorayFirth-201904_986-110\n",
    "- UK-UAberdeen-MorayFirth-201904_1027-235\n",
    "- UK-UAberdeen-MorayFirth-201904_1029-237\n",
    "- UK-UAberdeen-MorayFirth-202001_1092-112\n",
    "- UK-UAberdeen-MorayFirth-202001_1093-164\n",
    "- UK-UAberdeen-MorayFirth-202101_1136-164\n",
    "- UK-UAberdeen-MorayFirth-202101_1137-112\n",
    "\n",
    "A deployment_info.csv file was created in each of these folders and contains the metadata for each deployment.\n",
    "\n",
    "![noise_scotland_folders.png](img/noise_scotland_folders.png)\n"
   ]
  },
  {
   "cell_type": "markdown",
   "metadata": {},
   "source": [
    "## Import libraries and define functions used throughout"
   ]
  },
  {
   "cell_type": "code",
   "execution_count": 134,
   "metadata": {},
   "outputs": [],
   "source": [
    "from ecosound.core.annotation import Annotation\n",
    "from ecosound.core.metadata import DeploymentInfo\n",
    "from ecosound.core.audiotools import Sound\n",
    "from ecosound.core.tools import filename_to_datetime\n",
    "import ecosound.core.decorators\n",
    "import os\n",
    "import re\n",
    "import pandas as pd\n",
    "import numpy as np\n",
    "import uuid\n",
    "from datetime import datetime\n",
    "\n",
    "@ecosound.core.decorators.listinput\n",
    "def filename_to_datetime2(files):\n",
    "    pattern ={\"string_pattern\":\"_[0-9]{6}_[0-9]{6}.\",\"time_format\":\"_%y%m%d_%H%M%S.\"}            \n",
    "    p = re.compile(pattern[\"string_pattern\"])\n",
    "    \n",
    "    timestamps = [None] * len(files)\n",
    "    for idx, file in enumerate(files):\n",
    "        datestr = p.search(file)\n",
    "        timestamps[idx] = datetime.strptime(datestr[0], pattern[\"time_format\"])               \n",
    "    return timestamps\n",
    "\n",
    "@ecosound.core.decorators.listinput\n",
    "def filename_to_datetime3(files):\n",
    "    pattern ={\"string_pattern\":\"_[0-9]{8}_[0-9]{6}\",\"time_format\":\"_%Y%m%d_%H%M%S\"}            \n",
    "    p = re.compile(pattern[\"string_pattern\"])\n",
    "    \n",
    "    timestamps = [None] * len(files)\n",
    "    for idx, file in enumerate(files):\n",
    "        datestr = p.search(file)\n",
    "        timestamps[idx] = datetime.strptime(datestr[0], pattern[\"time_format\"])               \n",
    "    return timestamps\n",
    "\n",
    "@ecosound.core.decorators.listinput\n",
    "def filename_to_datetime4(files):\n",
    "    #_2021-05-08_20-00-04\n",
    "    pattern ={\"string_pattern\":\"_[0-9]{4}-[0-9]{2}-[0-9]{2}_[0-9]{2}-[0-9]{2}-[0-9]{2}\",\"time_format\":\"_%Y-%m-%d_%H-%M-%S\"}            \n",
    "    p = re.compile(pattern[\"string_pattern\"])\n",
    "    timestamps = [None] * len(files)\n",
    "    for idx, file in enumerate(files):\n",
    "        datestr = p.search(file)\n",
    "        timestamps[idx] = datetime.strptime(datestr[0], pattern[\"time_format\"])               \n",
    "    return timestamps\n",
    "\n",
    "def create_noise_annot(audio_dir, deployment_file, file_ext, annot_dur_sec, label_class, label_subclass):\n",
    "    files_list = os.listdir(audio_dir)\n",
    "    annot_stack = []\n",
    "    for file in files_list:\n",
    "        if file.endswith(file_ext):\n",
    "            print(file)\n",
    "            # retrieve file start date and time\n",
    "            try:\n",
    "                file_timestamp = filename_to_datetime(file)\n",
    "            except:\n",
    "                try:\n",
    "                    file_timestamp = filename_to_datetime2(file)\n",
    "                except:\n",
    "                    try:\n",
    "                        file_timestamp = filename_to_datetime3(file)\n",
    "                    except:\n",
    "                        file_timestamp = filename_to_datetime4(file)\n",
    "            \n",
    "\n",
    "            # retrieve file duration\n",
    "            audio = Sound(os.path.join(audio_dir, file))\n",
    "            file_dur = audio.file_duration_sec\n",
    "\n",
    "            # define annotations start times (relative to start begining of the audio file)\n",
    "            t1 = np.arange(0, file_dur, annot_dur_sec)\n",
    "            t2 = t1[1:]\n",
    "            t2 = np.append(t2, file_dur)            \n",
    "            # makes sure the last annotation is longer than value defined by the user (annot_dur_sec)\n",
    "            if len(t1)>1:\n",
    "                if t2[-1]-t1[-1] < annot_dur_sec:\n",
    "                    t1 = np.delete(t1, -1)\n",
    "                    t2 = np.delete(t2, -2)\n",
    "            else:\n",
    "                if t2 > annot_dur_sec:\n",
    "                    t2 = annot_dur_sec\n",
    "            #print(t1)\n",
    "            #print(t2)\n",
    "\n",
    "            # create the annotatiom object\n",
    "            annot = Annotation()\n",
    "\n",
    "            annot.data['time_min_offset'] = t1\n",
    "            annot.data['time_max_offset'] = t2\n",
    "            annot.insert_values(audio_file_start_date=file_timestamp[0])\n",
    "            annot.data['time_min_date'] = pd.to_datetime(\n",
    "                annot.data['audio_file_start_date'] + pd.to_timedelta(\n",
    "                    annot.data['time_min_offset'], unit='s'))\n",
    "            annot.data['time_max_date'] = pd.to_datetime(\n",
    "                annot.data['audio_file_start_date'] +\n",
    "                pd.to_timedelta(annot.data['time_max_offset'], unit='s'))\n",
    "            annot.insert_values(audio_channel=1)\n",
    "            annot.insert_values(audio_file_name=os.path.splitext(os.path.basename(file))[0])\n",
    "            annot.insert_values(audio_file_dir=audio_dir)\n",
    "            annot.insert_values(audio_file_extension=os.path.splitext(file)[1])\n",
    "            annot.insert_values(frequency_min=0)\n",
    "            annot.insert_values(software_version=0)\n",
    "            annot.insert_values(operator_name='xavier')\n",
    "            annot.insert_values(entry_date=datetime.now())\n",
    "            annot.insert_values(frequency_max=audio.file_sampling_frequency/2)\n",
    "            annot.insert_values(label_class=label_class)\n",
    "            annot.insert_values(label_subclass=label_subclass)\n",
    "            annot.insert_values(from_detector=False)\n",
    "            annot.insert_values(software_name='custom_python')\n",
    "            annot.data['uuid'] = annot.data.apply(lambda _: str(uuid.uuid4()), axis=1)\n",
    "            annot.data['duration'] = annot.data['time_max_offset'] - annot.data['time_min_offset']        \n",
    "            # add metadata            \n",
    "            annot.insert_metadata(os.path.join(audio_dir, deployment_file)) \n",
    "            \n",
    "            # stack annotatiosn for each file\n",
    "            annot_stack.append(annot)\n",
    "            # check that evrything looks fine\n",
    "            annot.check_integrity(verbose=False, ignore_frequency_duplicates=True)\n",
    "\n",
    "    # concatenate all annotations\n",
    "    annot_concat = annot_stack[0]\n",
    "    for an_idx in range(1, len(annot_stack)):\n",
    "        annot_concat = annot_concat + annot_stack[an_idx]\n",
    "    annot_concat.check_integrity(verbose=False, ignore_frequency_duplicates=True)\n",
    "    return annot_concat"
   ]
  },
  {
   "cell_type": "markdown",
   "metadata": {},
   "source": [
    "### Dataset 1: UK-UAberdeen-MorayFirth-201904_986-110\n",
    "\n",
    "Definition of all the paths of all folders with the raw annotation and audio files for this deployment."
   ]
  },
  {
   "cell_type": "code",
   "execution_count": 31,
   "metadata": {},
   "outputs": [],
   "source": [
    "audio_dir = r'C:\\Users\\xavier.mouy\\Documents\\GitHub\\minke-whale-dataset\\datasets\\UK-UAberdeen-MorayFirth-201904_986-110'\n",
    "deployment_file = r'deployment_info.csv' \n",
    "file_ext = 'wav'\n",
    "\n",
    "annot_dur_sec = 60  # duration of the noise annotations in seconds\n",
    "label_class = 'NN'  # label to use for the noise class\n",
    "label_subclass = '' # label to use for the noise subclass (if needed, e.g. S for seismic airguns)"
   ]
  },
  {
   "cell_type": "raw",
   "metadata": {},
   "source": [
    "Now we can create annotations for all audio files in that folder."
   ]
  },
  {
   "cell_type": "code",
   "execution_count": 32,
   "metadata": {},
   "outputs": [
    {
     "name": "stdout",
     "output_type": "stream",
     "text": [
      "Depl986_1678036995.190402110017.wav\n",
      "Depl986_1678036995.190406225930.wav\n",
      "Depl986_1678036995.190410165901.wav\n"
     ]
    }
   ],
   "source": [
    "annot = create_noise_annot(audio_dir, deployment_file, file_ext, annot_dur_sec, label_class, label_subclass)"
   ]
  },
  {
   "cell_type": "markdown",
   "metadata": {},
   "source": [
    "Let's look at the summary of annotations that were created:"
   ]
  },
  {
   "cell_type": "code",
   "execution_count": 33,
   "metadata": {},
   "outputs": [
    {
     "data": {
      "text/html": [
       "<div>\n",
       "<style scoped>\n",
       "    .dataframe tbody tr th:only-of-type {\n",
       "        vertical-align: middle;\n",
       "    }\n",
       "\n",
       "    .dataframe tbody tr th {\n",
       "        vertical-align: top;\n",
       "    }\n",
       "\n",
       "    .dataframe thead th {\n",
       "        text-align: right;\n",
       "    }\n",
       "</style>\n",
       "<table border=\"1\" class=\"dataframe\">\n",
       "  <thead>\n",
       "    <tr style=\"text-align: right;\">\n",
       "      <th>label_class</th>\n",
       "      <th>NN</th>\n",
       "      <th>Total</th>\n",
       "    </tr>\n",
       "    <tr>\n",
       "      <th>deployment_ID</th>\n",
       "      <th></th>\n",
       "      <th></th>\n",
       "    </tr>\n",
       "  </thead>\n",
       "  <tbody>\n",
       "    <tr>\n",
       "      <th>UK-UAberdeen-MorayFirth-201904_986-110</th>\n",
       "      <td>90</td>\n",
       "      <td>90</td>\n",
       "    </tr>\n",
       "    <tr>\n",
       "      <th>Total</th>\n",
       "      <td>90</td>\n",
       "      <td>90</td>\n",
       "    </tr>\n",
       "  </tbody>\n",
       "</table>\n",
       "</div>"
      ],
      "text/plain": [
       "label_class                             NN  Total\n",
       "deployment_ID                                    \n",
       "UK-UAberdeen-MorayFirth-201904_986-110  90     90\n",
       "Total                                   90     90"
      ]
     },
     "execution_count": 33,
     "metadata": {},
     "output_type": "execute_result"
    }
   ],
   "source": [
    "annot.summary()"
   ]
  },
  {
   "cell_type": "markdown",
   "metadata": {},
   "source": [
    "The dataset can now be saved as a Raven annotation file and netcdf4 file:"
   ]
  },
  {
   "cell_type": "code",
   "execution_count": null,
   "metadata": {},
   "outputs": [],
   "source": [
    "annot.to_netcdf(os.path.join(audio_dir, 'Annotations_dataset_' + annot.data['deployment_ID'][0] +' annotations.nc'))\n",
    "annot.to_raven(audio_dir, outfile='Annotations_dataset_' + annot.data['deployment_ID'][0] +'.Table.1.selections.txt', single_file=True)"
   ]
  },
  {
   "cell_type": "markdown",
   "metadata": {},
   "source": [
    "Here is what the annotations look like in Raven:\n",
    "\n",
    "![noiseScotland.png](img/noiseScotland.png)\n"
   ]
  },
  {
   "cell_type": "markdown",
   "metadata": {},
   "source": [
    "### Dataset 2: UK-UAberdeen-MorayFirth-201904_1027-235\n",
    "\n",
    "Definition of all the paths of all folders with the raw annotation and audio files for this deployment."
   ]
  },
  {
   "cell_type": "code",
   "execution_count": 34,
   "metadata": {},
   "outputs": [],
   "source": [
    "audio_dir = r'C:\\Users\\xavier.mouy\\Documents\\GitHub\\minke-whale-dataset\\datasets\\UK-UAberdeen-MorayFirth-201904_1027-235'\n",
    "deployment_file = r'deployment_info.csv' \n",
    "file_ext = 'wav'\n",
    "\n",
    "annot_dur_sec = 60  # duration of the noise annotations in seconds\n",
    "label_class = 'NN'  # label to use for the noise class\n",
    "label_subclass = '' # label to use for the noise subclass (if needed, e.g. S for seismic airguns)"
   ]
  },
  {
   "cell_type": "raw",
   "metadata": {},
   "source": [
    "Now we can create annotations for all audio files in that folder."
   ]
  },
  {
   "cell_type": "code",
   "execution_count": 35,
   "metadata": {},
   "outputs": [
    {
     "name": "stdout",
     "output_type": "stream",
     "text": [
      "Depl1027_1677725722.190403115956.wav\n",
      "Depl1027_1677725722.190411055855.wav\n",
      "Depl1027_1677725722.190415235822.wav\n"
     ]
    }
   ],
   "source": [
    "annot = create_noise_annot(audio_dir, deployment_file, file_ext, annot_dur_sec, label_class, label_subclass)"
   ]
  },
  {
   "cell_type": "markdown",
   "metadata": {},
   "source": [
    "Let's look at the summary of annotations that were created:"
   ]
  },
  {
   "cell_type": "code",
   "execution_count": 36,
   "metadata": {},
   "outputs": [
    {
     "data": {
      "text/html": [
       "<div>\n",
       "<style scoped>\n",
       "    .dataframe tbody tr th:only-of-type {\n",
       "        vertical-align: middle;\n",
       "    }\n",
       "\n",
       "    .dataframe tbody tr th {\n",
       "        vertical-align: top;\n",
       "    }\n",
       "\n",
       "    .dataframe thead th {\n",
       "        text-align: right;\n",
       "    }\n",
       "</style>\n",
       "<table border=\"1\" class=\"dataframe\">\n",
       "  <thead>\n",
       "    <tr style=\"text-align: right;\">\n",
       "      <th>label_class</th>\n",
       "      <th>NN</th>\n",
       "      <th>Total</th>\n",
       "    </tr>\n",
       "    <tr>\n",
       "      <th>deployment_ID</th>\n",
       "      <th></th>\n",
       "      <th></th>\n",
       "    </tr>\n",
       "  </thead>\n",
       "  <tbody>\n",
       "    <tr>\n",
       "      <th>UK-UAberdeen-MorayFirth-201904_1027-235</th>\n",
       "      <td>90</td>\n",
       "      <td>90</td>\n",
       "    </tr>\n",
       "    <tr>\n",
       "      <th>Total</th>\n",
       "      <td>90</td>\n",
       "      <td>90</td>\n",
       "    </tr>\n",
       "  </tbody>\n",
       "</table>\n",
       "</div>"
      ],
      "text/plain": [
       "label_class                              NN  Total\n",
       "deployment_ID                                     \n",
       "UK-UAberdeen-MorayFirth-201904_1027-235  90     90\n",
       "Total                                    90     90"
      ]
     },
     "execution_count": 36,
     "metadata": {},
     "output_type": "execute_result"
    }
   ],
   "source": [
    "annot.summary()"
   ]
  },
  {
   "cell_type": "markdown",
   "metadata": {},
   "source": [
    "The dataset can now be saved as a Raven annotation file and netcdf4 file:"
   ]
  },
  {
   "cell_type": "code",
   "execution_count": 6,
   "metadata": {},
   "outputs": [],
   "source": [
    "annot.to_netcdf(os.path.join(audio_dir, 'Annotations_dataset_' + annot.data['deployment_ID'][0] +' annotations.nc'))\n",
    "annot.to_raven(audio_dir, outfile='Annotations_dataset_' + annot.data['deployment_ID'][0] +'.Table.1.selections.txt', single_file=True)"
   ]
  },
  {
   "cell_type": "markdown",
   "metadata": {},
   "source": [
    "### Dataset 3: UK-UAberdeen-MorayFirth-201904_1029-237\n",
    "\n",
    "Definition of all the paths of all folders with the raw annotation and audio files for this deployment."
   ]
  },
  {
   "cell_type": "code",
   "execution_count": 7,
   "metadata": {},
   "outputs": [],
   "source": [
    "audio_dir = r'C:\\Users\\xavier.mouy\\Documents\\GitHub\\minke-whale-dataset\\datasets\\UK-UAberdeen-MorayFirth-201904_1029-237'\n",
    "deployment_file = r'deployment_info.csv' \n",
    "file_ext = 'wav'\n",
    "\n",
    "annot_dur_sec = 60  # duration of the noise annotations in seconds\n",
    "label_class = 'NN'  # label to use for the noise class\n",
    "label_subclass = '' # label to use for the noise subclass (if needed, e.g. S for seismic airguns)"
   ]
  },
  {
   "cell_type": "raw",
   "metadata": {},
   "source": [
    "Now we can create annotations for all audio files in that folder."
   ]
  },
  {
   "cell_type": "code",
   "execution_count": 8,
   "metadata": {
    "scrolled": true
   },
   "outputs": [
    {
     "name": "stdout",
     "output_type": "stream",
     "text": [
      "Depl1029_134541352.190403235927.wav\n",
      "Depl1029_134541352.190404175922.wav\n",
      "Depl1029_134541352.190409115847.wav\n"
     ]
    }
   ],
   "source": [
    "annot = create_noise_annot(audio_dir, deployment_file, file_ext, annot_dur_sec, label_class, label_subclass)"
   ]
  },
  {
   "cell_type": "markdown",
   "metadata": {},
   "source": [
    "Let's look at the summary of annotations that were created:"
   ]
  },
  {
   "cell_type": "code",
   "execution_count": 9,
   "metadata": {},
   "outputs": [
    {
     "data": {
      "text/html": [
       "<div>\n",
       "<style scoped>\n",
       "    .dataframe tbody tr th:only-of-type {\n",
       "        vertical-align: middle;\n",
       "    }\n",
       "\n",
       "    .dataframe tbody tr th {\n",
       "        vertical-align: top;\n",
       "    }\n",
       "\n",
       "    .dataframe thead th {\n",
       "        text-align: right;\n",
       "    }\n",
       "</style>\n",
       "<table border=\"1\" class=\"dataframe\">\n",
       "  <thead>\n",
       "    <tr style=\"text-align: right;\">\n",
       "      <th>label_class</th>\n",
       "      <th>NN</th>\n",
       "      <th>Total</th>\n",
       "    </tr>\n",
       "    <tr>\n",
       "      <th>deployment_ID</th>\n",
       "      <th></th>\n",
       "      <th></th>\n",
       "    </tr>\n",
       "  </thead>\n",
       "  <tbody>\n",
       "    <tr>\n",
       "      <th>UK-UAberdeen-MorayFirth-201904_1029-237</th>\n",
       "      <td>90</td>\n",
       "      <td>90</td>\n",
       "    </tr>\n",
       "    <tr>\n",
       "      <th>Total</th>\n",
       "      <td>90</td>\n",
       "      <td>90</td>\n",
       "    </tr>\n",
       "  </tbody>\n",
       "</table>\n",
       "</div>"
      ],
      "text/plain": [
       "label_class                              NN  Total\n",
       "deployment_ID                                     \n",
       "UK-UAberdeen-MorayFirth-201904_1029-237  90     90\n",
       "Total                                    90     90"
      ]
     },
     "execution_count": 9,
     "metadata": {},
     "output_type": "execute_result"
    }
   ],
   "source": [
    "annot.summary()"
   ]
  },
  {
   "cell_type": "markdown",
   "metadata": {},
   "source": [
    "The dataset can now be saved as a Raven annotation file and netcdf4 file:"
   ]
  },
  {
   "cell_type": "code",
   "execution_count": 10,
   "metadata": {},
   "outputs": [],
   "source": [
    "annot.to_netcdf(os.path.join(audio_dir, 'Annotations_dataset_' + annot.data['deployment_ID'][0] +' annotations.nc'))\n",
    "annot.to_raven(audio_dir, outfile='Annotations_dataset_' + annot.data['deployment_ID'][0] +'.Table.1.selections.txt', single_file=True)"
   ]
  },
  {
   "cell_type": "markdown",
   "metadata": {},
   "source": [
    "### Dataset 4: UK-UAberdeen-MorayFirth-202001_1092-112 (seismic)\n",
    "\n",
    "Definition of all the paths of all folders with the raw annotation and audio files for this deployment."
   ]
  },
  {
   "cell_type": "code",
   "execution_count": 11,
   "metadata": {},
   "outputs": [],
   "source": [
    "audio_dir = r'C:\\Users\\xavier.mouy\\Documents\\GitHub\\minke-whale-dataset\\datasets\\UK-UAberdeen-MorayFirth-202001_1092-112'\n",
    "deployment_file = r'deployment_info.csv' \n",
    "file_ext = 'wav'\n",
    "\n",
    "annot_dur_sec = 60  # duration of the noise annotations in seconds\n",
    "label_class = 'NN'  # label to use for the noise class\n",
    "label_subclass = 'S' # label to use for the noise subclass (if needed, e.g. S for seismic airguns)"
   ]
  },
  {
   "cell_type": "raw",
   "metadata": {},
   "source": [
    "Now we can create annotations for all audio files in that folder."
   ]
  },
  {
   "cell_type": "code",
   "execution_count": 14,
   "metadata": {
    "scrolled": true
   },
   "outputs": [
    {
     "name": "stdout",
     "output_type": "stream",
     "text": [
      "Depl1092_1678036995.200101014914.wav\n",
      "Depl1092_1678036995.200104224914.wav\n",
      "Depl1092_1678036995.200104234914.wav\n",
      "Depl1092_1678036995.200111084914.wav\n",
      "Depl1092_1678036995.200119004914.wav\n",
      "Depl1092_1678036995.200119034914.wav\n",
      "Depl1092_1678036995.200121014914.wav\n",
      "Depl1092_1678036995.200121214914.wav\n",
      "Depl1092_1678036995.200124014914.wav\n",
      "Depl1092_1678036995.200124164914.wav\n",
      "Depl1092_1678036995.200125184914.wav\n",
      "Depl1092_1678036995.200125214914.wav\n",
      "Depl1092_1678036995.200128064914.wav\n",
      "Depl1092_1678036995.200128134914.wav\n",
      "Depl1092_1678036995.200128144914.wav\n",
      "Depl1092_1678036995.200201214914.wav\n",
      "Depl1092_1678036995.200204224914.wav\n",
      "Depl1092_1678036995.200206004914.wav\n",
      "Depl1092_1678036995.200213004914.wav\n",
      "Depl1092_1678036995.200213024914.wav\n",
      "Depl1092_1678036995.200213084914.wav\n",
      "Depl1092_1678036995.200226104914.wav\n",
      "Depl1092_1678036995.200226124914.wav\n",
      "Depl1092_1678036995.200227004914.wav\n"
     ]
    }
   ],
   "source": [
    "annot = create_noise_annot(audio_dir, deployment_file, file_ext, annot_dur_sec, label_class, label_subclass)"
   ]
  },
  {
   "cell_type": "markdown",
   "metadata": {},
   "source": [
    "Let's look at the summary of annotations that were created:"
   ]
  },
  {
   "cell_type": "code",
   "execution_count": 15,
   "metadata": {},
   "outputs": [
    {
     "data": {
      "text/html": [
       "<div>\n",
       "<style scoped>\n",
       "    .dataframe tbody tr th:only-of-type {\n",
       "        vertical-align: middle;\n",
       "    }\n",
       "\n",
       "    .dataframe tbody tr th {\n",
       "        vertical-align: top;\n",
       "    }\n",
       "\n",
       "    .dataframe thead th {\n",
       "        text-align: right;\n",
       "    }\n",
       "</style>\n",
       "<table border=\"1\" class=\"dataframe\">\n",
       "  <thead>\n",
       "    <tr style=\"text-align: right;\">\n",
       "      <th>label_class</th>\n",
       "      <th>NN</th>\n",
       "      <th>Total</th>\n",
       "    </tr>\n",
       "    <tr>\n",
       "      <th>deployment_ID</th>\n",
       "      <th></th>\n",
       "      <th></th>\n",
       "    </tr>\n",
       "  </thead>\n",
       "  <tbody>\n",
       "    <tr>\n",
       "      <th>UK-UAberdeen-MorayFirth-202001_1092-112</th>\n",
       "      <td>216</td>\n",
       "      <td>216</td>\n",
       "    </tr>\n",
       "    <tr>\n",
       "      <th>Total</th>\n",
       "      <td>216</td>\n",
       "      <td>216</td>\n",
       "    </tr>\n",
       "  </tbody>\n",
       "</table>\n",
       "</div>"
      ],
      "text/plain": [
       "label_class                               NN  Total\n",
       "deployment_ID                                      \n",
       "UK-UAberdeen-MorayFirth-202001_1092-112  216    216\n",
       "Total                                    216    216"
      ]
     },
     "execution_count": 15,
     "metadata": {},
     "output_type": "execute_result"
    }
   ],
   "source": [
    "annot.summary()"
   ]
  },
  {
   "cell_type": "markdown",
   "metadata": {},
   "source": [
    "The dataset can now be saved as a Raven annotation file and netcdf4 file:"
   ]
  },
  {
   "cell_type": "code",
   "execution_count": 16,
   "metadata": {},
   "outputs": [],
   "source": [
    "annot.to_netcdf(os.path.join(audio_dir, 'Annotations_dataset_' + annot.data['deployment_ID'][0] +' annotations.nc'))\n",
    "annot.to_raven(audio_dir, outfile='Annotations_dataset_' + annot.data['deployment_ID'][0] +'.Table.1.selections.txt', single_file=True)"
   ]
  },
  {
   "cell_type": "markdown",
   "metadata": {},
   "source": [
    "### Dataset 5: UK-UAberdeen-MorayFirth-202001_1093-164 (seismic)\n",
    "\n",
    "Definition of all the paths of all folders with the raw annotation and audio files for this deployment."
   ]
  },
  {
   "cell_type": "code",
   "execution_count": 17,
   "metadata": {},
   "outputs": [],
   "source": [
    "audio_dir = r'C:\\Users\\xavier.mouy\\Documents\\GitHub\\minke-whale-dataset\\datasets\\UK-UAberdeen-MorayFirth-202001_1093-164'\n",
    "deployment_file = r'deployment_info.csv' \n",
    "file_ext = 'wav'\n",
    "\n",
    "annot_dur_sec = 60  # duration of the noise annotations in seconds\n",
    "label_class = 'NN'  # label to use for the noise class\n",
    "label_subclass = 'S' # label to use for the noise subclass (if needed, e.g. S for seismic airguns)"
   ]
  },
  {
   "cell_type": "raw",
   "metadata": {},
   "source": [
    "Now we can create annotations for all audio files in that folder."
   ]
  },
  {
   "cell_type": "code",
   "execution_count": 18,
   "metadata": {
    "scrolled": true
   },
   "outputs": [
    {
     "name": "stdout",
     "output_type": "stream",
     "text": [
      "Depl1093_1677725722.200104205913.wav\n",
      "Depl1093_1677725722.200110095913.wav\n",
      "Depl1093_1677725722.200110115913.wav\n",
      "Depl1093_1677725722.200111205913.wav\n",
      "Depl1093_1677725722.200119035913.wav\n",
      "Depl1093_1677725722.200121195913.wav\n",
      "Depl1093_1677725722.200121235913.wav\n",
      "Depl1093_1677725722.200123235913.wav\n",
      "Depl1093_1677725722.200124025913.wav\n",
      "Depl1093_1677725722.200124165913.wav\n",
      "Depl1093_1677725722.200126065913.wav\n",
      "Depl1093_1677725722.200126095913.wav\n",
      "Depl1093_1677725722.200128135913.wav\n",
      "Depl1093_1677725722.200130015913.wav\n",
      "Depl1093_1677725722.200131095913.wav\n",
      "Depl1093_1677725722.200201185913.wav\n",
      "Depl1093_1677725722.200202025913.wav\n",
      "Depl1093_1677725722.200204195913.wav\n",
      "Depl1093_1677725722.200205085913.wav\n",
      "Depl1093_1677725722.200205095913.wav\n",
      "Depl1093_1677725722.200205235913.wav\n",
      "Depl1093_1677725722.200206015913.wav\n",
      "Depl1093_1677725722.200213005913.wav\n",
      "Depl1093_1677725722.200213015913.wav\n",
      "Depl1093_1677725722.200226235913.wav\n"
     ]
    }
   ],
   "source": [
    "annot = create_noise_annot(audio_dir, deployment_file, file_ext, annot_dur_sec, label_class, label_subclass)"
   ]
  },
  {
   "cell_type": "markdown",
   "metadata": {},
   "source": [
    "Let's look at the summary of annotations that were created:"
   ]
  },
  {
   "cell_type": "code",
   "execution_count": 19,
   "metadata": {
    "scrolled": true
   },
   "outputs": [
    {
     "data": {
      "text/html": [
       "<div>\n",
       "<style scoped>\n",
       "    .dataframe tbody tr th:only-of-type {\n",
       "        vertical-align: middle;\n",
       "    }\n",
       "\n",
       "    .dataframe tbody tr th {\n",
       "        vertical-align: top;\n",
       "    }\n",
       "\n",
       "    .dataframe thead th {\n",
       "        text-align: right;\n",
       "    }\n",
       "</style>\n",
       "<table border=\"1\" class=\"dataframe\">\n",
       "  <thead>\n",
       "    <tr style=\"text-align: right;\">\n",
       "      <th>label_class</th>\n",
       "      <th>NN</th>\n",
       "      <th>Total</th>\n",
       "    </tr>\n",
       "    <tr>\n",
       "      <th>deployment_ID</th>\n",
       "      <th></th>\n",
       "      <th></th>\n",
       "    </tr>\n",
       "  </thead>\n",
       "  <tbody>\n",
       "    <tr>\n",
       "      <th>UK-UAberdeen-MorayFirth-202001_1093-164</th>\n",
       "      <td>225</td>\n",
       "      <td>225</td>\n",
       "    </tr>\n",
       "    <tr>\n",
       "      <th>Total</th>\n",
       "      <td>225</td>\n",
       "      <td>225</td>\n",
       "    </tr>\n",
       "  </tbody>\n",
       "</table>\n",
       "</div>"
      ],
      "text/plain": [
       "label_class                               NN  Total\n",
       "deployment_ID                                      \n",
       "UK-UAberdeen-MorayFirth-202001_1093-164  225    225\n",
       "Total                                    225    225"
      ]
     },
     "execution_count": 19,
     "metadata": {},
     "output_type": "execute_result"
    }
   ],
   "source": [
    "annot.summary()"
   ]
  },
  {
   "cell_type": "markdown",
   "metadata": {},
   "source": [
    "The dataset can now be saved as a Raven annotation file and netcdf4 file:"
   ]
  },
  {
   "cell_type": "code",
   "execution_count": 20,
   "metadata": {},
   "outputs": [],
   "source": [
    "annot.to_netcdf(os.path.join(audio_dir, 'Annotations_dataset_' + annot.data['deployment_ID'][0] +' annotations.nc'))\n",
    "annot.to_raven(audio_dir, outfile='Annotations_dataset_' + annot.data['deployment_ID'][0] +'.Table.1.selections.txt', single_file=True)"
   ]
  },
  {
   "cell_type": "markdown",
   "metadata": {},
   "source": [
    "### Dataset 6: UK-UAberdeen-MorayFirth-202101_1136-164\n",
    "\n",
    "Definition of all the paths of all folders with the raw annotation and audio files for this deployment."
   ]
  },
  {
   "cell_type": "code",
   "execution_count": 22,
   "metadata": {},
   "outputs": [],
   "source": [
    "audio_dir = r'C:\\Users\\xavier.mouy\\Documents\\GitHub\\minke-whale-dataset\\datasets\\UK-UAberdeen-MorayFirth-202101_1136-164'\n",
    "deployment_file = r'deployment_info.csv' \n",
    "file_ext = 'wav'\n",
    "\n",
    "annot_dur_sec = 60  # duration of the noise annotations in seconds\n",
    "label_class = 'NN'  # label to use for the noise class\n",
    "label_subclass = '' # label to use for the noise subclass (if needed, e.g. S for seismic airguns)"
   ]
  },
  {
   "cell_type": "raw",
   "metadata": {},
   "source": [
    "Now we can create annotations for all audio files in that folder."
   ]
  },
  {
   "cell_type": "code",
   "execution_count": 23,
   "metadata": {
    "scrolled": true
   },
   "outputs": [
    {
     "name": "stdout",
     "output_type": "stream",
     "text": [
      "Depl1136_1677725722.210102130002.wav\n",
      "Depl1136_1677725722.210103230002.wav\n",
      "Depl1136_1677725722.210105030002.wav\n",
      "Depl1136_1677725722.210105110002.wav\n",
      "Depl1136_1677725722.210119110002.wav\n",
      "Depl1136_1677725722.210119180002.wav\n",
      "Depl1136_1677725722.210208180002.wav\n",
      "Depl1136_1677725722.210216140002.wav\n",
      "Depl1136_1677725722.210216170002.wav\n",
      "Depl1136_1677725722.210217150002.wav\n",
      "Depl1136_1677725722.210220090002.wav\n",
      "Depl1136_1677725722.210221010002.wav\n"
     ]
    }
   ],
   "source": [
    "annot = create_noise_annot(audio_dir, deployment_file, file_ext, annot_dur_sec, label_class, label_subclass)"
   ]
  },
  {
   "cell_type": "markdown",
   "metadata": {},
   "source": [
    "Let's look at the summary of annotations that were created:"
   ]
  },
  {
   "cell_type": "code",
   "execution_count": 24,
   "metadata": {
    "scrolled": true
   },
   "outputs": [
    {
     "data": {
      "text/html": [
       "<div>\n",
       "<style scoped>\n",
       "    .dataframe tbody tr th:only-of-type {\n",
       "        vertical-align: middle;\n",
       "    }\n",
       "\n",
       "    .dataframe tbody tr th {\n",
       "        vertical-align: top;\n",
       "    }\n",
       "\n",
       "    .dataframe thead th {\n",
       "        text-align: right;\n",
       "    }\n",
       "</style>\n",
       "<table border=\"1\" class=\"dataframe\">\n",
       "  <thead>\n",
       "    <tr style=\"text-align: right;\">\n",
       "      <th>label_class</th>\n",
       "      <th>NN</th>\n",
       "      <th>Total</th>\n",
       "    </tr>\n",
       "    <tr>\n",
       "      <th>deployment_ID</th>\n",
       "      <th></th>\n",
       "      <th></th>\n",
       "    </tr>\n",
       "  </thead>\n",
       "  <tbody>\n",
       "    <tr>\n",
       "      <th>UK-UAberdeen-MorayFirth-202101_1136-164</th>\n",
       "      <td>108</td>\n",
       "      <td>108</td>\n",
       "    </tr>\n",
       "    <tr>\n",
       "      <th>Total</th>\n",
       "      <td>108</td>\n",
       "      <td>108</td>\n",
       "    </tr>\n",
       "  </tbody>\n",
       "</table>\n",
       "</div>"
      ],
      "text/plain": [
       "label_class                               NN  Total\n",
       "deployment_ID                                      \n",
       "UK-UAberdeen-MorayFirth-202101_1136-164  108    108\n",
       "Total                                    108    108"
      ]
     },
     "execution_count": 24,
     "metadata": {},
     "output_type": "execute_result"
    }
   ],
   "source": [
    "annot.summary()"
   ]
  },
  {
   "cell_type": "markdown",
   "metadata": {},
   "source": [
    "The dataset can now be saved as a Raven annotation file and netcdf4 file:"
   ]
  },
  {
   "cell_type": "code",
   "execution_count": 25,
   "metadata": {},
   "outputs": [],
   "source": [
    "annot.to_netcdf(os.path.join(audio_dir, 'Annotations_dataset_' + annot.data['deployment_ID'][0] +' annotations.nc'))\n",
    "annot.to_raven(audio_dir, outfile='Annotations_dataset_' + annot.data['deployment_ID'][0] +'.Table.1.selections.txt', single_file=True)"
   ]
  },
  {
   "cell_type": "markdown",
   "metadata": {},
   "source": [
    "### Dataset 7: UK-UAberdeen-MorayFirth-202101_1137-112\n",
    "\n",
    "Definition of all the paths of all folders with the raw annotation and audio files for this deployment."
   ]
  },
  {
   "cell_type": "code",
   "execution_count": 27,
   "metadata": {},
   "outputs": [],
   "source": [
    "audio_dir = r'C:\\Users\\xavier.mouy\\Documents\\GitHub\\minke-whale-dataset\\datasets\\UK-UAberdeen-MorayFirth-202101_1137-112'\n",
    "deployment_file = r'deployment_info.csv' \n",
    "file_ext = 'wav'\n",
    "\n",
    "annot_dur_sec = 60  # duration of the noise annotations in seconds\n",
    "label_class = 'NN'  # label to use for the noise class\n",
    "label_subclass = '' # label to use for the noise subclass (if needed, e.g. S for seismic airguns)"
   ]
  },
  {
   "cell_type": "raw",
   "metadata": {},
   "source": [
    "Now we can create annotations for all audio files in that folder."
   ]
  },
  {
   "cell_type": "code",
   "execution_count": 28,
   "metadata": {
    "scrolled": true
   },
   "outputs": [
    {
     "name": "stdout",
     "output_type": "stream",
     "text": [
      "Depl1137_1678508072.210107040002.wav\n",
      "Depl1137_1678508072.210108160002.wav\n",
      "Depl1137_1678508072.210113150002.wav\n",
      "Depl1137_1678508072.210114040002.wav\n",
      "Depl1137_1678508072.210116170002.wav\n",
      "Depl1137_1678508072.210119040002.wav\n",
      "Depl1137_1678508072.210122000002.wav\n",
      "Depl1137_1678508072.210123040002.wav\n",
      "Depl1137_1678508072.210123120002.wav\n",
      "Depl1137_1678508072.210208160002.wav\n",
      "Depl1137_1678508072.210211200002.wav\n",
      "Depl1137_1678508072.210213110002.wav\n"
     ]
    }
   ],
   "source": [
    "annot = create_noise_annot(audio_dir, deployment_file, file_ext, annot_dur_sec, label_class, label_subclass)"
   ]
  },
  {
   "cell_type": "markdown",
   "metadata": {},
   "source": [
    "Let's look at the summary of annotations that were created:"
   ]
  },
  {
   "cell_type": "code",
   "execution_count": 29,
   "metadata": {
    "scrolled": false
   },
   "outputs": [
    {
     "data": {
      "text/html": [
       "<div>\n",
       "<style scoped>\n",
       "    .dataframe tbody tr th:only-of-type {\n",
       "        vertical-align: middle;\n",
       "    }\n",
       "\n",
       "    .dataframe tbody tr th {\n",
       "        vertical-align: top;\n",
       "    }\n",
       "\n",
       "    .dataframe thead th {\n",
       "        text-align: right;\n",
       "    }\n",
       "</style>\n",
       "<table border=\"1\" class=\"dataframe\">\n",
       "  <thead>\n",
       "    <tr style=\"text-align: right;\">\n",
       "      <th>label_class</th>\n",
       "      <th>NN</th>\n",
       "      <th>Total</th>\n",
       "    </tr>\n",
       "    <tr>\n",
       "      <th>deployment_ID</th>\n",
       "      <th></th>\n",
       "      <th></th>\n",
       "    </tr>\n",
       "  </thead>\n",
       "  <tbody>\n",
       "    <tr>\n",
       "      <th>UK-UAberdeen-MorayFirth-202101_1137-112</th>\n",
       "      <td>108</td>\n",
       "      <td>108</td>\n",
       "    </tr>\n",
       "    <tr>\n",
       "      <th>Total</th>\n",
       "      <td>108</td>\n",
       "      <td>108</td>\n",
       "    </tr>\n",
       "  </tbody>\n",
       "</table>\n",
       "</div>"
      ],
      "text/plain": [
       "label_class                               NN  Total\n",
       "deployment_ID                                      \n",
       "UK-UAberdeen-MorayFirth-202101_1137-112  108    108\n",
       "Total                                    108    108"
      ]
     },
     "execution_count": 29,
     "metadata": {},
     "output_type": "execute_result"
    }
   ],
   "source": [
    "annot.summary()"
   ]
  },
  {
   "cell_type": "markdown",
   "metadata": {},
   "source": [
    "The dataset can now be saved as a Raven annotation file and netcdf4 file:"
   ]
  },
  {
   "cell_type": "code",
   "execution_count": 30,
   "metadata": {},
   "outputs": [],
   "source": [
    "annot.to_netcdf(os.path.join(audio_dir, 'Annotations_dataset_' + annot.data['deployment_ID'][0] +' annotations.nc'))\n",
    "annot.to_raven(audio_dir, outfile='Annotations_dataset_' + annot.data['deployment_ID'][0] +'.Table.1.selections.txt', single_file=True)"
   ]
  },
  {
   "cell_type": "markdown",
   "metadata": {},
   "source": [
    "### Dataset 8: UK-MSS-MorayFirth-201607_181-Helmsdale\n",
    "\n",
    "Definition of all the paths of all folders with the raw annotation and audio files for this deployment."
   ]
  },
  {
   "cell_type": "code",
   "execution_count": 55,
   "metadata": {},
   "outputs": [],
   "source": [
    "audio_dir = r'D:\\NOAA\\2022_Minke_whale_detector\\manual_annotations\\UK-MSS-MorayFirth-201607_181-Helmsdale\\noise'\n",
    "deployment_file = r'deployment_info.csv' \n",
    "file_ext = 'wav'\n",
    "\n",
    "annot_dur_sec = 60  # duration of the noise annotations in seconds\n",
    "label_class = 'NN'  # label to use for the noise class\n",
    "label_subclass = '' # label to use for the noise subclass (if needed, e.g. S for seismic airguns)"
   ]
  },
  {
   "cell_type": "raw",
   "metadata": {},
   "source": [
    "Now we can create annotations for all audio files in that folder."
   ]
  },
  {
   "cell_type": "code",
   "execution_count": 61,
   "metadata": {
    "scrolled": true
   },
   "outputs": [
    {
     "name": "stdout",
     "output_type": "stream",
     "text": [
      "Depl181_Helmsdale_161113_013327.wav\n",
      "Depl181_Helmsdale_160731_140000.wav\n",
      "Depl181_Helmsdale_160731_153000.wav\n",
      "Depl181_Helmsdale_160731_163000.wav\n",
      "Depl181_Helmsdale_160731_180000.wav\n",
      "Depl181_Helmsdale_160731_193000.wav\n",
      "Depl181_Helmsdale_160801_080000.wav\n",
      "Depl181_Helmsdale_160801_093000.wav\n",
      "Depl181_Helmsdale_160801_173000.wav\n",
      "Depl181_Helmsdale_160802_080000.wav\n",
      "Depl181_Helmsdale_160802_083000.wav\n",
      "Depl181_Helmsdale_160802_130000.wav\n",
      "Depl181_Helmsdale_160802_160000.wav\n",
      "Depl181_Helmsdale_160802_163000.wav\n",
      "Depl181_Helmsdale_160802_190000.wav\n",
      "Depl181_Helmsdale_160803_150000.wav\n",
      "Depl181_Helmsdale_160804_000000.wav\n",
      "Depl181_Helmsdale_160804_100000.wav\n",
      "Depl181_Helmsdale_160804_103000.wav\n",
      "Depl181_Helmsdale_160804_123000.wav\n",
      "Depl181_Helmsdale_160804_130000.wav\n",
      "Depl181_Helmsdale_160804_150000.wav\n",
      "Depl181_Helmsdale_160805_013000.wav\n",
      "Depl181_Helmsdale_160806_113000.wav\n",
      "Depl181_Helmsdale_160809_063000.wav\n",
      "Depl181_Helmsdale_160809_113000.wav\n",
      "Depl181_Helmsdale_160809_200000.wav\n",
      "Depl181_Helmsdale_160810_073000.wav\n",
      "Depl181_Helmsdale_160811_113000.wav\n",
      "Depl181_Helmsdale_160812_070000.wav\n",
      "Depl181_Helmsdale_160813_030000.wav\n",
      "Depl181_Helmsdale_160814_133000.wav\n",
      "Depl181_Helmsdale_160814_170000.wav\n",
      "Depl181_Helmsdale_160816_180000.wav\n",
      "Depl181_Helmsdale_160817_070000.wav\n",
      "Depl181_Helmsdale_160817_073000.wav\n",
      "Depl181_Helmsdale_160818_013000.wav\n",
      "Depl181_Helmsdale_160819_030000.wav\n",
      "Depl181_Helmsdale_160819_083000.wav\n",
      "Depl181_Helmsdale_160819_110000.wav\n",
      "Depl181_Helmsdale_160819_113000.wav\n",
      "Depl181_Helmsdale_160819_213000.wav\n",
      "Depl181_Helmsdale_160819_220000.wav\n",
      "Depl181_Helmsdale_160820_030000.wav\n",
      "Depl181_Helmsdale_160820_123000.wav\n",
      "Depl181_Helmsdale_160820_223000.wav\n",
      "Depl181_Helmsdale_160821_003000.wav\n",
      "Depl181_Helmsdale_160821_010000.wav\n",
      "Depl181_Helmsdale_160821_013000.wav\n",
      "Depl181_Helmsdale_160823_173000.wav\n",
      "Depl181_Helmsdale_160824_133000.wav\n",
      "Depl181_Helmsdale_160825_220000.wav\n",
      "Depl181_Helmsdale_160825_230000.wav\n",
      "Depl181_Helmsdale_160825_233000.wav\n",
      "Depl181_Helmsdale_160827_080000.wav\n",
      "Depl181_Helmsdale_160827_103000.wav\n",
      "Depl181_Helmsdale_160828_143000.wav\n",
      "Depl181_Helmsdale_160828_153000.wav\n",
      "Depl181_Helmsdale_160828_170000.wav\n",
      "Depl181_Helmsdale_160828_213000.wav\n",
      "Depl181_Helmsdale_160829_080000.wav\n",
      "Depl181_Helmsdale_160829_090000.wav\n",
      "Depl181_Helmsdale_160829_120000.wav\n",
      "Depl181_Helmsdale_160830_083000.wav\n",
      "Depl181_Helmsdale_160831_150000.wav\n",
      "Depl181_Helmsdale_160831_220000.wav\n",
      "Depl181_Helmsdale_160901_030000.wav\n",
      "Depl181_Helmsdale_160901_033000.wav\n",
      "Depl181_Helmsdale_160901_210000.wav\n",
      "Depl181_Helmsdale_160902_163000.wav\n",
      "Depl181_Helmsdale_160902_170000.wav\n",
      "Depl181_Helmsdale_160905_040000.wav\n",
      "Depl181_Helmsdale_160905_043000.wav\n",
      "Depl181_Helmsdale_160905_160000.wav\n",
      "Depl181_Helmsdale_160908_193000.wav\n",
      "Depl181_Helmsdale_160908_203000.wav\n",
      "Depl181_Helmsdale_160908_233000.wav\n",
      "Depl181_Helmsdale_160909_070000.wav\n",
      "Depl181_Helmsdale_160913_040000.wav\n",
      "Depl181_Helmsdale_160913_053000.wav\n",
      "Depl181_Helmsdale_160913_060000.wav\n",
      "Depl181_Helmsdale_160913_070000.wav\n",
      "Depl181_Helmsdale_160913_080000.wav\n",
      "Depl181_Helmsdale_160913_090000.wav\n",
      "Depl181_Helmsdale_160913_100000.wav\n",
      "Depl181_Helmsdale_160913_180000.wav\n",
      "Depl181_Helmsdale_160914_090000.wav\n",
      "Depl181_Helmsdale_160914_100000.wav\n",
      "Depl181_Helmsdale_160917_030000.wav\n",
      "Depl181_Helmsdale_160917_033000.wav\n",
      "Depl181_Helmsdale_160917_040000.wav\n",
      "Depl181_Helmsdale_160917_143000.wav\n",
      "Depl181_Helmsdale_160917_160000.wav\n",
      "Depl181_Helmsdale_160918_023000.wav\n",
      "Depl181_Helmsdale_160918_030000.wav\n",
      "Depl181_Helmsdale_160918_140000.wav\n",
      "Depl181_Helmsdale_160918_143000.wav\n",
      "Depl181_Helmsdale_160918_150000.wav\n",
      "Depl181_Helmsdale_160918_153000.wav\n",
      "Depl181_Helmsdale_160918_160000.wav\n",
      "Depl181_Helmsdale_160918_210000.wav\n",
      "Depl181_Helmsdale_160918_233000.wav\n",
      "Depl181_Helmsdale_160919_023000.wav\n",
      "Depl181_Helmsdale_160919_033000.wav\n",
      "Depl181_Helmsdale_160919_040000.wav\n",
      "Depl181_Helmsdale_160920_043000.wav\n",
      "Depl181_Helmsdale_160920_050000.wav\n",
      "Depl181_Helmsdale_160920_053000.wav\n",
      "Depl181_Helmsdale_160920_083000.wav\n",
      "Depl181_Helmsdale_160920_160000.wav\n",
      "Depl181_Helmsdale_160921_150000.wav\n",
      "Depl181_Helmsdale_160921_153000.wav\n",
      "Depl181_Helmsdale_160921_173000.wav\n",
      "Depl181_Helmsdale_160921_193000.wav\n",
      "Depl181_Helmsdale_160922_000000.wav\n",
      "Depl181_Helmsdale_160922_010000.wav\n",
      "Depl181_Helmsdale_160922_020000.wav\n",
      "Depl181_Helmsdale_160922_033000.wav\n",
      "Depl181_Helmsdale_160922_050000.wav\n",
      "Depl181_Helmsdale_160922_100000.wav\n",
      "Depl181_Helmsdale_160922_153000.wav\n",
      "Depl181_Helmsdale_160922_183000.wav\n",
      "Depl181_Helmsdale_160922_190000.wav\n",
      "Depl181_Helmsdale_160922_193000.wav\n",
      "Depl181_Helmsdale_160923_053000.wav\n",
      "Depl181_Helmsdale_160923_073000.wav\n",
      "Depl181_Helmsdale_160923_080000.wav\n",
      "Depl181_Helmsdale_160923_183000.wav\n",
      "Depl181_Helmsdale_160923_203000.wav\n",
      "Depl181_Helmsdale_160923_213000.wav\n",
      "Depl181_Helmsdale_160923_220000.wav\n",
      "Depl181_Helmsdale_160923_223000.wav\n",
      "Depl181_Helmsdale_160923_230000.wav\n",
      "Depl181_Helmsdale_160923_233000.wav\n",
      "Depl181_Helmsdale_160924_083000.wav\n",
      "Depl181_Helmsdale_160924_090000.wav\n",
      "Depl181_Helmsdale_160924_093000.wav\n",
      "Depl181_Helmsdale_160924_100000.wav\n",
      "Depl181_Helmsdale_160924_103000.wav\n",
      "Depl181_Helmsdale_160924_110000.wav\n",
      "Depl181_Helmsdale_160924_150000.wav\n",
      "Depl181_Helmsdale_160925_200000.wav\n",
      "Depl181_Helmsdale_160925_213000.wav\n",
      "Depl181_Helmsdale_160925_220000.wav\n",
      "Depl181_Helmsdale_160925_223000.wav\n",
      "Depl181_Helmsdale_160925_230000.wav\n",
      "Depl181_Helmsdale_160926_000000.wav\n",
      "Depl181_Helmsdale_160926_010000.wav\n",
      "Depl181_Helmsdale_160926_110000.wav\n",
      "Depl181_Helmsdale_160926_193000.wav\n",
      "Depl181_Helmsdale_160926_213000.wav\n",
      "Depl181_Helmsdale_160926_233000.wav\n",
      "Depl181_Helmsdale_160927_000000.wav\n",
      "Depl181_Helmsdale_160927_003000.wav\n",
      "Depl181_Helmsdale_160927_020000.wav\n",
      "Depl181_Helmsdale_160927_023000.wav\n",
      "Depl181_Helmsdale_160927_060000.wav\n",
      "Depl181_Helmsdale_160927_113000.wav\n",
      "Depl181_Helmsdale_160927_123000.wav\n",
      "Depl181_Helmsdale_160927_133000.wav\n",
      "Depl181_Helmsdale_160927_140000.wav\n",
      "Depl181_Helmsdale_160927_143000.wav\n",
      "Depl181_Helmsdale_160927_150000.wav\n",
      "Depl181_Helmsdale_160927_153000.wav\n",
      "Depl181_Helmsdale_160927_180000.wav\n",
      "Depl181_Helmsdale_160927_230000.wav\n",
      "Depl181_Helmsdale_160927_233000.wav\n",
      "Depl181_Helmsdale_160928_000000.wav\n",
      "Depl181_Helmsdale_160928_010000.wav\n",
      "Depl181_Helmsdale_160928_020000.wav\n",
      "Depl181_Helmsdale_160928_100000.wav\n",
      "Depl181_Helmsdale_160928_113000.wav\n",
      "Depl181_Helmsdale_160928_120000.wav\n",
      "Depl181_Helmsdale_160928_123000.wav\n",
      "Depl181_Helmsdale_160928_130000.wav\n",
      "Depl181_Helmsdale_160928_133000.wav\n",
      "Depl181_Helmsdale_160928_160000.wav\n",
      "Depl181_Helmsdale_160928_223000.wav\n",
      "Depl181_Helmsdale_160928_233000.wav\n",
      "Depl181_Helmsdale_160929_000000.wav\n",
      "Depl181_Helmsdale_160929_003000.wav\n",
      "Depl181_Helmsdale_160929_010000.wav\n",
      "Depl181_Helmsdale_160929_013000.wav\n",
      "Depl181_Helmsdale_160929_020000.wav\n",
      "Depl181_Helmsdale_160929_023000.wav\n",
      "Depl181_Helmsdale_160929_030000.wav\n",
      "Depl181_Helmsdale_160929_033000.wav\n",
      "Depl181_Helmsdale_160929_040000.wav\n",
      "Depl181_Helmsdale_160929_100000.wav\n",
      "Depl181_Helmsdale_160929_110000.wav\n",
      "Depl181_Helmsdale_160929_113000.wav\n",
      "Depl181_Helmsdale_160929_120000.wav\n",
      "Depl181_Helmsdale_160929_123000.wav\n",
      "Depl181_Helmsdale_160929_133000.wav\n",
      "Depl181_Helmsdale_160929_180000.wav\n",
      "Depl181_Helmsdale_160929_183000.wav\n",
      "Depl181_Helmsdale_160929_213000.wav\n",
      "Depl181_Helmsdale_160930_003000.wav\n",
      "Depl181_Helmsdale_160930_010000.wav\n",
      "Depl181_Helmsdale_160930_013000.wav\n",
      "Depl181_Helmsdale_160930_020000.wav\n",
      "Depl181_Helmsdale_160930_023000.wav\n",
      "Depl181_Helmsdale_160930_030000.wav\n",
      "Depl181_Helmsdale_160930_033000.wav\n",
      "Depl181_Helmsdale_160930_050000.wav\n",
      "Depl181_Helmsdale_160930_053000.wav\n",
      "Depl181_Helmsdale_160930_060000.wav\n",
      "Depl181_Helmsdale_160930_120000.wav\n",
      "Depl181_Helmsdale_160930_123000.wav\n",
      "Depl181_Helmsdale_160930_130000.wav\n",
      "Depl181_Helmsdale_160930_133000.wav\n",
      "Depl181_Helmsdale_160930_140000.wav\n",
      "Depl181_Helmsdale_160930_143000.wav\n",
      "Depl181_Helmsdale_160930_153000.wav\n",
      "Depl181_Helmsdale_160930_160000.wav\n",
      "Depl181_Helmsdale_161001_010000.wav\n",
      "Depl181_Helmsdale_161001_020000.wav\n",
      "Depl181_Helmsdale_161001_030000.wav\n",
      "Depl181_Helmsdale_161001_120000.wav\n",
      "Depl181_Helmsdale_161001_143000.wav\n",
      "Depl181_Helmsdale_161002_013000.wav\n",
      "Depl181_Helmsdale_161002_133000.wav\n",
      "Depl181_Helmsdale_161002_223000.wav\n",
      "Depl181_Helmsdale_161002_230000.wav\n",
      "Depl181_Helmsdale_161003_000000.wav\n",
      "Depl181_Helmsdale_161003_220000.wav\n",
      "Depl181_Helmsdale_161003_223000.wav\n",
      "Depl181_Helmsdale_161004_030000.wav\n",
      "Depl181_Helmsdale_161004_033000.wav\n",
      "Depl181_Helmsdale_161004_040000.wav\n",
      "Depl181_Helmsdale_161004_043000.wav\n",
      "Depl181_Helmsdale_161004_053000.wav\n",
      "Depl181_Helmsdale_161004_060000.wav\n",
      "Depl181_Helmsdale_161004_100000.wav\n",
      "Depl181_Helmsdale_161004_103000.wav\n",
      "Depl181_Helmsdale_161004_110000.wav\n",
      "Depl181_Helmsdale_161004_113000.wav\n",
      "Depl181_Helmsdale_161004_160000.wav\n",
      "Depl181_Helmsdale_161004_210000.wav\n"
     ]
    },
    {
     "name": "stdout",
     "output_type": "stream",
     "text": [
      "Depl181_Helmsdale_161004_213000.wav\n",
      "Depl181_Helmsdale_161004_230000.wav\n",
      "Depl181_Helmsdale_161006_120000.wav\n",
      "Depl181_Helmsdale_161006_133000.wav\n",
      "Depl181_Helmsdale_161006_203000.wav\n",
      "Depl181_Helmsdale_161006_220000.wav\n",
      "Depl181_Helmsdale_161007_090000.wav\n",
      "Depl181_Helmsdale_161007_093000.wav\n",
      "Depl181_Helmsdale_161007_100000.wav\n",
      "Depl181_Helmsdale_161007_110000.wav\n",
      "Depl181_Helmsdale_161007_143000.wav\n",
      "Depl181_Helmsdale_161007_150000.wav\n",
      "Depl181_Helmsdale_161007_173000.wav\n",
      "Depl181_Helmsdale_161007_193000.wav\n",
      "Depl181_Helmsdale_161008_120000.wav\n",
      "Depl181_Helmsdale_161009_070000.wav\n",
      "Depl181_Helmsdale_161009_073000.wav\n",
      "Depl181_Helmsdale_161009_080000.wav\n",
      "Depl181_Helmsdale_161009_093000.wav\n",
      "Depl181_Helmsdale_161009_130000.wav\n",
      "Depl181_Helmsdale_161009_140000.wav\n",
      "Depl181_Helmsdale_161010_213000.wav\n",
      "Depl181_Helmsdale_161011_013000.wav\n",
      "Depl181_Helmsdale_161011_120000.wav\n",
      "Depl181_Helmsdale_161011_203000.wav\n",
      "Depl181_Helmsdale_161011_230000.wav\n",
      "Depl181_Helmsdale_161011_233000.wav\n",
      "Depl181_Helmsdale_161012_000000.wav\n",
      "Depl181_Helmsdale_161012_133000.wav\n",
      "Depl181_Helmsdale_161012_150000.wav\n",
      "Depl181_Helmsdale_161012_200000.wav\n",
      "Depl181_Helmsdale_161013_013000.wav\n",
      "Depl181_Helmsdale_161013_163000.wav\n",
      "Depl181_Helmsdale_161013_170000.wav\n",
      "Depl181_Helmsdale_161013_180000.wav\n",
      "Depl181_Helmsdale_161014_143000.wav\n",
      "Depl181_Helmsdale_161014_210000.wav\n",
      "Depl181_Helmsdale_161015_073000.wav\n",
      "Depl181_Helmsdale_161015_080000.wav\n",
      "Depl181_Helmsdale_161015_100000.wav\n",
      "Depl181_Helmsdale_161015_103000.wav\n",
      "Depl181_Helmsdale_161015_210000.wav\n",
      "Depl181_Helmsdale_161016_030000.wav\n",
      "Depl181_Helmsdale_161016_040000.wav\n",
      "Depl181_Helmsdale_161016_103000.wav\n",
      "Depl181_Helmsdale_161016_143000.wav\n",
      "Depl181_Helmsdale_161017_023000.wav\n",
      "Depl181_Helmsdale_161018_030000.wav\n",
      "Depl181_Helmsdale_161018_043000.wav\n",
      "Depl181_Helmsdale_161018_050000.wav\n",
      "Depl181_Helmsdale_161019_123000.wav\n",
      "Depl181_Helmsdale_161019_140000.wav\n",
      "Depl181_Helmsdale_161019_170000.wav\n",
      "Depl181_Helmsdale_161019_210000.wav\n",
      "Depl181_Helmsdale_161019_233000.wav\n",
      "Depl181_Helmsdale_161020_003000.wav\n",
      "Depl181_Helmsdale_161020_013000.wav\n",
      "Depl181_Helmsdale_161020_043000.wav\n",
      "Depl181_Helmsdale_161020_180000.wav\n",
      "Depl181_Helmsdale_161020_220000.wav\n",
      "Depl181_Helmsdale_161020_223000.wav\n",
      "Depl181_Helmsdale_161021_140000.wav\n",
      "Depl181_Helmsdale_161021_180000.wav\n",
      "Depl181_Helmsdale_161021_193000.wav\n",
      "Depl181_Helmsdale_161021_203000.wav\n",
      "Depl181_Helmsdale_161021_213000.wav\n",
      "Depl181_Helmsdale_161022_030000.wav\n",
      "Depl181_Helmsdale_161022_040000.wav\n",
      "Depl181_Helmsdale_161022_043000.wav\n",
      "Depl181_Helmsdale_161022_120000.wav\n",
      "Depl181_Helmsdale_161023_153000.wav\n",
      "Depl181_Helmsdale_161023_170000.wav\n",
      "Depl181_Helmsdale_161023_180000.wav\n",
      "Depl181_Helmsdale_161023_203000.wav\n",
      "Depl181_Helmsdale_161023_223000.wav\n",
      "Depl181_Helmsdale_161024_043000.wav\n",
      "Depl181_Helmsdale_161024_053000.wav\n",
      "Depl181_Helmsdale_161024_080000.wav\n",
      "Depl181_Helmsdale_161024_100000.wav\n",
      "Depl181_Helmsdale_161024_110000.wav\n",
      "Depl181_Helmsdale_161024_163000.wav\n",
      "Depl181_Helmsdale_161025_023000.wav\n",
      "Depl181_Helmsdale_161025_030000.wav\n",
      "Depl181_Helmsdale_161025_033000.wav\n",
      "Depl181_Helmsdale_161026_220000.wav\n",
      "Depl181_Helmsdale_161027_073000.wav\n",
      "Depl181_Helmsdale_161027_113000.wav\n",
      "Depl181_Helmsdale_161027_163000.wav\n",
      "Depl181_Helmsdale_161027_170000.wav\n",
      "Depl181_Helmsdale_161027_190000.wav\n",
      "Depl181_Helmsdale_161028_110000.wav\n",
      "Depl181_Helmsdale_161029_030000.wav\n",
      "Depl181_Helmsdale_161029_033000.wav\n",
      "Depl181_Helmsdale_161029_040000.wav\n",
      "Depl181_Helmsdale_161029_063000.wav\n",
      "Depl181_Helmsdale_161029_083000.wav\n",
      "Depl181_Helmsdale_161029_100000.wav\n",
      "Depl181_Helmsdale_161029_103000.wav\n",
      "Depl181_Helmsdale_161029_110000.wav\n",
      "Depl181_Helmsdale_161029_203000.wav\n",
      "Depl181_Helmsdale_161030_050000.wav\n",
      "Depl181_Helmsdale_161030_083000.wav\n",
      "Depl181_Helmsdale_161030_090000.wav\n",
      "Depl181_Helmsdale_161030_160000.wav\n",
      "Depl181_Helmsdale_161030_210000.wav\n",
      "Depl181_Helmsdale_161031_113000.wav\n",
      "Depl181_Helmsdale_161031_120000.wav\n",
      "Depl181_Helmsdale_161031_203000.wav\n",
      "Depl181_Helmsdale_161031_210000.wav\n",
      "Depl181_Helmsdale_161031_213000.wav\n",
      "Depl181_Helmsdale_161031_220000.wav\n",
      "Depl181_Helmsdale_161031_223000.wav\n",
      "Depl181_Helmsdale_161101_013000.wav\n",
      "Depl181_Helmsdale_161101_083000.wav\n",
      "Depl181_Helmsdale_161101_090000.wav\n",
      "Depl181_Helmsdale_161101_093000.wav\n",
      "Depl181_Helmsdale_161101_100000.wav\n",
      "Depl181_Helmsdale_161101_103000.wav\n",
      "Depl181_Helmsdale_161101_203000.wav\n",
      "Depl181_Helmsdale_161102_003000.wav\n",
      "Depl181_Helmsdale_161102_020000.wav\n",
      "Depl181_Helmsdale_161102_043000.wav\n",
      "Depl181_Helmsdale_161102_050000.wav\n",
      "Depl181_Helmsdale_161102_053000.wav\n",
      "Depl181_Helmsdale_161102_060000.wav\n",
      "Depl181_Helmsdale_161102_080000.wav\n",
      "Depl181_Helmsdale_161102_100000.wav\n",
      "Depl181_Helmsdale_161102_120000.wav\n",
      "Depl181_Helmsdale_161102_123000.wav\n",
      "Depl181_Helmsdale_161102_150000.wav\n",
      "Depl181_Helmsdale_161102_160000.wav\n",
      "Depl181_Helmsdale_161102_163324.wav\n",
      "Depl181_Helmsdale_161103_030325.wav\n",
      "Depl181_Helmsdale_161103_043325.wav\n",
      "Depl181_Helmsdale_161103_193325.wav\n",
      "Depl181_Helmsdale_161103_220325.wav\n",
      "Depl181_Helmsdale_161103_233325.wav\n",
      "Depl181_Helmsdale_161104_000325.wav\n",
      "Depl181_Helmsdale_161104_003325.wav\n",
      "Depl181_Helmsdale_161104_010325.wav\n",
      "Depl181_Helmsdale_161104_013325.wav\n",
      "Depl181_Helmsdale_161104_040325.wav\n",
      "Depl181_Helmsdale_161104_113325.wav\n",
      "Depl181_Helmsdale_161104_120325.wav\n",
      "Depl181_Helmsdale_161104_233325.wav\n",
      "Depl181_Helmsdale_161105_110325.wav\n",
      "Depl181_Helmsdale_161105_130325.wav\n",
      "Depl181_Helmsdale_161106_203325.wav\n",
      "Depl181_Helmsdale_161106_213325.wav\n",
      "Depl181_Helmsdale_161106_220325.wav\n",
      "Depl181_Helmsdale_161106_223325.wav\n",
      "Depl181_Helmsdale_161106_230325.wav\n",
      "Depl181_Helmsdale_161106_233325.wav\n",
      "Depl181_Helmsdale_161107_010325.wav\n",
      "Depl181_Helmsdale_161107_013325.wav\n",
      "Depl181_Helmsdale_161107_050325.wav\n",
      "Depl181_Helmsdale_161107_073325.wav\n",
      "Depl181_Helmsdale_161107_093325.wav\n",
      "Depl181_Helmsdale_161107_120325.wav\n",
      "Depl181_Helmsdale_161107_133325.wav\n",
      "Depl181_Helmsdale_161107_140325.wav\n",
      "Depl181_Helmsdale_161107_150325.wav\n",
      "Depl181_Helmsdale_161108_073325.wav\n",
      "Depl181_Helmsdale_161108_113325.wav\n",
      "Depl181_Helmsdale_161108_180325.wav\n",
      "Depl181_Helmsdale_161109_023325.wav\n",
      "Depl181_Helmsdale_161109_040325.wav\n",
      "Depl181_Helmsdale_161109_050325.wav\n",
      "Depl181_Helmsdale_161109_073325.wav\n",
      "Depl181_Helmsdale_161109_093325.wav\n",
      "Depl181_Helmsdale_161109_103325.wav\n",
      "Depl181_Helmsdale_161109_110325.wav\n",
      "Depl181_Helmsdale_161109_180325.wav\n",
      "Depl181_Helmsdale_161110_170325.wav\n",
      "Depl181_Helmsdale_161110_223325.wav\n",
      "Depl181_Helmsdale_161112_070327.wav\n",
      "Depl181_Helmsdale_161112_093327.wav\n",
      "Depl181_Helmsdale_161112_110327.wav\n",
      "Depl181_Helmsdale_161112_123327.wav\n",
      "Depl181_Helmsdale_161112_163327.wav\n",
      "Depl181_Helmsdale_161112_193327.wav\n",
      "Depl181_Helmsdale_161112_223327.wav\n",
      "Depl181_Helmsdale_161113_010327.wav\n"
     ]
    }
   ],
   "source": [
    "annot = create_noise_annot(audio_dir, deployment_file, file_ext, annot_dur_sec, label_class, label_subclass)"
   ]
  },
  {
   "cell_type": "markdown",
   "metadata": {},
   "source": [
    "Let's look at the summary of annotations that were created:"
   ]
  },
  {
   "cell_type": "code",
   "execution_count": 57,
   "metadata": {
    "scrolled": true
   },
   "outputs": [
    {
     "data": {
      "text/html": [
       "<div>\n",
       "<style scoped>\n",
       "    .dataframe tbody tr th:only-of-type {\n",
       "        vertical-align: middle;\n",
       "    }\n",
       "\n",
       "    .dataframe tbody tr th {\n",
       "        vertical-align: top;\n",
       "    }\n",
       "\n",
       "    .dataframe thead th {\n",
       "        text-align: right;\n",
       "    }\n",
       "</style>\n",
       "<table border=\"1\" class=\"dataframe\">\n",
       "  <thead>\n",
       "    <tr style=\"text-align: right;\">\n",
       "      <th>label_class</th>\n",
       "      <th>NN</th>\n",
       "      <th>Total</th>\n",
       "    </tr>\n",
       "    <tr>\n",
       "      <th>deployment_ID</th>\n",
       "      <th></th>\n",
       "      <th></th>\n",
       "    </tr>\n",
       "  </thead>\n",
       "  <tbody>\n",
       "    <tr>\n",
       "      <th>UK-MSS-MorayFirth-201607_181-Helmsdale</th>\n",
       "      <td>4008</td>\n",
       "      <td>4008</td>\n",
       "    </tr>\n",
       "    <tr>\n",
       "      <th>Total</th>\n",
       "      <td>4008</td>\n",
       "      <td>4008</td>\n",
       "    </tr>\n",
       "  </tbody>\n",
       "</table>\n",
       "</div>"
      ],
      "text/plain": [
       "label_class                               NN  Total\n",
       "deployment_ID                                      \n",
       "UK-MSS-MorayFirth-201607_181-Helmsdale  4008   4008\n",
       "Total                                   4008   4008"
      ]
     },
     "execution_count": 57,
     "metadata": {},
     "output_type": "execute_result"
    }
   ],
   "source": [
    "annot.summary()"
   ]
  },
  {
   "cell_type": "markdown",
   "metadata": {},
   "source": [
    "The dataset can now be saved as a Raven annotation file and netcdf4 file:"
   ]
  },
  {
   "cell_type": "code",
   "execution_count": 58,
   "metadata": {},
   "outputs": [],
   "source": [
    "annot.to_netcdf(os.path.join(audio_dir, 'Annotations_dataset_' + annot.data['deployment_ID'][0] +' annotations.nc'))\n",
    "annot.to_raven(audio_dir, outfile='Annotations_dataset_' + annot.data['deployment_ID'][0] +'.Table.1.selections.txt', single_file=True)"
   ]
  },
  {
   "cell_type": "code",
   "execution_count": null,
   "metadata": {},
   "outputs": [],
   "source": []
  },
  {
   "cell_type": "markdown",
   "metadata": {},
   "source": [
    "### Dataset 9: UK-MSS-MorayFirth-201806_274-Helmsdale\n",
    "\n",
    "Definition of all the paths of all folders with the raw annotation and audio files for this deployment."
   ]
  },
  {
   "cell_type": "code",
   "execution_count": 62,
   "metadata": {},
   "outputs": [],
   "source": [
    "audio_dir = r'D:\\NOAA\\2022_Minke_whale_detector\\manual_annotations\\UK-MSS-MorayFirth-201806_274-Helmsdale\\noise'\n",
    "deployment_file = r'deployment_info.csv' \n",
    "file_ext = 'wav'\n",
    "\n",
    "annot_dur_sec = 60  # duration of the noise annotations in seconds\n",
    "label_class = 'NN'  # label to use for the noise class\n",
    "label_subclass = '' # label to use for the noise subclass (if needed, e.g. S for seismic airguns)"
   ]
  },
  {
   "cell_type": "raw",
   "metadata": {},
   "source": [
    "Now we can create annotations for all audio files in that folder."
   ]
  },
  {
   "cell_type": "code",
   "execution_count": 63,
   "metadata": {
    "scrolled": true
   },
   "outputs": [
    {
     "name": "stdout",
     "output_type": "stream",
     "text": [
      "Depl274_Helmsdale_180618_143000.wav\n",
      "Depl274_Helmsdale_180601_140000.wav\n",
      "Depl274_Helmsdale_180602_060000.wav\n",
      "Depl274_Helmsdale_180602_063000.wav\n",
      "Depl274_Helmsdale_180602_073000.wav\n",
      "Depl274_Helmsdale_180602_090000.wav\n",
      "Depl274_Helmsdale_180602_093000.wav\n",
      "Depl274_Helmsdale_180602_103000.wav\n",
      "Depl274_Helmsdale_180602_170000.wav\n",
      "Depl274_Helmsdale_180602_220000.wav\n",
      "Depl274_Helmsdale_180602_230000.wav\n",
      "Depl274_Helmsdale_180603_000000.wav\n",
      "Depl274_Helmsdale_180603_010000.wav\n"
     ]
    }
   ],
   "source": [
    "annot = create_noise_annot(audio_dir, deployment_file, file_ext, annot_dur_sec, label_class, label_subclass)"
   ]
  },
  {
   "cell_type": "markdown",
   "metadata": {},
   "source": [
    "Let's look at the summary of annotations that were created:"
   ]
  },
  {
   "cell_type": "code",
   "execution_count": 64,
   "metadata": {
    "scrolled": true
   },
   "outputs": [
    {
     "data": {
      "text/html": [
       "<div>\n",
       "<style scoped>\n",
       "    .dataframe tbody tr th:only-of-type {\n",
       "        vertical-align: middle;\n",
       "    }\n",
       "\n",
       "    .dataframe tbody tr th {\n",
       "        vertical-align: top;\n",
       "    }\n",
       "\n",
       "    .dataframe thead th {\n",
       "        text-align: right;\n",
       "    }\n",
       "</style>\n",
       "<table border=\"1\" class=\"dataframe\">\n",
       "  <thead>\n",
       "    <tr style=\"text-align: right;\">\n",
       "      <th>label_class</th>\n",
       "      <th>NN</th>\n",
       "      <th>Total</th>\n",
       "    </tr>\n",
       "    <tr>\n",
       "      <th>deployment_ID</th>\n",
       "      <th></th>\n",
       "      <th></th>\n",
       "    </tr>\n",
       "  </thead>\n",
       "  <tbody>\n",
       "    <tr>\n",
       "      <th>UK-MSS-MorayFirth-201806_274-Helmsdale</th>\n",
       "      <td>121</td>\n",
       "      <td>121</td>\n",
       "    </tr>\n",
       "    <tr>\n",
       "      <th>Total</th>\n",
       "      <td>121</td>\n",
       "      <td>121</td>\n",
       "    </tr>\n",
       "  </tbody>\n",
       "</table>\n",
       "</div>"
      ],
      "text/plain": [
       "label_class                              NN  Total\n",
       "deployment_ID                                     \n",
       "UK-MSS-MorayFirth-201806_274-Helmsdale  121    121\n",
       "Total                                   121    121"
      ]
     },
     "execution_count": 64,
     "metadata": {},
     "output_type": "execute_result"
    }
   ],
   "source": [
    "annot.summary()"
   ]
  },
  {
   "cell_type": "markdown",
   "metadata": {},
   "source": [
    "The dataset can now be saved as a Raven annotation file and netcdf4 file:"
   ]
  },
  {
   "cell_type": "code",
   "execution_count": 65,
   "metadata": {},
   "outputs": [],
   "source": [
    "annot.to_netcdf(os.path.join(audio_dir, 'Annotations_dataset_' + annot.data['deployment_ID'][0] +' annotations.nc'))\n",
    "annot.to_raven(audio_dir, outfile='Annotations_dataset_' + annot.data['deployment_ID'][0] +'.Table.1.selections.txt', single_file=True)"
   ]
  },
  {
   "cell_type": "code",
   "execution_count": null,
   "metadata": {},
   "outputs": [],
   "source": []
  },
  {
   "cell_type": "markdown",
   "metadata": {},
   "source": [
    "### Dataset 10: UK-MSS-MorayFirth-201904_360-Helmsdale\n",
    "\n",
    "Definition of all the paths of all folders with the raw annotation and audio files for this deployment."
   ]
  },
  {
   "cell_type": "code",
   "execution_count": 66,
   "metadata": {},
   "outputs": [],
   "source": [
    "audio_dir = r'D:\\NOAA\\2022_Minke_whale_detector\\manual_annotations\\UK-MSS-MorayFirth-201904_360-Helmsdale\\noise'\n",
    "deployment_file = r'deployment_info.csv' \n",
    "file_ext = 'wav'\n",
    "\n",
    "annot_dur_sec = 60  # duration of the noise annotations in seconds\n",
    "label_class = 'NN'  # label to use for the noise class\n",
    "label_subclass = '' # label to use for the noise subclass (if needed, e.g. S for seismic airguns)"
   ]
  },
  {
   "cell_type": "raw",
   "metadata": {},
   "source": [
    "Now we can create annotations for all audio files in that folder."
   ]
  },
  {
   "cell_type": "code",
   "execution_count": 67,
   "metadata": {
    "scrolled": true
   },
   "outputs": [
    {
     "name": "stdout",
     "output_type": "stream",
     "text": [
      "Depl360_Helmsdale_190731_160000.wav\n",
      "Depl360_Helmsdale_190601_143000.wav\n",
      "Depl360_Helmsdale_190601_200000.wav\n",
      "Depl360_Helmsdale_190601_203000.wav\n",
      "Depl360_Helmsdale_190601_213000.wav\n",
      "Depl360_Helmsdale_190602_190000.wav\n",
      "Depl360_Helmsdale_190606_033000.wav\n",
      "Depl360_Helmsdale_190609_213000.wav\n",
      "Depl360_Helmsdale_190609_230000.wav\n",
      "Depl360_Helmsdale_190610_013000.wav\n",
      "Depl360_Helmsdale_190610_073000.wav\n",
      "Depl360_Helmsdale_190610_120000.wav\n",
      "Depl360_Helmsdale_190610_130000.wav\n",
      "Depl360_Helmsdale_190610_223000.wav\n",
      "Depl360_Helmsdale_190610_233000.wav\n",
      "Depl360_Helmsdale_190611_000000.wav\n",
      "Depl360_Helmsdale_190613_033000.wav\n",
      "Depl360_Helmsdale_190614_050000.wav\n",
      "Depl360_Helmsdale_190614_190000.wav\n",
      "Depl360_Helmsdale_190617_083000.wav\n",
      "Depl360_Helmsdale_190618_023000.wav\n",
      "Depl360_Helmsdale_190618_120000.wav\n",
      "Depl360_Helmsdale_190619_093000.wav\n",
      "Depl360_Helmsdale_190619_100000.wav\n",
      "Depl360_Helmsdale_190620_213000.wav\n",
      "Depl360_Helmsdale_190620_220000.wav\n",
      "Depl360_Helmsdale_190622_033000.wav\n",
      "Depl360_Helmsdale_190622_210000.wav\n",
      "Depl360_Helmsdale_190624_040000.wav\n",
      "Depl360_Helmsdale_190626_083000.wav\n",
      "Depl360_Helmsdale_190626_090000.wav\n",
      "Depl360_Helmsdale_190626_103000.wav\n",
      "Depl360_Helmsdale_190626_183000.wav\n",
      "Depl360_Helmsdale_190626_190000.wav\n",
      "Depl360_Helmsdale_190627_050000.wav\n",
      "Depl360_Helmsdale_190627_053000.wav\n",
      "Depl360_Helmsdale_190627_123000.wav\n",
      "Depl360_Helmsdale_190627_130000.wav\n",
      "Depl360_Helmsdale_190630_113000.wav\n",
      "Depl360_Helmsdale_190702_160000.wav\n",
      "Depl360_Helmsdale_190708_190000.wav\n",
      "Depl360_Helmsdale_190709_173000.wav\n",
      "Depl360_Helmsdale_190714_010000.wav\n",
      "Depl360_Helmsdale_190717_143000.wav\n",
      "Depl360_Helmsdale_190718_180000.wav\n",
      "Depl360_Helmsdale_190719_100000.wav\n",
      "Depl360_Helmsdale_190720_183000.wav\n",
      "Depl360_Helmsdale_190720_190000.wav\n",
      "Depl360_Helmsdale_190726_023000.wav\n",
      "Depl360_Helmsdale_190726_170000.wav\n",
      "Depl360_Helmsdale_190728_153000.wav\n",
      "Depl360_Helmsdale_190730_030000.wav\n"
     ]
    }
   ],
   "source": [
    "annot = create_noise_annot(audio_dir, deployment_file, file_ext, annot_dur_sec, label_class, label_subclass)"
   ]
  },
  {
   "cell_type": "markdown",
   "metadata": {},
   "source": [
    "Let's look at the summary of annotations that were created:"
   ]
  },
  {
   "cell_type": "code",
   "execution_count": 68,
   "metadata": {
    "scrolled": true
   },
   "outputs": [
    {
     "data": {
      "text/html": [
       "<div>\n",
       "<style scoped>\n",
       "    .dataframe tbody tr th:only-of-type {\n",
       "        vertical-align: middle;\n",
       "    }\n",
       "\n",
       "    .dataframe tbody tr th {\n",
       "        vertical-align: top;\n",
       "    }\n",
       "\n",
       "    .dataframe thead th {\n",
       "        text-align: right;\n",
       "    }\n",
       "</style>\n",
       "<table border=\"1\" class=\"dataframe\">\n",
       "  <thead>\n",
       "    <tr style=\"text-align: right;\">\n",
       "      <th>label_class</th>\n",
       "      <th>NN</th>\n",
       "      <th>Total</th>\n",
       "    </tr>\n",
       "    <tr>\n",
       "      <th>deployment_ID</th>\n",
       "      <th></th>\n",
       "      <th></th>\n",
       "    </tr>\n",
       "  </thead>\n",
       "  <tbody>\n",
       "    <tr>\n",
       "      <th>UK-MSS-MorayFirth-201904_360-Helmsdale</th>\n",
       "      <td>482</td>\n",
       "      <td>482</td>\n",
       "    </tr>\n",
       "    <tr>\n",
       "      <th>Total</th>\n",
       "      <td>482</td>\n",
       "      <td>482</td>\n",
       "    </tr>\n",
       "  </tbody>\n",
       "</table>\n",
       "</div>"
      ],
      "text/plain": [
       "label_class                              NN  Total\n",
       "deployment_ID                                     \n",
       "UK-MSS-MorayFirth-201904_360-Helmsdale  482    482\n",
       "Total                                   482    482"
      ]
     },
     "execution_count": 68,
     "metadata": {},
     "output_type": "execute_result"
    }
   ],
   "source": [
    "annot.summary()"
   ]
  },
  {
   "cell_type": "markdown",
   "metadata": {},
   "source": [
    "The dataset can now be saved as a Raven annotation file and netcdf4 file:"
   ]
  },
  {
   "cell_type": "code",
   "execution_count": 69,
   "metadata": {},
   "outputs": [],
   "source": [
    "annot.to_netcdf(os.path.join(audio_dir, 'Annotations_dataset_' + annot.data['deployment_ID'][0] +' annotations.nc'))\n",
    "annot.to_raven(audio_dir, outfile='Annotations_dataset_' + annot.data['deployment_ID'][0] +'.Table.1.selections.txt', single_file=True)"
   ]
  },
  {
   "cell_type": "code",
   "execution_count": null,
   "metadata": {},
   "outputs": [],
   "source": []
  },
  {
   "cell_type": "markdown",
   "metadata": {},
   "source": [
    "### Dataset 11: UK-MSS-MorayFirth-201908_421-Helmsdale\n",
    "\n",
    "Definition of all the paths of all folders with the raw annotation and audio files for this deployment."
   ]
  },
  {
   "cell_type": "code",
   "execution_count": 90,
   "metadata": {},
   "outputs": [],
   "source": [
    "audio_dir = r'D:\\NOAA\\2022_Minke_whale_detector\\manual_annotations\\UK-MSS-MorayFirth-201908_421-Helmsdale\\noise'\n",
    "deployment_file = r'deployment_info.csv' \n",
    "file_ext = 'wav'\n",
    "\n",
    "annot_dur_sec = 60  # duration of the noise annotations in seconds\n",
    "label_class = 'NN'  # label to use for the noise class\n",
    "label_subclass = '' # label to use for the noise subclass (if needed, e.g. S for seismic airguns)"
   ]
  },
  {
   "cell_type": "raw",
   "metadata": {},
   "source": [
    "Now we can create annotations for all audio files in that folder."
   ]
  },
  {
   "cell_type": "code",
   "execution_count": 91,
   "metadata": {
    "scrolled": false
   },
   "outputs": [
    {
     "name": "stdout",
     "output_type": "stream",
     "text": [
      "Depl421_Helmsdale_191031_221000.wav\n",
      "Depl421_Helmsdale_190901_221000.wav\n",
      "Depl421_Helmsdale_190902_111000.wav\n",
      "Depl421_Helmsdale_190902_114000.wav\n",
      "Depl421_Helmsdale_190902_121000.wav\n",
      "Depl421_Helmsdale_190902_124000.wav\n",
      "Depl421_Helmsdale_190902_131000.wav\n",
      "Depl421_Helmsdale_190902_164000.wav\n",
      "Depl421_Helmsdale_190902_201000.wav\n",
      "Depl421_Helmsdale_190902_204000.wav\n",
      "Depl421_Helmsdale_190902_211000.wav\n",
      "Depl421_Helmsdale_190902_214000.wav\n",
      "Depl421_Helmsdale_190902_221000.wav\n",
      "Depl421_Helmsdale_190902_224000.wav\n",
      "Depl421_Helmsdale_190902_231000.wav\n",
      "Depl421_Helmsdale_190902_234000.wav\n",
      "Depl421_Helmsdale_190903_001000.wav\n",
      "Depl421_Helmsdale_190903_021000.wav\n",
      "Depl421_Helmsdale_190903_024000.wav\n",
      "Depl421_Helmsdale_190903_034000.wav\n",
      "Depl421_Helmsdale_190903_234000.wav\n",
      "Depl421_Helmsdale_190904_064000.wav\n",
      "Depl421_Helmsdale_190904_104000.wav\n",
      "Depl421_Helmsdale_190904_111000.wav\n",
      "Depl421_Helmsdale_190904_114000.wav\n",
      "Depl421_Helmsdale_190904_121000.wav\n",
      "Depl421_Helmsdale_190904_124000.wav\n",
      "Depl421_Helmsdale_190905_121000.wav\n",
      "Depl421_Helmsdale_190905_221000.wav\n",
      "Depl421_Helmsdale_190906_011000.wav\n",
      "Depl421_Helmsdale_190906_184000.wav\n",
      "Depl421_Helmsdale_190906_191000.wav\n",
      "Depl421_Helmsdale_190910_001000.wav\n",
      "Depl421_Helmsdale_190911_051000.wav\n",
      "Depl421_Helmsdale_190912_091000.wav\n",
      "Depl421_Helmsdale_190915_141000.wav\n",
      "Depl421_Helmsdale_190915_151000.wav\n",
      "Depl421_Helmsdale_190915_231000.wav\n",
      "Depl421_Helmsdale_190916_041000.wav\n",
      "Depl421_Helmsdale_190918_151000.wav\n",
      "Depl421_Helmsdale_190918_154000.wav\n",
      "Depl421_Helmsdale_190918_161000.wav\n",
      "Depl421_Helmsdale_190918_164000.wav\n",
      "Depl421_Helmsdale_190918_184000.wav\n",
      "Depl421_Helmsdale_190918_191000.wav\n",
      "Depl421_Helmsdale_190918_204000.wav\n",
      "Depl421_Helmsdale_190919_011000.wav\n",
      "Depl421_Helmsdale_190919_014000.wav\n",
      "Depl421_Helmsdale_190919_021000.wav\n",
      "Depl421_Helmsdale_190919_024000.wav\n",
      "Depl421_Helmsdale_190919_031000.wav\n",
      "Depl421_Helmsdale_190919_034000.wav\n",
      "Depl421_Helmsdale_190919_204000.wav\n",
      "Depl421_Helmsdale_190919_224000.wav\n",
      "Depl421_Helmsdale_190919_231000.wav\n",
      "Depl421_Helmsdale_190919_234000.wav\n",
      "Depl421_Helmsdale_190920_001000.wav\n",
      "Depl421_Helmsdale_190920_011000.wav\n",
      "Depl421_Helmsdale_190920_014000.wav\n",
      "Depl421_Helmsdale_190920_031000.wav\n",
      "Depl421_Helmsdale_190920_211000.wav\n",
      "Depl421_Helmsdale_190923_104000.wav\n",
      "Depl421_Helmsdale_190923_111000.wav\n",
      "Depl421_Helmsdale_190923_161000.wav\n",
      "Depl421_Helmsdale_190923_171000.wav\n",
      "Depl421_Helmsdale_190923_174000.wav\n",
      "Depl421_Helmsdale_190923_194000.wav\n",
      "Depl421_Helmsdale_190923_204000.wav\n",
      "Depl421_Helmsdale_190923_214000.wav\n",
      "Depl421_Helmsdale_190923_224000.wav\n",
      "Depl421_Helmsdale_190924_024000.wav\n",
      "Depl421_Helmsdale_190924_031000.wav\n",
      "Depl421_Helmsdale_190924_161000.wav\n",
      "Depl421_Helmsdale_190925_001000.wav\n",
      "Depl421_Helmsdale_190925_031000.wav\n",
      "Depl421_Helmsdale_190925_044000.wav\n",
      "Depl421_Helmsdale_190925_051000.wav\n",
      "Depl421_Helmsdale_190925_054000.wav\n",
      "Depl421_Helmsdale_190926_051000.wav\n",
      "Depl421_Helmsdale_190926_054000.wav\n",
      "Depl421_Helmsdale_190926_061000.wav\n",
      "Depl421_Helmsdale_190926_071000.wav\n",
      "Depl421_Helmsdale_190926_114000.wav\n",
      "Depl421_Helmsdale_190926_124000.wav\n",
      "Depl421_Helmsdale_190926_131000.wav\n",
      "Depl421_Helmsdale_190926_134000.wav\n",
      "Depl421_Helmsdale_190926_141000.wav\n",
      "Depl421_Helmsdale_190926_154000.wav\n",
      "Depl421_Helmsdale_190926_174000.wav\n",
      "Depl421_Helmsdale_190926_181000.wav\n",
      "Depl421_Helmsdale_190926_184000.wav\n",
      "Depl421_Helmsdale_190926_191000.wav\n",
      "Depl421_Helmsdale_190926_194000.wav\n",
      "Depl421_Helmsdale_190926_201000.wav\n",
      "Depl421_Helmsdale_190926_211000.wav\n",
      "Depl421_Helmsdale_190926_224000.wav\n",
      "Depl421_Helmsdale_190927_084000.wav\n",
      "Depl421_Helmsdale_190927_094000.wav\n",
      "Depl421_Helmsdale_190927_131000.wav\n",
      "Depl421_Helmsdale_190927_134000.wav\n",
      "Depl421_Helmsdale_190927_174000.wav\n",
      "Depl421_Helmsdale_190927_181000.wav\n",
      "Depl421_Helmsdale_190927_231000.wav\n",
      "Depl421_Helmsdale_190928_011000.wav\n",
      "Depl421_Helmsdale_190928_021000.wav\n",
      "Depl421_Helmsdale_190928_024000.wav\n",
      "Depl421_Helmsdale_190928_131000.wav\n",
      "Depl421_Helmsdale_190928_191000.wav\n",
      "Depl421_Helmsdale_190928_204000.wav\n",
      "Depl421_Helmsdale_190928_211000.wav\n",
      "Depl421_Helmsdale_190928_214000.wav\n",
      "Depl421_Helmsdale_190928_221000.wav\n",
      "Depl421_Helmsdale_190929_004000.wav\n",
      "Depl421_Helmsdale_190929_074000.wav\n",
      "Depl421_Helmsdale_190929_081000.wav\n",
      "Depl421_Helmsdale_190929_084000.wav\n",
      "Depl421_Helmsdale_190929_094000.wav\n",
      "Depl421_Helmsdale_190929_111000.wav\n",
      "Depl421_Helmsdale_190929_121000.wav\n",
      "Depl421_Helmsdale_190929_134000.wav\n",
      "Depl421_Helmsdale_190929_184000.wav\n",
      "Depl421_Helmsdale_190929_211000.wav\n",
      "Depl421_Helmsdale_190929_224000.wav\n",
      "Depl421_Helmsdale_190929_234000.wav\n",
      "Depl421_Helmsdale_190930_001000.wav\n",
      "Depl421_Helmsdale_190930_004000.wav\n",
      "Depl421_Helmsdale_190930_021000.wav\n",
      "Depl421_Helmsdale_190930_024000.wav\n",
      "Depl421_Helmsdale_190930_034000.wav\n",
      "Depl421_Helmsdale_190930_081000.wav\n",
      "Depl421_Helmsdale_190930_141000.wav\n",
      "Depl421_Helmsdale_190930_204000.wav\n",
      "Depl421_Helmsdale_190930_211000.wav\n",
      "Depl421_Helmsdale_190930_214000.wav\n",
      "Depl421_Helmsdale_191001_034000.wav\n",
      "Depl421_Helmsdale_191001_111000.wav\n",
      "Depl421_Helmsdale_191002_184000.wav\n",
      "Depl421_Helmsdale_191002_204000.wav\n",
      "Depl421_Helmsdale_191004_021000.wav\n",
      "Depl421_Helmsdale_191004_141000.wav\n",
      "Depl421_Helmsdale_191004_144000.wav\n",
      "Depl421_Helmsdale_191004_151000.wav\n",
      "Depl421_Helmsdale_191004_154000.wav\n",
      "Depl421_Helmsdale_191005_001000.wav\n",
      "Depl421_Helmsdale_191005_004000.wav\n",
      "Depl421_Helmsdale_191005_011000.wav\n",
      "Depl421_Helmsdale_191005_014000.wav\n",
      "Depl421_Helmsdale_191005_074000.wav\n",
      "Depl421_Helmsdale_191005_211000.wav\n",
      "Depl421_Helmsdale_191005_214000.wav\n",
      "Depl421_Helmsdale_191005_221000.wav\n",
      "Depl421_Helmsdale_191005_224000.wav\n",
      "Depl421_Helmsdale_191005_231000.wav\n",
      "Depl421_Helmsdale_191007_134000.wav\n",
      "Depl421_Helmsdale_191007_204000.wav\n",
      "Depl421_Helmsdale_191007_221000.wav\n",
      "Depl421_Helmsdale_191007_224000.wav\n",
      "Depl421_Helmsdale_191007_231000.wav\n",
      "Depl421_Helmsdale_191009_151000.wav\n",
      "Depl421_Helmsdale_191009_154000.wav\n",
      "Depl421_Helmsdale_191010_221000.wav\n",
      "Depl421_Helmsdale_191011_014000.wav\n",
      "Depl421_Helmsdale_191011_021000.wav\n",
      "Depl421_Helmsdale_191012_151000.wav\n",
      "Depl421_Helmsdale_191012_201000.wav\n",
      "Depl421_Helmsdale_191012_204000.wav\n",
      "Depl421_Helmsdale_191012_214000.wav\n",
      "Depl421_Helmsdale_191013_034000.wav\n",
      "Depl421_Helmsdale_191013_091000.wav\n",
      "Depl421_Helmsdale_191013_094000.wav\n",
      "Depl421_Helmsdale_191013_101000.wav\n",
      "Depl421_Helmsdale_191013_194000.wav\n",
      "Depl421_Helmsdale_191013_201000.wav\n",
      "Depl421_Helmsdale_191013_211000.wav\n",
      "Depl421_Helmsdale_191013_214000.wav\n",
      "Depl421_Helmsdale_191013_221000.wav\n",
      "Depl421_Helmsdale_191013_224000.wav\n",
      "Depl421_Helmsdale_191013_231000.wav\n",
      "Depl421_Helmsdale_191014_071000.wav\n",
      "Depl421_Helmsdale_191014_074000.wav\n",
      "Depl421_Helmsdale_191014_081000.wav\n",
      "Depl421_Helmsdale_191014_114000.wav\n",
      "Depl421_Helmsdale_191014_204000.wav\n",
      "Depl421_Helmsdale_191014_214000.wav\n",
      "Depl421_Helmsdale_191014_221000.wav\n",
      "Depl421_Helmsdale_191014_224000.wav\n",
      "Depl421_Helmsdale_191014_234000.wav\n",
      "Depl421_Helmsdale_191015_211000.wav\n",
      "Depl421_Helmsdale_191015_221000.wav\n",
      "Depl421_Helmsdale_191016_034000.wav\n",
      "Depl421_Helmsdale_191016_084000.wav\n",
      "Depl421_Helmsdale_191016_114000.wav\n",
      "Depl421_Helmsdale_191016_184000.wav\n",
      "Depl421_Helmsdale_191016_191000.wav\n",
      "Depl421_Helmsdale_191016_201000.wav\n",
      "Depl421_Helmsdale_191016_221000.wav\n",
      "Depl421_Helmsdale_191017_201000.wav\n",
      "Depl421_Helmsdale_191017_204000.wav\n",
      "Depl421_Helmsdale_191017_211000.wav\n",
      "Depl421_Helmsdale_191017_214000.wav\n",
      "Depl421_Helmsdale_191017_221000.wav\n",
      "Depl421_Helmsdale_191017_224000.wav\n",
      "Depl421_Helmsdale_191017_234000.wav\n",
      "Depl421_Helmsdale_191018_001000.wav\n",
      "Depl421_Helmsdale_191019_061000.wav\n",
      "Depl421_Helmsdale_191019_064000.wav\n",
      "Depl421_Helmsdale_191019_091000.wav\n",
      "Depl421_Helmsdale_191020_104000.wav\n",
      "Depl421_Helmsdale_191021_011000.wav\n",
      "Depl421_Helmsdale_191022_101000.wav\n",
      "Depl421_Helmsdale_191023_171000.wav\n",
      "Depl421_Helmsdale_191024_004000.wav\n",
      "Depl421_Helmsdale_191024_081000.wav\n",
      "Depl421_Helmsdale_191024_091000.wav\n",
      "Depl421_Helmsdale_191026_071000.wav\n",
      "Depl421_Helmsdale_191026_074000.wav\n",
      "Depl421_Helmsdale_191026_181000.wav\n",
      "Depl421_Helmsdale_191027_024000.wav\n",
      "Depl421_Helmsdale_191027_121000.wav\n",
      "Depl421_Helmsdale_191027_131000.wav\n",
      "Depl421_Helmsdale_191027_134000.wav\n",
      "Depl421_Helmsdale_191028_014000.wav\n",
      "Depl421_Helmsdale_191028_061000.wav\n",
      "Depl421_Helmsdale_191028_081000.wav\n",
      "Depl421_Helmsdale_191028_084000.wav\n",
      "Depl421_Helmsdale_191028_191000.wav\n",
      "Depl421_Helmsdale_191028_194000.wav\n",
      "Depl421_Helmsdale_191028_201000.wav\n",
      "Depl421_Helmsdale_191028_204000.wav\n",
      "Depl421_Helmsdale_191029_024000.wav\n",
      "Depl421_Helmsdale_191029_031000.wav\n",
      "Depl421_Helmsdale_191029_034000.wav\n",
      "Depl421_Helmsdale_191029_074000.wav\n"
     ]
    },
    {
     "name": "stdout",
     "output_type": "stream",
     "text": [
      "Depl421_Helmsdale_191029_101000.wav\n",
      "Depl421_Helmsdale_191029_104000.wav\n",
      "Depl421_Helmsdale_191029_151000.wav\n",
      "Depl421_Helmsdale_191029_154000.wav\n",
      "Depl421_Helmsdale_191029_161000.wav\n",
      "Depl421_Helmsdale_191029_204000.wav\n",
      "Depl421_Helmsdale_191029_211000.wav\n",
      "Depl421_Helmsdale_191029_214000.wav\n",
      "Depl421_Helmsdale_191029_221000.wav\n",
      "Depl421_Helmsdale_191029_231000.wav\n",
      "Depl421_Helmsdale_191030_074000.wav\n",
      "Depl421_Helmsdale_191030_081000.wav\n",
      "Depl421_Helmsdale_191030_084000.wav\n",
      "Depl421_Helmsdale_191030_091000.wav\n",
      "Depl421_Helmsdale_191030_094000.wav\n",
      "Depl421_Helmsdale_191030_101000.wav\n",
      "Depl421_Helmsdale_191030_104000.wav\n",
      "Depl421_Helmsdale_191030_111000.wav\n",
      "Depl421_Helmsdale_191030_161000.wav\n",
      "Depl421_Helmsdale_191030_231000.wav\n",
      "Depl421_Helmsdale_191031_004000.wav\n",
      "Depl421_Helmsdale_191031_214000.wav\n"
     ]
    }
   ],
   "source": [
    "annot = create_noise_annot(audio_dir, deployment_file, file_ext, annot_dur_sec, label_class, label_subclass)"
   ]
  },
  {
   "cell_type": "markdown",
   "metadata": {},
   "source": [
    "Let's look at the summary of annotations that were created:"
   ]
  },
  {
   "cell_type": "code",
   "execution_count": 92,
   "metadata": {
    "scrolled": true
   },
   "outputs": [
    {
     "data": {
      "text/html": [
       "<div>\n",
       "<style scoped>\n",
       "    .dataframe tbody tr th:only-of-type {\n",
       "        vertical-align: middle;\n",
       "    }\n",
       "\n",
       "    .dataframe tbody tr th {\n",
       "        vertical-align: top;\n",
       "    }\n",
       "\n",
       "    .dataframe thead th {\n",
       "        text-align: right;\n",
       "    }\n",
       "</style>\n",
       "<table border=\"1\" class=\"dataframe\">\n",
       "  <thead>\n",
       "    <tr style=\"text-align: right;\">\n",
       "      <th>label_class</th>\n",
       "      <th>NN</th>\n",
       "      <th>Total</th>\n",
       "    </tr>\n",
       "    <tr>\n",
       "      <th>deployment_ID</th>\n",
       "      <th></th>\n",
       "      <th></th>\n",
       "    </tr>\n",
       "  </thead>\n",
       "  <tbody>\n",
       "    <tr>\n",
       "      <th>UK-MSS-MorayFirth-201908_421-Helmsdale</th>\n",
       "      <td>2346</td>\n",
       "      <td>2346</td>\n",
       "    </tr>\n",
       "    <tr>\n",
       "      <th>Total</th>\n",
       "      <td>2346</td>\n",
       "      <td>2346</td>\n",
       "    </tr>\n",
       "  </tbody>\n",
       "</table>\n",
       "</div>"
      ],
      "text/plain": [
       "label_class                               NN  Total\n",
       "deployment_ID                                      \n",
       "UK-MSS-MorayFirth-201908_421-Helmsdale  2346   2346\n",
       "Total                                   2346   2346"
      ]
     },
     "execution_count": 92,
     "metadata": {},
     "output_type": "execute_result"
    }
   ],
   "source": [
    "annot.summary()"
   ]
  },
  {
   "cell_type": "markdown",
   "metadata": {},
   "source": [
    "The dataset can now be saved as a Raven annotation file and netcdf4 file:"
   ]
  },
  {
   "cell_type": "code",
   "execution_count": 93,
   "metadata": {},
   "outputs": [],
   "source": [
    "annot.to_netcdf(os.path.join(audio_dir, 'Annotations_dataset_' + annot.data['deployment_ID'][0] +' annotations.nc'))\n",
    "annot.to_raven(audio_dir, outfile='Annotations_dataset_' + annot.data['deployment_ID'][0] +'.Table.1.selections.txt', single_file=True)"
   ]
  },
  {
   "cell_type": "code",
   "execution_count": null,
   "metadata": {},
   "outputs": [],
   "source": []
  },
  {
   "cell_type": "markdown",
   "metadata": {},
   "source": [
    "### Dataset 12: UK-SAMS-WestScotland-201711-StantonBank\n",
    "\n",
    "Definition of all the paths of all folders with the raw annotation and audio files for this deployment."
   ]
  },
  {
   "cell_type": "code",
   "execution_count": 94,
   "metadata": {},
   "outputs": [],
   "source": [
    "audio_dir = r'D:\\NOAA\\2022_Minke_whale_detector\\manual_annotations\\UK-SAMS-WestScotland-201711-StantonBank\\Noise'\n",
    "deployment_file = r'deployment_info.csv' \n",
    "file_ext = 'wav'\n",
    "\n",
    "annot_dur_sec = 60  # duration of the noise annotations in seconds\n",
    "label_class = 'NN'  # label to use for the noise class\n",
    "label_subclass = '' # label to use for the noise subclass (if needed, e.g. S for seismic airguns)"
   ]
  },
  {
   "cell_type": "raw",
   "metadata": {},
   "source": [
    "Now we can create annotations for all audio files in that folder."
   ]
  },
  {
   "cell_type": "code",
   "execution_count": 95,
   "metadata": {
    "scrolled": false
   },
   "outputs": [
    {
     "name": "stdout",
     "output_type": "stream",
     "text": [
      "PAM_20180321_000004_000_noise_end.wav\n",
      "PAM_20181124_000003_000.wav\n",
      "PAM_20181124_010003_000.wav\n",
      "PAM_20181124_020003_000.wav\n",
      "PAM_20181124_030003_000.wav\n",
      "PAM_20181124_040003_000.wav\n",
      "PAM_20181124_050003_000.wav\n",
      "PAM_20181124_060003_000.wav\n",
      "PAM_20181124_070003_000.wav\n",
      "PAM_20181124_080003_000.wav\n",
      "PAM_20181124_090003_000.wav\n",
      "PAM_20181124_100003_000.wav\n",
      "PAM_20181124_110003_000.wav\n",
      "PAM_20181124_120003_000.wav\n",
      "PAM_20181124_130003_000.wav\n",
      "PAM_20181124_140003_000.wav\n",
      "PAM_20181124_150003_000.wav\n",
      "PAM_20181124_160003_000.wav\n",
      "PAM_20181124_170003_000.wav\n",
      "PAM_20181124_180003_000.wav\n",
      "PAM_20181124_190003_000.wav\n",
      "PAM_20181124_200003_000.wav\n",
      "PAM_20181124_210003_000.wav\n",
      "PAM_20181124_220003_000.wav\n",
      "PAM_20181124_230003_000.wav\n",
      "PAM_20181225_000003_000.wav\n",
      "PAM_20181225_010003_000.wav\n",
      "PAM_20181225_020003_000.wav\n",
      "PAM_20181225_030003_000.wav\n",
      "PAM_20181225_040003_000.wav\n",
      "PAM_20181225_050003_000.wav\n",
      "PAM_20181225_060003_000.wav\n",
      "PAM_20181225_070003_000.wav\n",
      "PAM_20181225_080003_000.wav\n",
      "PAM_20181225_090003_000.wav\n",
      "PAM_20181225_100003_000.wav\n",
      "PAM_20181225_110003_000.wav\n",
      "PAM_20181225_120003_000.wav\n",
      "PAM_20181225_130003_000.wav\n",
      "PAM_20181225_140003_000.wav\n",
      "PAM_20181225_150003_000.wav\n",
      "PAM_20181225_160003_000.wav\n",
      "PAM_20181225_170003_000.wav\n",
      "PAM_20181225_180003_000.wav\n",
      "PAM_20181225_190003_000.wav\n",
      "PAM_20181225_200003_000.wav\n",
      "PAM_20181225_210003_000.wav\n",
      "PAM_20181225_220003_000.wav\n",
      "PAM_20181225_230003_000.wav\n",
      "PAM_20190113_000003_000.wav\n",
      "PAM_20190113_010003_000.wav\n",
      "PAM_20190113_020003_000.wav\n",
      "PAM_20190113_030003_000.wav\n",
      "PAM_20190113_040003_000.wav\n",
      "PAM_20190113_050003_000.wav\n",
      "PAM_20190113_060003_000.wav\n",
      "PAM_20190113_070003_000.wav\n",
      "PAM_20190113_080003_000.wav\n",
      "PAM_20190113_090003_000.wav\n",
      "PAM_20190113_100003_000.wav\n",
      "PAM_20190113_110003_000.wav\n",
      "PAM_20190113_120003_000.wav\n",
      "PAM_20190113_130003_000.wav\n",
      "PAM_20190113_140003_000.wav\n",
      "PAM_20190113_150003_000.wav\n",
      "PAM_20190113_160003_000.wav\n",
      "PAM_20190113_170003_000.wav\n",
      "PAM_20190113_180003_000.wav\n",
      "PAM_20190113_190003_000.wav\n",
      "PAM_20190113_200003_000.wav\n",
      "PAM_20190113_210003_000.wav\n",
      "PAM_20190113_220003_000.wav\n",
      "PAM_20190113_230003_000.wav\n",
      "PAM_20190208_000003_000.wav\n",
      "PAM_20190208_010003_000.wav\n",
      "PAM_20190208_020003_000.wav\n",
      "PAM_20190208_030003_000.wav\n",
      "PAM_20190208_040003_000.wav\n",
      "PAM_20190208_050003_000.wav\n",
      "PAM_20190208_060003_000.wav\n",
      "PAM_20190208_070003_000.wav\n",
      "PAM_20190208_080003_000.wav\n",
      "PAM_20190208_090003_000.wav\n",
      "PAM_20190208_100003_000.wav\n",
      "PAM_20190208_110003_000.wav\n",
      "PAM_20190208_120003_000.wav\n",
      "PAM_20190208_130003_000.wav\n",
      "PAM_20190208_140003_000.wav\n",
      "PAM_20190208_150003_000.wav\n",
      "PAM_20190208_160003_000.wav\n",
      "PAM_20190208_170003_000.wav\n",
      "PAM_20190208_180003_000.wav\n",
      "PAM_20190208_190003_000.wav\n",
      "PAM_20190208_200003_000.wav\n",
      "PAM_20190208_210003_000.wav\n",
      "PAM_20190208_220003_000.wav\n",
      "PAM_20190208_230003_000.wav\n"
     ]
    }
   ],
   "source": [
    "annot = create_noise_annot(audio_dir, deployment_file, file_ext, annot_dur_sec, label_class, label_subclass)"
   ]
  },
  {
   "cell_type": "markdown",
   "metadata": {},
   "source": [
    "Let's look at the summary of annotations that were created:"
   ]
  },
  {
   "cell_type": "code",
   "execution_count": 96,
   "metadata": {
    "scrolled": true
   },
   "outputs": [
    {
     "data": {
      "text/html": [
       "<div>\n",
       "<style scoped>\n",
       "    .dataframe tbody tr th:only-of-type {\n",
       "        vertical-align: middle;\n",
       "    }\n",
       "\n",
       "    .dataframe tbody tr th {\n",
       "        vertical-align: top;\n",
       "    }\n",
       "\n",
       "    .dataframe thead th {\n",
       "        text-align: right;\n",
       "    }\n",
       "</style>\n",
       "<table border=\"1\" class=\"dataframe\">\n",
       "  <thead>\n",
       "    <tr style=\"text-align: right;\">\n",
       "      <th>label_class</th>\n",
       "      <th>NN</th>\n",
       "      <th>Total</th>\n",
       "    </tr>\n",
       "    <tr>\n",
       "      <th>deployment_ID</th>\n",
       "      <th></th>\n",
       "      <th></th>\n",
       "    </tr>\n",
       "  </thead>\n",
       "  <tbody>\n",
       "    <tr>\n",
       "      <th>UK-SAMS-WestScotland-201711-StantonBank</th>\n",
       "      <td>1911</td>\n",
       "      <td>1911</td>\n",
       "    </tr>\n",
       "    <tr>\n",
       "      <th>Total</th>\n",
       "      <td>1911</td>\n",
       "      <td>1911</td>\n",
       "    </tr>\n",
       "  </tbody>\n",
       "</table>\n",
       "</div>"
      ],
      "text/plain": [
       "label_class                                NN  Total\n",
       "deployment_ID                                       \n",
       "UK-SAMS-WestScotland-201711-StantonBank  1911   1911\n",
       "Total                                    1911   1911"
      ]
     },
     "execution_count": 96,
     "metadata": {},
     "output_type": "execute_result"
    }
   ],
   "source": [
    "annot.summary()"
   ]
  },
  {
   "cell_type": "markdown",
   "metadata": {},
   "source": [
    "The dataset can now be saved as a Raven annotation file and netcdf4 file:"
   ]
  },
  {
   "cell_type": "code",
   "execution_count": 97,
   "metadata": {},
   "outputs": [],
   "source": [
    "annot.to_netcdf(os.path.join(audio_dir, 'Annotations_dataset_' + annot.data['deployment_ID'][0] +' annotations.nc'))\n",
    "annot.to_raven(audio_dir, outfile='Annotations_dataset_' + annot.data['deployment_ID'][0] +'.Table.1.selections.txt', single_file=True)"
   ]
  },
  {
   "cell_type": "code",
   "execution_count": null,
   "metadata": {},
   "outputs": [],
   "source": []
  },
  {
   "cell_type": "markdown",
   "metadata": {},
   "source": [
    "### Dataset 13: UK-SAMS-WestScotland-202009-N1\n",
    "\n",
    "Definition of all the paths of all folders with the raw annotation and audio files for this deployment."
   ]
  },
  {
   "cell_type": "code",
   "execution_count": 108,
   "metadata": {},
   "outputs": [],
   "source": [
    "audio_dir = r'D:\\NOAA\\2022_Minke_whale_detector\\manual_annotations\\UK-SAMS-WestScotland-202009-N1\\Noise'\n",
    "deployment_file = r'deployment_info.csv' \n",
    "file_ext = 'wav'\n",
    "\n",
    "annot_dur_sec = 60  # duration of the noise annotations in seconds\n",
    "label_class = 'NN'  # label to use for the noise class\n",
    "label_subclass = '' # label to use for the noise subclass (if needed, e.g. S for seismic airguns)"
   ]
  },
  {
   "cell_type": "raw",
   "metadata": {},
   "source": [
    "Now we can create annotations for all audio files in that folder."
   ]
  },
  {
   "cell_type": "code",
   "execution_count": 109,
   "metadata": {
    "scrolled": false
   },
   "outputs": [
    {
     "name": "stdout",
     "output_type": "stream",
     "text": [
      "channelA_2020-10-19_00-00-04_noise_end.wav\n",
      "channelA_2020-12-12_00-00-05.wav\n",
      "channelA_2020-12-12_01-00-05.wav\n",
      "channelA_2020-12-12_02-00-05.wav\n",
      "channelA_2020-12-12_03-00-05.wav\n",
      "channelA_2020-12-12_04-00-05.wav\n",
      "channelA_2020-12-12_05-00-05.wav\n",
      "channelA_2020-12-12_06-00-05.wav\n",
      "channelA_2020-12-12_07-00-05.wav\n",
      "channelA_2020-12-12_08-00-05.wav\n",
      "channelA_2020-12-12_09-00-05.wav\n",
      "channelA_2020-12-12_10-00-05.wav\n",
      "channelA_2020-12-12_11-00-05.wav\n",
      "channelA_2020-12-12_12-00-05.wav\n",
      "channelA_2020-12-12_13-00-05.wav\n",
      "channelA_2020-12-12_14-00-05.wav\n",
      "channelA_2020-12-12_15-00-05.wav\n",
      "channelA_2020-12-12_16-00-05.wav\n",
      "channelA_2020-12-12_17-00-05.wav\n",
      "channelA_2020-12-12_18-00-05.wav\n",
      "channelA_2020-12-12_19-00-05.wav\n",
      "channelA_2020-12-12_20-00-05.wav\n",
      "channelA_2020-12-12_21-00-05.wav\n",
      "channelA_2020-12-12_22-00-05.wav\n",
      "channelA_2020-12-12_23-00-05.wav\n",
      "channelA_2020-12-18_00-00-04.wav\n",
      "channelA_2020-12-18_01-00-03.wav\n",
      "channelA_2020-12-18_02-00-03.wav\n",
      "channelA_2020-12-18_03-00-03.wav\n",
      "channelA_2020-12-18_04-00-03.wav\n",
      "channelA_2020-12-18_05-00-03.wav\n",
      "channelA_2020-12-18_06-00-03.wav\n",
      "channelA_2020-12-18_07-00-03.wav\n",
      "channelA_2020-12-18_08-00-03.wav\n",
      "channelA_2020-12-18_09-00-03.wav\n",
      "channelA_2020-12-18_10-00-03.wav\n",
      "channelA_2020-12-18_11-00-03.wav\n",
      "channelA_2020-12-18_12-00-03.wav\n",
      "channelA_2020-12-18_13-00-03.wav\n",
      "channelA_2020-12-18_14-00-03.wav\n",
      "channelA_2020-12-18_15-00-03.wav\n",
      "channelA_2020-12-18_16-00-03.wav\n",
      "channelA_2020-12-18_17-00-03.wav\n",
      "channelA_2020-12-18_18-00-03.wav\n",
      "channelA_2020-12-18_19-00-03.wav\n",
      "channelA_2020-12-18_20-00-03.wav\n",
      "channelA_2020-12-18_21-00-03.wav\n",
      "channelA_2020-12-18_22-00-03.wav\n",
      "channelA_2020-12-18_23-00-03.wav\n",
      "channelA_2020-12-26_00-00-04.wav\n",
      "channelA_2020-12-26_01-00-03.wav\n",
      "channelA_2020-12-26_02-00-03.wav\n",
      "channelA_2020-12-26_03-00-03.wav\n",
      "channelA_2020-12-26_04-00-03.wav\n",
      "channelA_2020-12-26_05-00-03.wav\n",
      "channelA_2020-12-26_06-00-04.wav\n",
      "channelA_2020-12-26_07-00-03.wav\n",
      "channelA_2020-12-26_08-00-03.wav\n",
      "channelA_2020-12-26_09-00-03.wav\n",
      "channelA_2020-12-26_10-00-03.wav\n",
      "channelA_2020-12-26_11-00-03.wav\n",
      "channelA_2020-12-26_12-00-03.wav\n",
      "channelA_2020-12-26_13-00-03.wav\n",
      "channelA_2020-12-26_14-00-03.wav\n",
      "channelA_2020-12-26_15-00-03.wav\n",
      "channelA_2020-12-26_16-00-03.wav\n",
      "channelA_2020-12-26_17-00-04.wav\n",
      "channelA_2020-12-26_18-00-03.wav\n",
      "channelA_2020-12-26_19-00-03.wav\n",
      "channelA_2020-12-26_20-00-04.wav\n",
      "channelA_2020-12-26_21-00-03.wav\n",
      "channelA_2020-12-26_22-00-03.wav\n",
      "channelA_2020-12-26_23-00-03.wav\n",
      "channelA_2021-01-16_00-00-04.wav\n",
      "channelA_2021-01-16_01-00-04.wav\n",
      "channelA_2021-01-16_02-00-04.wav\n",
      "channelA_2021-01-16_03-00-04.wav\n",
      "channelA_2021-01-16_04-00-04.wav\n",
      "channelA_2021-01-16_05-00-04.wav\n",
      "channelA_2021-01-16_06-00-04.wav\n",
      "channelA_2021-01-16_07-00-04.wav\n",
      "channelA_2021-01-16_08-00-04.wav\n",
      "channelA_2021-01-16_09-00-04.wav\n",
      "channelA_2021-01-16_10-00-04.wav\n",
      "channelA_2021-01-16_11-00-04.wav\n",
      "channelA_2021-01-16_12-00-04.wav\n",
      "channelA_2021-01-16_13-00-04.wav\n",
      "channelA_2021-01-16_14-00-04.wav\n",
      "channelA_2021-01-16_15-00-04.wav\n",
      "channelA_2021-01-16_16-00-04.wav\n",
      "channelA_2021-01-16_17-00-04.wav\n",
      "channelA_2021-01-16_18-00-04.wav\n",
      "channelA_2021-01-16_19-00-04.wav\n",
      "channelA_2021-01-16_20-00-04.wav\n",
      "channelA_2021-01-16_21-00-04.wav\n",
      "channelA_2021-01-16_22-00-04.wav\n",
      "channelA_2021-01-16_23-00-04.wav\n",
      "channelA_2021-02-04_00-00-04.wav\n",
      "channelA_2021-02-04_01-00-04.wav\n",
      "channelA_2021-02-04_02-00-04.wav\n",
      "channelA_2021-02-04_03-00-04.wav\n",
      "channelA_2021-02-04_04-00-04.wav\n",
      "channelA_2021-02-04_05-00-04.wav\n",
      "channelA_2021-02-04_06-00-04.wav\n",
      "channelA_2021-02-04_07-00-04.wav\n",
      "channelA_2021-02-04_08-00-04.wav\n",
      "channelA_2021-02-04_09-00-04.wav\n",
      "channelA_2021-02-04_10-00-04.wav\n",
      "channelA_2021-02-04_11-00-04.wav\n",
      "channelA_2021-02-04_12-00-04.wav\n",
      "channelA_2021-02-04_13-00-04.wav\n",
      "channelA_2021-02-04_14-00-04.wav\n",
      "channelA_2021-02-04_15-00-04.wav\n",
      "channelA_2021-02-04_16-00-04.wav\n",
      "channelA_2021-02-04_17-00-04.wav\n",
      "channelA_2021-02-04_18-00-04.wav\n",
      "channelA_2021-02-04_19-00-04.wav\n",
      "channelA_2021-02-04_20-00-04.wav\n",
      "channelA_2021-02-04_21-00-04.wav\n",
      "channelA_2021-02-04_22-00-04.wav\n",
      "channelA_2021-02-04_23-00-04.wav\n",
      "channelA_2021-03-11_00-00-05.wav\n",
      "channelA_2021-03-11_00-17-47.wav\n",
      "channelA_2021-03-11_01-00-05.wav\n",
      "channelA_2021-03-11_01-23-05.wav\n",
      "channelA_2021-03-11_02-00-05.wav\n",
      "channelA_2021-03-11_03-01-53.wav\n",
      "channelA_2021-03-11_04-00-05.wav\n",
      "channelA_2021-03-11_04-07-11.wav\n",
      "channelA_2021-03-11_05-00-05.wav\n",
      "channelA_2021-03-11_05-12-29.wav\n",
      "channelA_2021-03-11_06-00-05.wav\n",
      "channelA_2021-03-11_06-17-47.wav\n",
      "channelA_2021-03-11_07-00-05.wav\n",
      "channelA_2021-03-11_07-23-06.wav\n",
      "channelA_2021-03-11_08-00-05.wav\n",
      "channelA_2021-03-11_09-01-54.wav\n",
      "channelA_2021-03-11_10-00-05.wav\n",
      "channelA_2021-03-11_10-06-01.wav\n",
      "channelA_2021-03-11_11-00-05.wav\n",
      "channelA_2021-03-11_11-12-42.wav\n",
      "channelA_2021-03-11_12-00-05.wav\n",
      "channelA_2021-03-11_12-17-57.wav\n",
      "channelA_2021-03-11_13-00-05.wav\n",
      "channelA_2021-03-11_13-23-16.wav\n",
      "channelA_2021-03-11_14-00-05.wav\n",
      "channelA_2021-03-11_15-01-53.wav\n",
      "channelA_2021-03-11_16-00-05.wav\n",
      "channelA_2021-03-11_16-07-11.wav\n",
      "channelA_2021-03-11_17-00-05.wav\n",
      "channelA_2021-03-11_17-12-30.wav\n",
      "channelA_2021-03-11_18-00-05.wav\n",
      "channelA_2021-03-11_18-17-49.wav\n",
      "channelA_2021-03-11_19-00-05.wav\n",
      "channelA_2021-03-11_19-23-07.wav\n",
      "channelA_2021-03-11_20-00-05.wav\n",
      "channelA_2021-03-11_21-01-54.wav\n",
      "channelA_2021-03-11_22-00-05.wav\n",
      "channelA_2021-03-11_22-07-12.wav\n",
      "channelA_2021-03-11_23-00-05.wav\n",
      "channelA_2021-03-11_23-12-31.wav\n",
      "channelA_2021-04-12_00-00-04.wav\n",
      "channelA_2021-04-12_01-00-03.wav\n",
      "channelA_2021-04-12_02-00-03.wav\n",
      "channelA_2021-04-12_03-00-03.wav\n",
      "channelA_2021-04-12_04-00-03.wav\n",
      "channelA_2021-04-12_05-00-03.wav\n",
      "channelA_2021-04-12_06-00-03.wav\n",
      "channelA_2021-04-12_07-00-03.wav\n",
      "channelA_2021-04-12_08-00-03.wav\n",
      "channelA_2021-04-12_09-00-03.wav\n",
      "channelA_2021-04-12_10-00-03.wav\n",
      "channelA_2021-04-12_11-00-03.wav\n",
      "channelA_2021-04-12_12-00-03.wav\n",
      "channelA_2021-04-12_13-00-03.wav\n",
      "channelA_2021-04-12_14-00-03.wav\n",
      "channelA_2021-04-12_15-00-03.wav\n",
      "channelA_2021-04-12_16-00-03.wav\n",
      "channelA_2021-04-12_17-00-03.wav\n",
      "channelA_2021-04-12_18-00-03.wav\n",
      "channelA_2021-04-12_19-00-03.wav\n",
      "channelA_2021-04-12_20-00-03.wav\n",
      "channelA_2021-04-12_21-00-03.wav\n",
      "channelA_2021-04-12_22-00-03.wav\n",
      "channelA_2021-04-12_23-00-03.wav\n",
      "channelA_2021-05-01_00-00-04.wav\n",
      "channelA_2021-05-01_01-00-04.wav\n",
      "channelA_2021-05-01_02-00-04.wav\n",
      "channelA_2021-05-01_03-00-04.wav\n",
      "channelA_2021-05-01_04-00-04.wav\n",
      "channelA_2021-05-01_05-00-04.wav\n",
      "channelA_2021-05-01_06-00-04.wav\n",
      "channelA_2021-05-01_07-00-04.wav\n",
      "channelA_2021-05-01_08-00-04.wav\n",
      "channelA_2021-05-01_09-00-04.wav\n",
      "channelA_2021-05-01_10-00-04.wav\n",
      "channelA_2021-05-01_11-00-04.wav\n",
      "channelA_2021-05-01_12-00-04.wav\n",
      "channelA_2021-05-01_13-00-04.wav\n",
      "channelA_2021-05-01_14-00-04.wav\n",
      "channelA_2021-05-01_15-00-04.wav\n",
      "channelA_2021-05-01_16-00-04.wav\n",
      "channelA_2021-05-01_17-00-04.wav\n",
      "channelA_2021-05-01_18-00-04.wav\n",
      "channelA_2021-05-01_19-00-04.wav\n",
      "channelA_2021-05-01_20-00-04.wav\n",
      "channelA_2021-05-01_21-00-04.wav\n",
      "channelA_2021-05-01_22-00-04.wav\n",
      "channelA_2021-05-01_23-00-04.wav\n",
      "channelA_2021-05-02_00-00-04.wav\n",
      "channelA_2021-05-02_01-00-04.wav\n",
      "channelA_2021-05-02_02-00-04.wav\n",
      "channelA_2021-05-02_03-00-04.wav\n",
      "channelA_2021-05-02_04-00-04.wav\n",
      "channelA_2021-05-02_05-00-04.wav\n",
      "channelA_2021-05-02_06-00-04.wav\n",
      "channelA_2021-05-02_07-00-04.wav\n",
      "channelA_2021-05-02_08-00-04.wav\n",
      "channelA_2021-05-02_09-00-04.wav\n",
      "channelA_2021-05-02_10-00-04.wav\n",
      "channelA_2021-05-02_11-00-04.wav\n",
      "channelA_2021-05-02_12-00-04.wav\n",
      "channelA_2021-05-02_13-00-04.wav\n",
      "channelA_2021-05-02_14-00-04.wav\n",
      "channelA_2021-05-02_15-00-04.wav\n",
      "channelA_2021-05-02_16-00-04.wav\n",
      "channelA_2021-05-02_17-00-04.wav\n",
      "channelA_2021-05-02_18-00-04.wav\n",
      "channelA_2021-05-02_19-00-04.wav\n",
      "channelA_2021-05-02_20-00-04.wav\n",
      "channelA_2021-05-02_21-00-04.wav\n",
      "channelA_2021-05-02_22-00-04.wav\n",
      "channelA_2021-05-02_23-00-04.wav\n",
      "channelA_2021-05-03_00-00-04.wav\n",
      "channelA_2021-05-03_01-00-04.wav\n",
      "channelA_2021-05-03_02-00-04.wav\n",
      "channelA_2021-05-03_03-00-04.wav\n",
      "channelA_2021-05-03_04-00-04.wav\n",
      "channelA_2021-05-03_05-00-04.wav\n",
      "channelA_2021-05-03_06-00-04.wav\n",
      "channelA_2021-05-03_07-00-04.wav\n",
      "channelA_2021-05-03_08-00-04.wav\n",
      "channelA_2021-05-03_09-00-04.wav\n",
      "channelA_2021-05-03_10-00-04.wav\n",
      "channelA_2021-05-03_11-00-04.wav\n",
      "channelA_2021-05-03_12-00-04.wav\n",
      "channelA_2021-05-03_13-00-04.wav\n",
      "channelA_2021-05-03_14-00-04.wav\n",
      "channelA_2021-05-03_15-00-04.wav\n",
      "channelA_2021-05-03_16-00-04.wav\n",
      "channelA_2021-05-03_17-00-04.wav\n",
      "channelA_2021-05-03_18-00-04.wav\n",
      "channelA_2021-05-03_19-00-04.wav\n",
      "channelA_2021-05-03_20-00-04.wav\n"
     ]
    },
    {
     "name": "stdout",
     "output_type": "stream",
     "text": [
      "channelA_2021-05-03_21-00-04.wav\n",
      "channelA_2021-05-03_22-00-04.wav\n",
      "channelA_2021-05-03_23-00-04.wav\n",
      "channelA_2021-05-04_00-00-04.wav\n",
      "channelA_2021-05-04_01-00-04.wav\n",
      "channelA_2021-05-04_02-00-04.wav\n",
      "channelA_2021-05-04_03-00-04.wav\n",
      "channelA_2021-05-04_04-00-04.wav\n",
      "channelA_2021-05-04_05-00-04.wav\n",
      "channelA_2021-05-04_06-00-04.wav\n",
      "channelA_2021-05-04_07-00-04.wav\n",
      "channelA_2021-05-04_08-00-04.wav\n",
      "channelA_2021-05-04_09-00-04.wav\n",
      "channelA_2021-05-04_10-00-04.wav\n",
      "channelA_2021-05-04_11-00-04.wav\n",
      "channelA_2021-05-04_12-00-04.wav\n",
      "channelA_2021-05-04_13-00-04.wav\n",
      "channelA_2021-05-04_14-00-04.wav\n",
      "channelA_2021-05-04_15-00-04.wav\n",
      "channelA_2021-05-04_16-00-04.wav\n",
      "channelA_2021-05-04_17-00-04.wav\n",
      "channelA_2021-05-04_18-00-04.wav\n",
      "channelA_2021-05-04_19-00-04.wav\n",
      "channelA_2021-05-04_20-00-04.wav\n",
      "channelA_2021-05-04_21-00-04.wav\n",
      "channelA_2021-05-04_22-00-04.wav\n",
      "channelA_2021-05-04_23-00-04.wav\n",
      "channelA_2021-05-05_00-00-04.wav\n",
      "channelA_2021-05-05_01-00-04.wav\n",
      "channelA_2021-05-05_02-00-04.wav\n",
      "channelA_2021-05-05_03-00-04.wav\n",
      "channelA_2021-05-05_04-00-04.wav\n",
      "channelA_2021-05-05_05-00-04.wav\n",
      "channelA_2021-05-05_06-00-04.wav\n",
      "channelA_2021-05-05_07-00-04.wav\n",
      "channelA_2021-05-05_08-00-04.wav\n",
      "channelA_2021-05-05_09-00-04.wav\n",
      "channelA_2021-05-05_10-00-04.wav\n",
      "channelA_2021-05-05_11-00-04.wav\n",
      "channelA_2021-05-05_12-00-04.wav\n",
      "channelA_2021-05-05_13-00-04.wav\n",
      "channelA_2021-05-05_14-00-04.wav\n",
      "channelA_2021-05-05_15-00-04.wav\n",
      "channelA_2021-05-05_16-00-04.wav\n",
      "channelA_2021-05-05_17-00-04.wav\n",
      "channelA_2021-05-05_18-00-04.wav\n",
      "channelA_2021-05-05_19-00-04.wav\n",
      "channelA_2021-05-05_20-00-04.wav\n",
      "channelA_2021-05-05_21-00-04.wav\n",
      "channelA_2021-05-05_22-00-04.wav\n",
      "channelA_2021-05-05_23-00-04.wav\n",
      "channelA_2021-05-06_00-00-04.wav\n",
      "channelA_2021-05-06_01-00-04.wav\n",
      "channelA_2021-05-06_02-00-04.wav\n",
      "channelA_2021-05-06_03-00-04.wav\n",
      "channelA_2021-05-06_04-00-04.wav\n",
      "channelA_2021-05-06_05-00-04.wav\n",
      "channelA_2021-05-06_06-00-04.wav\n",
      "channelA_2021-05-06_07-00-04.wav\n",
      "channelA_2021-05-06_08-00-04.wav\n",
      "channelA_2021-05-06_09-00-04.wav\n",
      "channelA_2021-05-06_10-00-04.wav\n",
      "channelA_2021-05-06_11-00-04.wav\n",
      "channelA_2021-05-06_12-00-04.wav\n",
      "channelA_2021-05-06_13-00-04.wav\n",
      "channelA_2021-05-06_14-00-04.wav\n",
      "channelA_2021-05-06_15-00-04.wav\n",
      "channelA_2021-05-06_16-00-04.wav\n",
      "channelA_2021-05-06_17-00-04.wav\n",
      "channelA_2021-05-06_18-00-04.wav\n",
      "channelA_2021-05-06_19-00-04.wav\n",
      "channelA_2021-05-06_20-00-04.wav\n",
      "channelA_2021-05-06_21-00-04.wav\n",
      "channelA_2021-05-06_22-00-04.wav\n",
      "channelA_2021-05-06_23-00-04.wav\n",
      "channelA_2021-05-07_00-00-04.wav\n",
      "channelA_2021-05-07_01-00-04.wav\n",
      "channelA_2021-05-07_02-00-04.wav\n",
      "channelA_2021-05-07_03-00-04.wav\n",
      "channelA_2021-05-07_04-00-04.wav\n",
      "channelA_2021-05-07_05-00-04.wav\n",
      "channelA_2021-05-07_06-00-04.wav\n",
      "channelA_2021-05-07_07-00-04.wav\n",
      "channelA_2021-05-07_08-00-04.wav\n",
      "channelA_2021-05-07_09-00-04.wav\n",
      "channelA_2021-05-07_10-00-04.wav\n",
      "channelA_2021-05-07_11-00-04.wav\n",
      "channelA_2021-05-07_12-00-04.wav\n",
      "channelA_2021-05-07_13-00-04.wav\n",
      "channelA_2021-05-07_14-00-04.wav\n",
      "channelA_2021-05-07_15-00-04.wav\n",
      "channelA_2021-05-07_16-00-04.wav\n",
      "channelA_2021-05-07_17-00-04.wav\n",
      "channelA_2021-05-07_18-00-04.wav\n",
      "channelA_2021-05-07_19-00-04.wav\n",
      "channelA_2021-05-07_20-00-04.wav\n",
      "channelA_2021-05-07_21-00-04.wav\n",
      "channelA_2021-05-07_22-00-04.wav\n",
      "channelA_2021-05-07_23-00-04.wav\n",
      "channelA_2021-05-08_00-00-04.wav\n",
      "channelA_2021-05-08_01-00-04.wav\n",
      "channelA_2021-05-08_02-00-04.wav\n",
      "channelA_2021-05-08_03-00-04.wav\n",
      "channelA_2021-05-08_04-00-04.wav\n",
      "channelA_2021-05-08_05-00-04.wav\n",
      "channelA_2021-05-08_06-00-04.wav\n",
      "channelA_2021-05-08_07-00-04.wav\n",
      "channelA_2021-05-08_08-00-04.wav\n",
      "channelA_2021-05-08_09-00-04.wav\n",
      "channelA_2021-05-08_10-00-04.wav\n",
      "channelA_2021-05-08_11-00-04.wav\n",
      "channelA_2021-05-08_12-00-04.wav\n",
      "channelA_2021-05-08_13-00-04.wav\n",
      "channelA_2021-05-08_14-00-04.wav\n",
      "channelA_2021-05-08_15-00-04.wav\n",
      "channelA_2021-05-08_16-00-04.wav\n",
      "channelA_2021-05-08_17-00-04.wav\n",
      "channelA_2021-05-08_18-00-04.wav\n",
      "channelA_2021-05-08_19-00-04.wav\n",
      "channelA_2021-05-08_20-00-04.wav\n",
      "channelA_2021-05-08_21-00-04.wav\n",
      "channelA_2021-05-08_22-00-04.wav\n",
      "channelA_2021-05-08_23-00-04.wav\n"
     ]
    }
   ],
   "source": [
    "annot = create_noise_annot(audio_dir, deployment_file, file_ext, annot_dur_sec, label_class, label_subclass)"
   ]
  },
  {
   "cell_type": "markdown",
   "metadata": {},
   "source": [
    "Let's look at the summary of annotations that were created:"
   ]
  },
  {
   "cell_type": "code",
   "execution_count": 110,
   "metadata": {
    "scrolled": true
   },
   "outputs": [
    {
     "data": {
      "text/html": [
       "<div>\n",
       "<style scoped>\n",
       "    .dataframe tbody tr th:only-of-type {\n",
       "        vertical-align: middle;\n",
       "    }\n",
       "\n",
       "    .dataframe tbody tr th {\n",
       "        vertical-align: top;\n",
       "    }\n",
       "\n",
       "    .dataframe thead th {\n",
       "        text-align: right;\n",
       "    }\n",
       "</style>\n",
       "<table border=\"1\" class=\"dataframe\">\n",
       "  <thead>\n",
       "    <tr style=\"text-align: right;\">\n",
       "      <th>label_class</th>\n",
       "      <th>NN</th>\n",
       "      <th>Total</th>\n",
       "    </tr>\n",
       "    <tr>\n",
       "      <th>deployment_ID</th>\n",
       "      <th></th>\n",
       "      <th></th>\n",
       "    </tr>\n",
       "  </thead>\n",
       "  <tbody>\n",
       "    <tr>\n",
       "      <th>UK-SAMS-WestScotland-202009-N1</th>\n",
       "      <td>8922</td>\n",
       "      <td>8922</td>\n",
       "    </tr>\n",
       "    <tr>\n",
       "      <th>Total</th>\n",
       "      <td>8922</td>\n",
       "      <td>8922</td>\n",
       "    </tr>\n",
       "  </tbody>\n",
       "</table>\n",
       "</div>"
      ],
      "text/plain": [
       "label_class                       NN  Total\n",
       "deployment_ID                              \n",
       "UK-SAMS-WestScotland-202009-N1  8922   8922\n",
       "Total                           8922   8922"
      ]
     },
     "execution_count": 110,
     "metadata": {},
     "output_type": "execute_result"
    }
   ],
   "source": [
    "annot.summary()"
   ]
  },
  {
   "cell_type": "markdown",
   "metadata": {},
   "source": [
    "The dataset can now be saved as a Raven annotation file and netcdf4 file:"
   ]
  },
  {
   "cell_type": "code",
   "execution_count": 111,
   "metadata": {},
   "outputs": [],
   "source": [
    "annot.to_netcdf(os.path.join(audio_dir, 'Annotations_dataset_' + annot.data['deployment_ID'][0] +' annotations.nc'))\n",
    "annot.to_raven(audio_dir, outfile='Annotations_dataset_' + annot.data['deployment_ID'][0] +'.Table.1.selections.txt', single_file=True)"
   ]
  },
  {
   "cell_type": "code",
   "execution_count": null,
   "metadata": {},
   "outputs": [],
   "source": []
  },
  {
   "cell_type": "markdown",
   "metadata": {},
   "source": [
    "### Dataset 14: UK-SAMS-WestScotland-202009-N2\n",
    "\n",
    "Definition of all the paths of all folders with the raw annotation and audio files for this deployment."
   ]
  },
  {
   "cell_type": "code",
   "execution_count": 112,
   "metadata": {},
   "outputs": [],
   "source": [
    "audio_dir = r'D:\\NOAA\\2022_Minke_whale_detector\\manual_annotations\\UK-SAMS-WestScotland-202009-N2\\Noise'\n",
    "deployment_file = r'deployment_info.csv' \n",
    "file_ext = 'wav'\n",
    "\n",
    "annot_dur_sec = 60  # duration of the noise annotations in seconds\n",
    "label_class = 'NN'  # label to use for the noise class\n",
    "label_subclass = '' # label to use for the noise subclass (if needed, e.g. S for seismic airguns)"
   ]
  },
  {
   "cell_type": "raw",
   "metadata": {},
   "source": [
    "Now we can create annotations for all audio files in that folder."
   ]
  },
  {
   "cell_type": "code",
   "execution_count": 113,
   "metadata": {
    "scrolled": false
   },
   "outputs": [
    {
     "name": "stdout",
     "output_type": "stream",
     "text": [
      "channelA_2020-12-30_00-00-04.wav\n",
      "channelA_2020-12-30_01-00-03.wav\n",
      "channelA_2020-12-30_02-00-03.wav\n",
      "channelA_2020-12-30_03-00-04.wav\n",
      "channelA_2020-12-30_04-00-03.wav\n",
      "channelA_2020-12-30_05-00-03.wav\n",
      "channelA_2020-12-30_06-00-03.wav\n",
      "channelA_2020-12-30_07-00-03.wav\n",
      "channelA_2020-12-30_08-00-03.wav\n",
      "channelA_2020-12-30_09-00-03.wav\n",
      "channelA_2020-12-30_10-00-03.wav\n",
      "channelA_2020-12-30_11-00-03.wav\n",
      "channelA_2020-12-30_12-00-04.wav\n",
      "channelA_2020-12-30_13-00-03.wav\n",
      "channelA_2020-12-30_14-00-03.wav\n",
      "channelA_2020-12-30_15-00-03.wav\n",
      "channelA_2020-12-30_16-00-04.wav\n",
      "channelA_2020-12-30_17-00-03.wav\n",
      "channelA_2020-12-30_18-00-03.wav\n",
      "channelA_2020-12-30_19-00-04.wav\n",
      "channelA_2020-12-30_20-00-03.wav\n",
      "channelA_2020-12-30_21-00-03.wav\n",
      "channelA_2020-12-30_22-00-03.wav\n",
      "channelA_2020-12-30_23-00-04.wav\n",
      "channelA_2021-01-11_00-00-04.wav\n",
      "channelA_2021-01-11_01-00-04.wav\n",
      "channelA_2021-01-11_02-00-04.wav\n",
      "channelA_2021-01-11_03-00-04.wav\n",
      "channelA_2021-01-11_04-00-04.wav\n",
      "channelA_2021-01-11_05-00-04.wav\n",
      "channelA_2021-01-11_06-00-04.wav\n",
      "channelA_2021-01-11_07-00-04.wav\n",
      "channelA_2021-01-11_08-00-04.wav\n",
      "channelA_2021-01-11_09-00-04.wav\n",
      "channelA_2021-01-11_10-00-04.wav\n",
      "channelA_2021-01-11_11-00-04.wav\n",
      "channelA_2021-01-11_12-00-04.wav\n",
      "channelA_2021-01-11_13-00-04.wav\n",
      "channelA_2021-01-11_14-00-04.wav\n",
      "channelA_2021-01-11_15-00-04.wav\n",
      "channelA_2021-01-11_16-00-04.wav\n",
      "channelA_2021-01-11_17-00-04.wav\n",
      "channelA_2021-01-11_18-00-04.wav\n",
      "channelA_2021-01-11_19-00-04.wav\n",
      "channelA_2021-01-11_20-00-04.wav\n",
      "channelA_2021-01-11_21-00-04.wav\n",
      "channelA_2021-01-11_22-00-04.wav\n",
      "channelA_2021-01-11_23-00-04.wav\n",
      "channelA_2021-01-26_00-00-04.wav\n",
      "channelA_2021-01-26_01-00-04.wav\n",
      "channelA_2021-01-26_02-00-04.wav\n",
      "channelA_2021-01-26_03-00-04.wav\n",
      "channelA_2021-01-26_04-00-04.wav\n",
      "channelA_2021-01-26_05-00-04.wav\n",
      "channelA_2021-01-26_06-00-04.wav\n",
      "channelA_2021-01-26_07-00-04.wav\n",
      "channelA_2021-01-26_08-00-04.wav\n",
      "channelA_2021-01-26_09-00-04.wav\n",
      "channelA_2021-01-26_10-00-04.wav\n",
      "channelA_2021-01-26_11-00-04.wav\n",
      "channelA_2021-01-26_12-00-04.wav\n",
      "channelA_2021-01-26_13-00-04.wav\n",
      "channelA_2021-01-26_14-00-04.wav\n",
      "channelA_2021-01-26_15-00-04.wav\n",
      "channelA_2021-01-26_16-00-04.wav\n",
      "channelA_2021-01-26_17-00-04.wav\n",
      "channelA_2021-01-26_18-00-04.wav\n",
      "channelA_2021-01-26_19-00-04.wav\n",
      "channelA_2021-01-26_20-00-04.wav\n",
      "channelA_2021-01-26_21-00-04.wav\n",
      "channelA_2021-01-26_22-00-04.wav\n",
      "channelA_2021-01-26_23-00-04.wav\n",
      "channelA_2021-03-02_00-00-05.wav\n",
      "channelA_2021-03-02_01-00-05.wav\n",
      "channelA_2021-03-02_02-00-05.wav\n",
      "channelA_2021-03-02_03-00-05.wav\n",
      "channelA_2021-03-02_04-00-05.wav\n",
      "channelA_2021-03-02_05-00-05.wav\n",
      "channelA_2021-03-02_06-00-05.wav\n",
      "channelA_2021-03-02_07-00-05.wav\n",
      "channelA_2021-03-02_08-00-05.wav\n",
      "channelA_2021-03-02_09-00-05.wav\n",
      "channelA_2021-03-02_10-00-05.wav\n",
      "channelA_2021-03-02_11-00-04.wav\n",
      "channelA_2021-03-02_12-00-05.wav\n",
      "channelA_2021-03-02_13-00-05.wav\n",
      "channelA_2021-03-02_14-00-05.wav\n",
      "channelA_2021-03-02_15-00-05.wav\n",
      "channelA_2021-03-02_16-00-05.wav\n",
      "channelA_2021-03-02_17-00-05.wav\n",
      "channelA_2021-03-02_18-00-05.wav\n",
      "channelA_2021-03-02_19-00-05.wav\n",
      "channelA_2021-03-02_20-00-05.wav\n",
      "channelA_2021-03-02_21-00-05.wav\n",
      "channelA_2021-03-02_22-00-05.wav\n",
      "channelA_2021-03-02_23-00-05.wav\n",
      "channelA_2021-03-08_00-00-05.wav\n",
      "channelA_2021-03-08_01-00-05.wav\n",
      "channelA_2021-03-08_02-00-05.wav\n",
      "channelA_2021-03-08_03-00-05.wav\n",
      "channelA_2021-03-08_04-00-05.wav\n",
      "channelA_2021-03-08_05-00-05.wav\n",
      "channelA_2021-03-08_05-05-14.wav\n",
      "channelA_2021-03-08_06-00-05.wav\n",
      "channelA_2021-03-08_06-10-33.wav\n",
      "channelA_2021-03-08_07-00-05.wav\n",
      "channelA_2021-03-08_07-15-51.wav\n",
      "channelA_2021-03-08_08-00-05.wav\n",
      "channelA_2021-03-08_08-21-09.wav\n",
      "channelA_2021-03-08_09-00-05.wav\n",
      "channelA_2021-03-08_10-00-05.wav\n",
      "channelA_2021-03-08_11-00-05.wav\n",
      "channelA_2021-03-08_11-05-22.wav\n",
      "channelA_2021-03-08_12-00-05.wav\n",
      "channelA_2021-03-08_12-10-41.wav\n",
      "channelA_2021-03-08_13-00-05.wav\n",
      "channelA_2021-03-08_13-16-00.wav\n",
      "channelA_2021-03-08_14-00-05.wav\n",
      "channelA_2021-03-08_14-21-20.wav\n",
      "channelA_2021-03-08_15-00-05.wav\n",
      "channelA_2021-03-08_16-00-05.wav\n",
      "channelA_2021-03-08_17-00-05.wav\n",
      "channelA_2021-03-08_17-05-22.wav\n",
      "channelA_2021-03-08_18-00-05.wav\n",
      "channelA_2021-03-08_18-10-42.wav\n",
      "channelA_2021-03-08_19-00-05.wav\n",
      "channelA_2021-03-08_19-16-00.wav\n",
      "channelA_2021-03-08_20-00-05.wav\n",
      "channelA_2021-03-08_20-21-19.wav\n",
      "channelA_2021-03-08_21-00-05.wav\n",
      "channelA_2021-03-08_22-00-05.wav\n",
      "channelA_2021-03-08_23-00-05.wav\n",
      "channelA_2021-03-08_23-05-21.wav\n",
      "channelA_2021-03-28_00-00-05.wav\n",
      "channelA_2021-03-28_00-17-35.wav\n",
      "channelA_2021-03-28_01-00-05.wav\n",
      "channelA_2021-03-28_01-22-55.wav\n",
      "channelA_2021-03-28_02-00-05.wav\n",
      "channelA_2021-03-28_03-01-54.wav\n",
      "channelA_2021-03-28_04-00-05.wav\n",
      "channelA_2021-03-28_04-07-13.wav\n",
      "channelA_2021-03-28_05-00-05.wav\n",
      "channelA_2021-03-28_05-12-31.wav\n",
      "channelA_2021-03-28_06-00-05.wav\n",
      "channelA_2021-03-28_06-17-50.wav\n",
      "channelA_2021-03-28_07-00-05.wav\n",
      "channelA_2021-03-28_08-00-05.wav\n",
      "channelA_2021-03-28_09-00-05.wav\n",
      "channelA_2021-03-28_09-04-38.wav\n",
      "channelA_2021-03-28_10-00-05.wav\n",
      "channelA_2021-03-28_10-09-30.wav\n",
      "channelA_2021-03-28_11-00-05.wav\n",
      "channelA_2021-03-28_11-14-27.wav\n",
      "channelA_2021-03-28_12-00-05.wav\n",
      "channelA_2021-03-28_12-19-31.wav\n",
      "channelA_2021-03-28_13-00-05.wav\n",
      "channelA_2021-03-28_14-00-05.wav\n",
      "channelA_2021-03-28_15-00-05.wav\n",
      "channelA_2021-03-28_15-04-57.wav\n",
      "channelA_2021-03-28_16-00-05.wav\n",
      "channelA_2021-03-28_16-11-58.wav\n",
      "channelA_2021-03-28_17-00-05.wav\n",
      "channelA_2021-03-28_17-16-54.wav\n",
      "channelA_2021-03-28_18-00-05.wav\n",
      "channelA_2021-03-28_18-21-47.wav\n",
      "channelA_2021-03-28_19-00-05.wav\n",
      "channelA_2021-03-28_20-01-55.wav\n",
      "channelA_2021-03-28_21-00-05.wav\n",
      "channelA_2021-03-28_21-07-15.wav\n",
      "channelA_2021-03-28_22-00-05.wav\n",
      "channelA_2021-03-28_22-12-34.wav\n",
      "channelA_2021-03-28_23-00-05.wav\n",
      "channelA_2021-03-28_23-17-53.wav\n",
      "channelA_2021-05-12_00-00-05.wav\n",
      "channelA_2021-05-12_00-22-02.wav\n",
      "channelA_2021-05-12_01-00-05.wav\n",
      "channelA_2021-05-12_02-01-55.wav\n",
      "channelA_2021-05-12_03-00-05.wav\n",
      "channelA_2021-05-12_03-07-12.wav\n",
      "channelA_2021-05-12_04-00-05.wav\n",
      "channelA_2021-05-12_04-12-31.wav\n",
      "channelA_2021-05-12_05-00-05.wav\n",
      "channelA_2021-05-12_05-17-50.wav\n",
      "channelA_2021-05-12_06-00-05.wav\n",
      "channelA_2021-05-12_07-00-05.wav\n",
      "channelA_2021-05-12_08-00-05.wav\n",
      "channelA_2021-05-12_08-04-37.wav\n",
      "channelA_2021-05-12_09-00-05.wav\n",
      "channelA_2021-05-12_09-09-28.wav\n",
      "channelA_2021-05-12_10-00-05.wav\n",
      "channelA_2021-05-12_10-14-25.wav\n",
      "channelA_2021-05-12_11-00-05.wav\n",
      "channelA_2021-05-12_11-19-29.wav\n",
      "channelA_2021-05-12_12-00-05.wav\n",
      "channelA_2021-05-12_12-24-39.wav\n",
      "channelA_2021-05-12_13-00-05.wav\n",
      "channelA_2021-05-12_14-00-05.wav\n",
      "channelA_2021-05-12_14-04-55.wav\n",
      "channelA_2021-05-12_15-00-05.wav\n",
      "channelA_2021-05-12_15-10-06.wav\n",
      "channelA_2021-05-12_16-00-05.wav\n",
      "channelA_2021-05-12_16-17-01.wav\n",
      "channelA_2021-05-12_17-00-05.wav\n",
      "channelA_2021-05-12_17-22-03.wav\n",
      "channelA_2021-05-12_18-00-05.wav\n",
      "channelA_2021-05-12_19-01-55.wav\n",
      "channelA_2021-05-12_20-00-05.wav\n",
      "channelA_2021-05-12_20-07-14.wav\n",
      "channelA_2021-05-12_21-00-05.wav\n",
      "channelA_2021-05-12_21-12-33.wav\n",
      "channelA_2021-05-12_22-00-05.wav\n",
      "channelA_2021-05-12_22-17-53.wav\n",
      "channelA_2021-05-12_23-00-05.wav\n",
      "channelA_2021-05-12_23-23-11.wav\n",
      "channelA_2021-05-22_00-00-07.wav\n",
      "channelA_2021-05-22_00-19-57.wav\n",
      "channelA_2021-05-22_01-00-05.wav\n",
      "channelA_2021-05-22_02-00-05.wav\n",
      "channelA_2021-05-22_02-10-46.wav\n",
      "channelA_2021-05-22_03-00-05.wav\n",
      "channelA_2021-05-22_04-00-05.wav\n",
      "channelA_2021-05-22_05-00-05.wav\n",
      "channelA_2021-05-22_05-16-03.wav\n",
      "channelA_2021-05-22_06-00-05.wav\n",
      "channelA_2021-05-22_07-09-31.wav\n",
      "channelA_2021-05-22_08-00-05.wav\n",
      "channelA_2021-05-22_09-00-05.wav\n",
      "channelA_2021-05-22_10-00-05.wav\n",
      "channelA_2021-05-22_10-16-06.wav\n",
      "channelA_2021-05-22_11-00-05.wav\n",
      "channelA_2021-05-22_12-05-44.wav\n",
      "channelA_2021-05-22_13-00-05.wav\n",
      "channelA_2021-05-22_13-21-47.wav\n",
      "channelA_2021-05-22_14-00-05.wav\n",
      "channelA_2021-05-22_15-00-05.wav\n",
      "channelA_2021-05-22_15-12-45.wav\n",
      "channelA_2021-05-22_16-00-05.wav\n",
      "channelA_2021-05-22_17-03-55.wav\n",
      "channelA_2021-05-22_18-00-05.wav\n",
      "channelA_2021-05-22_18-19-47.wav\n",
      "channelA_2021-05-22_19-00-05.wav\n",
      "channelA_2021-05-22_20-00-05.wav\n",
      "channelA_2021-05-22_20-10-50.wav\n",
      "channelA_2021-05-22_21-00-05.wav\n",
      "channelA_2021-05-22_22-00-05.wav\n",
      "channelA_2021-05-22_23-00-05.wav\n",
      "channelA_2021-05-22_23-16-06.wav\n",
      "channelA_2021-05-27_00-00-04_noise_end.wav\n",
      "channelA_2021-07-03_00-00-04_noise_end.wav\n"
     ]
    }
   ],
   "source": [
    "annot = create_noise_annot(audio_dir, deployment_file, file_ext, annot_dur_sec, label_class, label_subclass)"
   ]
  },
  {
   "cell_type": "markdown",
   "metadata": {},
   "source": [
    "Let's look at the summary of annotations that were created:"
   ]
  },
  {
   "cell_type": "code",
   "execution_count": 114,
   "metadata": {
    "scrolled": true
   },
   "outputs": [
    {
     "data": {
      "text/html": [
       "<div>\n",
       "<style scoped>\n",
       "    .dataframe tbody tr th:only-of-type {\n",
       "        vertical-align: middle;\n",
       "    }\n",
       "\n",
       "    .dataframe tbody tr th {\n",
       "        vertical-align: top;\n",
       "    }\n",
       "\n",
       "    .dataframe thead th {\n",
       "        text-align: right;\n",
       "    }\n",
       "</style>\n",
       "<table border=\"1\" class=\"dataframe\">\n",
       "  <thead>\n",
       "    <tr style=\"text-align: right;\">\n",
       "      <th>label_class</th>\n",
       "      <th>NN</th>\n",
       "      <th>Total</th>\n",
       "    </tr>\n",
       "    <tr>\n",
       "      <th>deployment_ID</th>\n",
       "      <th></th>\n",
       "      <th></th>\n",
       "    </tr>\n",
       "  </thead>\n",
       "  <tbody>\n",
       "    <tr>\n",
       "      <th>UK-SAMS-WestScotland-202009-N2</th>\n",
       "      <td>4461</td>\n",
       "      <td>4461</td>\n",
       "    </tr>\n",
       "    <tr>\n",
       "      <th>Total</th>\n",
       "      <td>4461</td>\n",
       "      <td>4461</td>\n",
       "    </tr>\n",
       "  </tbody>\n",
       "</table>\n",
       "</div>"
      ],
      "text/plain": [
       "label_class                       NN  Total\n",
       "deployment_ID                              \n",
       "UK-SAMS-WestScotland-202009-N2  4461   4461\n",
       "Total                           4461   4461"
      ]
     },
     "execution_count": 114,
     "metadata": {},
     "output_type": "execute_result"
    }
   ],
   "source": [
    "annot.summary()"
   ]
  },
  {
   "cell_type": "markdown",
   "metadata": {},
   "source": [
    "The dataset can now be saved as a Raven annotation file and netcdf4 file:"
   ]
  },
  {
   "cell_type": "code",
   "execution_count": 115,
   "metadata": {},
   "outputs": [],
   "source": [
    "annot.to_netcdf(os.path.join(audio_dir, 'Annotations_dataset_' + annot.data['deployment_ID'][0] +' annotations.nc'))\n",
    "annot.to_raven(audio_dir, outfile='Annotations_dataset_' + annot.data['deployment_ID'][0] +'.Table.1.selections.txt', single_file=True)"
   ]
  },
  {
   "cell_type": "code",
   "execution_count": null,
   "metadata": {},
   "outputs": [],
   "source": []
  },
  {
   "cell_type": "markdown",
   "metadata": {},
   "source": [
    "### Dataset 15: UK-SAMS-WestScotland-202010-EL1\n",
    "\n",
    "Definition of all the paths of all folders with the raw annotation and audio files for this deployment."
   ]
  },
  {
   "cell_type": "code",
   "execution_count": 116,
   "metadata": {},
   "outputs": [],
   "source": [
    "audio_dir = r'D:\\NOAA\\2022_Minke_whale_detector\\manual_annotations\\UK-SAMS-WestScotland-202010-EL1\\Noise'\n",
    "deployment_file = r'deployment_info.csv' \n",
    "file_ext = 'wav'\n",
    "\n",
    "annot_dur_sec = 60  # duration of the noise annotations in seconds\n",
    "label_class = 'NN'  # label to use for the noise class\n",
    "label_subclass = '' # label to use for the noise subclass (if needed, e.g. S for seismic airguns)"
   ]
  },
  {
   "cell_type": "raw",
   "metadata": {},
   "source": [
    "Now we can create annotations for all audio files in that folder."
   ]
  },
  {
   "cell_type": "code",
   "execution_count": 117,
   "metadata": {
    "scrolled": false
   },
   "outputs": [
    {
     "name": "stdout",
     "output_type": "stream",
     "text": [
      "channelA_2020-11-17_00-00-04_noise_end.wav\n",
      "channelA_2020-12-26_00-00-05.wav\n",
      "channelA_2020-12-26_01-00-04.wav\n",
      "channelA_2020-12-26_02-00-05.wav\n",
      "channelA_2020-12-26_03-00-04.wav\n",
      "channelA_2020-12-26_04-00-04.wav\n",
      "channelA_2020-12-26_05-00-05.wav\n",
      "channelA_2020-12-26_06-00-05.wav\n",
      "channelA_2020-12-26_07-00-04.wav\n",
      "channelA_2020-12-26_08-00-05.wav\n",
      "channelA_2020-12-26_09-00-04.wav\n",
      "channelA_2020-12-26_10-00-04.wav\n",
      "channelA_2020-12-26_11-00-04.wav\n",
      "channelA_2020-12-26_12-00-04.wav\n",
      "channelA_2020-12-26_13-00-05.wav\n",
      "channelA_2020-12-26_14-00-04.wav\n",
      "channelA_2020-12-26_15-00-05.wav\n",
      "channelA_2020-12-26_16-00-04.wav\n",
      "channelA_2020-12-26_17-00-05.wav\n",
      "channelA_2020-12-26_18-00-05.wav\n",
      "channelA_2020-12-26_19-00-04.wav\n",
      "channelA_2020-12-26_20-00-05.wav\n",
      "channelA_2020-12-26_21-00-05.wav\n",
      "channelA_2020-12-26_22-00-05.wav\n",
      "channelA_2020-12-26_23-00-04.wav\n",
      "channelA_2021-01-05_00-00-05.wav\n",
      "channelA_2021-01-05_01-00-05.wav\n",
      "channelA_2021-01-05_02-00-05.wav\n",
      "channelA_2021-01-05_03-00-05.wav\n",
      "channelA_2021-01-05_04-00-05.wav\n",
      "channelA_2021-01-05_05-00-05.wav\n",
      "channelA_2021-01-05_06-00-05.wav\n",
      "channelA_2021-01-05_07-00-05.wav\n",
      "channelA_2021-01-05_08-00-05.wav\n",
      "channelA_2021-01-05_09-00-05.wav\n",
      "channelA_2021-01-05_10-00-05.wav\n",
      "channelA_2021-01-05_11-00-05.wav\n",
      "channelA_2021-01-05_12-00-05.wav\n",
      "channelA_2021-01-05_13-00-05.wav\n",
      "channelA_2021-01-05_14-00-05.wav\n",
      "channelA_2021-01-05_15-00-05.wav\n",
      "channelA_2021-01-05_16-00-05.wav\n",
      "channelA_2021-01-05_17-00-05.wav\n",
      "channelA_2021-01-05_18-00-05.wav\n",
      "channelA_2021-01-05_19-00-05.wav\n",
      "channelA_2021-01-05_20-00-05.wav\n",
      "channelA_2021-01-05_21-00-05.wav\n",
      "channelA_2021-01-05_22-00-05.wav\n",
      "channelA_2021-01-05_23-00-05.wav\n",
      "channelA_2021-02-13_00-00-04.wav\n",
      "channelA_2021-02-13_01-00-03.wav\n",
      "channelA_2021-02-13_02-00-03.wav\n",
      "channelA_2021-02-13_03-00-03.wav\n",
      "channelA_2021-02-13_04-00-03.wav\n",
      "channelA_2021-02-13_05-00-03.wav\n",
      "channelA_2021-02-13_06-00-03.wav\n",
      "channelA_2021-02-13_07-00-03.wav\n",
      "channelA_2021-02-13_08-00-03.wav\n",
      "channelA_2021-02-13_09-00-03.wav\n",
      "channelA_2021-02-13_10-00-03.wav\n",
      "channelA_2021-02-13_11-00-03.wav\n",
      "channelA_2021-02-13_12-00-03.wav\n",
      "channelA_2021-02-13_13-00-03.wav\n",
      "channelA_2021-02-13_14-00-03.wav\n",
      "channelA_2021-02-13_15-00-03.wav\n",
      "channelA_2021-02-13_16-00-03.wav\n",
      "channelA_2021-02-13_17-00-03.wav\n",
      "channelA_2021-02-13_18-00-03.wav\n",
      "channelA_2021-02-13_19-00-03.wav\n",
      "channelA_2021-02-13_20-00-03.wav\n",
      "channelA_2021-02-13_21-00-03.wav\n",
      "channelA_2021-02-13_22-00-03.wav\n",
      "channelA_2021-02-13_23-00-03.wav\n",
      "channelA_2021-03-06_00-00-04.wav\n",
      "channelA_2021-03-06_01-00-04.wav\n",
      "channelA_2021-03-06_02-00-04.wav\n",
      "channelA_2021-03-06_03-00-04.wav\n",
      "channelA_2021-03-06_04-00-04.wav\n",
      "channelA_2021-03-06_05-00-04.wav\n",
      "channelA_2021-03-06_06-00-04.wav\n",
      "channelA_2021-03-06_07-00-04.wav\n",
      "channelA_2021-03-06_08-00-04.wav\n",
      "channelA_2021-03-06_09-00-04.wav\n",
      "channelA_2021-03-06_10-00-04.wav\n",
      "channelA_2021-03-06_11-00-04.wav\n",
      "channelA_2021-03-06_12-00-04.wav\n",
      "channelA_2021-03-06_13-00-04.wav\n",
      "channelA_2021-03-06_14-00-04.wav\n",
      "channelA_2021-03-06_15-00-04.wav\n",
      "channelA_2021-03-06_16-00-04.wav\n",
      "channelA_2021-03-06_17-00-04.wav\n",
      "channelA_2021-03-06_18-00-04.wav\n",
      "channelA_2021-03-06_19-00-04.wav\n",
      "channelA_2021-03-06_20-00-04.wav\n",
      "channelA_2021-03-06_21-00-04.wav\n",
      "channelA_2021-03-06_22-00-04.wav\n",
      "channelA_2021-03-06_23-00-04.wav\n",
      "channelA_2021-04-20_00-00-05.wav\n",
      "channelA_2021-04-20_01-00-05.wav\n",
      "channelA_2021-04-20_02-00-04.wav\n",
      "channelA_2021-04-20_03-00-04.wav\n",
      "channelA_2021-04-20_04-00-05.wav\n",
      "channelA_2021-04-20_05-00-04.wav\n",
      "channelA_2021-04-20_06-00-04.wav\n",
      "channelA_2021-04-20_07-00-05.wav\n",
      "channelA_2021-04-20_08-00-04.wav\n",
      "channelA_2021-04-20_09-00-05.wav\n",
      "channelA_2021-04-20_10-00-04.wav\n",
      "channelA_2021-04-20_11-00-04.wav\n",
      "channelA_2021-04-20_12-00-05.wav\n",
      "channelA_2021-04-20_13-00-04.wav\n",
      "channelA_2021-04-20_14-00-04.wav\n",
      "channelA_2021-04-20_15-00-04.wav\n",
      "channelA_2021-04-20_16-00-04.wav\n",
      "channelA_2021-04-20_17-00-04.wav\n",
      "channelA_2021-04-20_18-00-04.wav\n",
      "channelA_2021-04-20_19-00-05.wav\n",
      "channelA_2021-04-20_20-00-04.wav\n",
      "channelA_2021-04-20_21-00-04.wav\n",
      "channelA_2021-04-20_22-00-04.wav\n",
      "channelA_2021-04-20_23-00-05.wav\n",
      "channelA_2021-05-12_00-00-05.wav\n",
      "channelA_2021-05-12_00-15-45.wav\n",
      "channelA_2021-05-12_01-00-05.wav\n",
      "channelA_2021-05-12_01-21-04.wav\n",
      "channelA_2021-05-12_02-00-05.wav\n",
      "channelA_2021-05-12_03-00-05.wav\n",
      "channelA_2021-05-12_04-00-05.wav\n",
      "channelA_2021-05-12_04-07-15.wav\n",
      "channelA_2021-05-12_05-00-05.wav\n",
      "channelA_2021-05-12_05-12-15.wav\n",
      "channelA_2021-05-12_06-00-05.wav\n",
      "channelA_2021-05-12_06-17-17.wav\n",
      "channelA_2021-05-12_07-00-05.wav\n",
      "channelA_2021-05-12_07-22-11.wav\n",
      "channelA_2021-05-12_08-00-05.wav\n",
      "channelA_2021-05-12_09-01-55.wav\n",
      "channelA_2021-05-12_10-00-05.wav\n",
      "channelA_2021-05-12_10-07-14.wav\n",
      "channelA_2021-05-12_11-00-05.wav\n",
      "channelA_2021-05-12_11-12-32.wav\n",
      "channelA_2021-05-12_12-00-05.wav\n",
      "channelA_2021-05-12_12-17-51.wav\n",
      "channelA_2021-05-12_13-00-05.wav\n",
      "channelA_2021-05-12_13-23-11.wav\n",
      "channelA_2021-05-12_14-00-05.wav\n",
      "channelA_2021-05-12_15-03-44.wav\n",
      "channelA_2021-05-12_16-00-05.wav\n",
      "channelA_2021-05-12_16-08-50.wav\n",
      "channelA_2021-05-12_17-00-05.wav\n",
      "channelA_2021-05-12_17-13-55.wav\n",
      "channelA_2021-05-12_18-00-05.wav\n",
      "channelA_2021-05-12_18-18-28.wav\n",
      "channelA_2021-05-12_19-00-05.wav\n",
      "channelA_2021-05-12_19-23-21.wav\n",
      "channelA_2021-05-12_20-00-05.wav\n",
      "channelA_2021-05-12_21-01-55.wav\n",
      "channelA_2021-05-12_22-00-05.wav\n",
      "channelA_2021-05-12_22-07-13.wav\n",
      "channelA_2021-05-12_23-00-05.wav\n",
      "channelA_2021-05-12_23-12-31.wav\n",
      "channelA_2021-08-20_00-00-05.wav\n",
      "channelA_2021-08-20_00-23-07.wav\n",
      "channelA_2021-08-20_01-00-05.wav\n",
      "channelA_2021-08-20_02-01-54.wav\n",
      "channelA_2021-08-20_03-00-05.wav\n",
      "channelA_2021-08-20_03-07-11.wav\n",
      "channelA_2021-08-20_04-00-05.wav\n",
      "channelA_2021-08-20_04-12-29.wav\n",
      "channelA_2021-08-20_05-00-05.wav\n",
      "channelA_2021-08-20_05-17-48.wav\n",
      "channelA_2021-08-20_06-00-05.wav\n",
      "channelA_2021-08-20_06-23-05.wav\n",
      "channelA_2021-08-20_07-00-05.wav\n",
      "channelA_2021-08-20_08-01-55.wav\n",
      "channelA_2021-08-20_09-00-05.wav\n",
      "channelA_2021-08-20_09-06-40.wav\n",
      "channelA_2021-08-20_10-00-05.wav\n",
      "channelA_2021-08-20_10-11-02.wav\n",
      "channelA_2021-08-20_11-00-05.wav\n",
      "channelA_2021-08-20_11-16-02.wav\n",
      "channelA_2021-08-20_12-00-05.wav\n",
      "channelA_2021-08-20_12-21-07.wav\n",
      "channelA_2021-08-20_13-00-05.wav\n",
      "channelA_2021-08-20_14-00-05.wav\n",
      "channelA_2021-08-20_15-00-05.wav\n",
      "channelA_2021-08-20_15-05-22.wav\n",
      "channelA_2021-08-20_16-00-05.wav\n",
      "channelA_2021-08-20_16-10-41.wav\n",
      "channelA_2021-08-20_17-00-05.wav\n",
      "channelA_2021-08-20_17-15-59.wav\n",
      "channelA_2021-08-20_18-00-05.wav\n",
      "channelA_2021-08-20_18-21-19.wav\n",
      "channelA_2021-08-20_19-00-05.wav\n",
      "channelA_2021-08-20_20-00-05.wav\n",
      "channelA_2021-08-20_21-00-05.wav\n",
      "channelA_2021-08-20_21-05-21.wav\n",
      "channelA_2021-08-20_22-00-05.wav\n",
      "channelA_2021-08-20_22-10-41.wav\n",
      "channelA_2021-08-20_23-00-05.wav\n",
      "channelA_2021-08-20_23-15-59.wav\n"
     ]
    }
   ],
   "source": [
    "annot = create_noise_annot(audio_dir, deployment_file, file_ext, annot_dur_sec, label_class, label_subclass)"
   ]
  },
  {
   "cell_type": "markdown",
   "metadata": {},
   "source": [
    "Let's look at the summary of annotations that were created:"
   ]
  },
  {
   "cell_type": "code",
   "execution_count": 118,
   "metadata": {
    "scrolled": true
   },
   "outputs": [
    {
     "data": {
      "text/html": [
       "<div>\n",
       "<style scoped>\n",
       "    .dataframe tbody tr th:only-of-type {\n",
       "        vertical-align: middle;\n",
       "    }\n",
       "\n",
       "    .dataframe tbody tr th {\n",
       "        vertical-align: top;\n",
       "    }\n",
       "\n",
       "    .dataframe thead th {\n",
       "        text-align: right;\n",
       "    }\n",
       "</style>\n",
       "<table border=\"1\" class=\"dataframe\">\n",
       "  <thead>\n",
       "    <tr style=\"text-align: right;\">\n",
       "      <th>label_class</th>\n",
       "      <th>NN</th>\n",
       "      <th>Total</th>\n",
       "    </tr>\n",
       "    <tr>\n",
       "      <th>deployment_ID</th>\n",
       "      <th></th>\n",
       "      <th></th>\n",
       "    </tr>\n",
       "  </thead>\n",
       "  <tbody>\n",
       "    <tr>\n",
       "      <th>UK-SAMS-WestScotland-202010-EL1</th>\n",
       "      <td>4027</td>\n",
       "      <td>4027</td>\n",
       "    </tr>\n",
       "    <tr>\n",
       "      <th>Total</th>\n",
       "      <td>4027</td>\n",
       "      <td>4027</td>\n",
       "    </tr>\n",
       "  </tbody>\n",
       "</table>\n",
       "</div>"
      ],
      "text/plain": [
       "label_class                        NN  Total\n",
       "deployment_ID                               \n",
       "UK-SAMS-WestScotland-202010-EL1  4027   4027\n",
       "Total                            4027   4027"
      ]
     },
     "execution_count": 118,
     "metadata": {},
     "output_type": "execute_result"
    }
   ],
   "source": [
    "annot.summary()"
   ]
  },
  {
   "cell_type": "markdown",
   "metadata": {},
   "source": [
    "The dataset can now be saved as a Raven annotation file and netcdf4 file:"
   ]
  },
  {
   "cell_type": "code",
   "execution_count": 119,
   "metadata": {},
   "outputs": [],
   "source": [
    "annot.to_netcdf(os.path.join(audio_dir, 'Annotations_dataset_' + annot.data['deployment_ID'][0] +' annotations.nc'))\n",
    "annot.to_raven(audio_dir, outfile='Annotations_dataset_' + annot.data['deployment_ID'][0] +'.Table.1.selections.txt', single_file=True)"
   ]
  },
  {
   "cell_type": "code",
   "execution_count": null,
   "metadata": {},
   "outputs": [],
   "source": []
  },
  {
   "cell_type": "markdown",
   "metadata": {},
   "source": [
    "### Dataset 16: UK-SAMS-WestScotland-202010-S1\n",
    "\n",
    "Definition of all the paths of all folders with the raw annotation and audio files for this deployment."
   ]
  },
  {
   "cell_type": "code",
   "execution_count": 120,
   "metadata": {},
   "outputs": [],
   "source": [
    "audio_dir = r'D:\\NOAA\\2022_Minke_whale_detector\\manual_annotations\\UK-SAMS-WestScotland-202010-S1\\Noise'\n",
    "deployment_file = r'deployment_info.csv' \n",
    "file_ext = 'wav'\n",
    "\n",
    "annot_dur_sec = 60  # duration of the noise annotations in seconds\n",
    "label_class = 'NN'  # label to use for the noise class\n",
    "label_subclass = '' # label to use for the noise subclass (if needed, e.g. S for seismic airguns)"
   ]
  },
  {
   "cell_type": "raw",
   "metadata": {},
   "source": [
    "Now we can create annotations for all audio files in that folder."
   ]
  },
  {
   "cell_type": "code",
   "execution_count": 121,
   "metadata": {
    "scrolled": false
   },
   "outputs": [
    {
     "name": "stdout",
     "output_type": "stream",
     "text": [
      "channelA_2020-10-23_00-00-04.wav\n",
      "channelA_2020-10-23_01-00-04.wav\n",
      "channelA_2020-10-23_02-00-03.wav\n",
      "channelA_2020-10-23_03-00-03.wav\n",
      "channelA_2020-10-23_04-00-04.wav\n",
      "channelA_2020-10-23_05-00-03.wav\n",
      "channelA_2020-10-23_06-00-03.wav\n",
      "channelA_2020-10-23_07-00-03.wav\n",
      "channelA_2020-10-23_08-00-03.wav\n",
      "channelA_2020-10-23_09-00-03.wav\n",
      "channelA_2020-10-23_10-00-03.wav\n",
      "channelA_2020-10-23_11-00-03.wav\n",
      "channelA_2020-10-23_12-00-04.wav\n",
      "channelA_2020-10-23_13-00-03.wav\n",
      "channelA_2020-10-23_14-00-03.wav\n",
      "channelA_2020-10-23_15-00-03.wav\n",
      "channelA_2020-10-23_16-00-04.wav\n",
      "channelA_2020-10-23_17-00-03.wav\n",
      "channelA_2020-10-23_18-00-03.wav\n",
      "channelA_2020-10-23_19-00-03.wav\n",
      "channelA_2020-10-23_20-00-03.wav\n",
      "channelA_2020-10-23_21-00-03.wav\n",
      "channelA_2020-10-23_22-00-03.wav\n",
      "channelA_2020-10-23_23-00-03.wav\n",
      "channelA_2020-11-28_00-00-04.wav\n",
      "channelA_2020-11-28_01-00-04.wav\n",
      "channelA_2020-11-28_02-00-04.wav\n",
      "channelA_2020-11-28_03-00-04.wav\n",
      "channelA_2020-11-28_04-00-04.wav\n",
      "channelA_2020-11-28_05-00-04.wav\n",
      "channelA_2020-11-28_06-00-04.wav\n",
      "channelA_2020-11-28_07-00-04.wav\n",
      "channelA_2020-11-28_08-00-04.wav\n",
      "channelA_2020-11-28_09-00-04.wav\n",
      "channelA_2020-11-28_10-00-04.wav\n",
      "channelA_2020-11-28_11-00-04.wav\n",
      "channelA_2020-11-28_12-00-04.wav\n",
      "channelA_2020-11-28_13-00-04.wav\n",
      "channelA_2020-11-28_14-00-04.wav\n",
      "channelA_2020-11-28_15-00-04.wav\n",
      "channelA_2020-11-28_16-00-04.wav\n",
      "channelA_2020-11-28_17-00-04.wav\n",
      "channelA_2020-11-28_18-00-04.wav\n",
      "channelA_2020-11-28_19-00-04.wav\n",
      "channelA_2020-11-28_20-00-04.wav\n",
      "channelA_2020-11-28_21-00-04.wav\n",
      "channelA_2020-11-28_22-00-04.wav\n",
      "channelA_2020-11-28_23-00-04.wav\n",
      "channelA_2020-12-09_00-00-05.wav\n",
      "channelA_2020-12-09_01-00-04.wav\n",
      "channelA_2020-12-09_02-00-04.wav\n",
      "channelA_2020-12-09_03-00-04.wav\n",
      "channelA_2020-12-09_04-00-04.wav\n",
      "channelA_2020-12-09_05-00-04.wav\n",
      "channelA_2020-12-09_06-00-04.wav\n",
      "channelA_2020-12-09_07-00-04.wav\n",
      "channelA_2020-12-09_08-00-04.wav\n",
      "channelA_2020-12-09_09-00-04.wav\n",
      "channelA_2020-12-09_10-00-04.wav\n",
      "channelA_2020-12-09_11-00-04.wav\n",
      "channelA_2020-12-09_12-00-04.wav\n",
      "channelA_2020-12-09_13-00-04.wav\n",
      "channelA_2020-12-09_14-00-04.wav\n",
      "channelA_2020-12-09_15-00-04.wav\n",
      "channelA_2020-12-09_16-00-04.wav\n",
      "channelA_2020-12-09_17-00-04.wav\n",
      "channelA_2020-12-09_18-00-04.wav\n",
      "channelA_2020-12-09_19-00-04.wav\n",
      "channelA_2020-12-09_20-00-04.wav\n",
      "channelA_2020-12-09_21-00-04.wav\n",
      "channelA_2020-12-09_22-00-04.wav\n",
      "channelA_2020-12-09_23-00-04.wav\n",
      "channelA_2021-01-17_00-00-05.wav\n",
      "channelA_2021-01-17_00-22-22.wav\n",
      "channelA_2021-01-17_01-00-05.wav\n",
      "channelA_2021-01-17_02-01-53.wav\n",
      "channelA_2021-01-17_03-00-05.wav\n",
      "channelA_2021-01-17_03-07-11.wav\n",
      "channelA_2021-01-17_04-00-05.wav\n",
      "channelA_2021-01-17_04-12-30.wav\n",
      "channelA_2021-01-17_05-00-05.wav\n",
      "channelA_2021-01-17_05-17-49.wav\n",
      "channelA_2021-01-17_06-00-05.wav\n",
      "channelA_2021-01-17_06-23-07.wav\n",
      "channelA_2021-01-17_07-00-05.wav\n",
      "channelA_2021-01-17_08-01-54.wav\n",
      "channelA_2021-01-17_09-00-05.wav\n",
      "channelA_2021-01-17_09-06-40.wav\n",
      "channelA_2021-01-17_10-00-05.wav\n",
      "channelA_2021-01-17_10-11-02.wav\n",
      "channelA_2021-01-17_11-00-05.wav\n",
      "channelA_2021-01-17_11-16-02.wav\n",
      "channelA_2021-01-17_12-00-05.wav\n",
      "channelA_2021-01-17_12-22-58.wav\n",
      "channelA_2021-01-17_13-00-05.wav\n",
      "channelA_2021-01-17_14-01-53.wav\n",
      "channelA_2021-01-17_15-00-05.wav\n",
      "channelA_2021-01-17_15-07-11.wav\n",
      "channelA_2021-01-17_16-00-05.wav\n",
      "channelA_2021-01-17_16-12-30.wav\n",
      "channelA_2021-01-17_17-00-05.wav\n",
      "channelA_2021-01-17_17-17-49.wav\n",
      "channelA_2021-01-17_18-00-05.wav\n",
      "channelA_2021-01-17_18-23-07.wav\n",
      "channelA_2021-01-17_19-00-05.wav\n",
      "channelA_2021-01-17_20-01-55.wav\n",
      "channelA_2021-01-17_21-00-05.wav\n",
      "channelA_2021-01-17_21-07-12.wav\n",
      "channelA_2021-01-17_22-00-05.wav\n",
      "channelA_2021-01-17_22-12-32.wav\n",
      "channelA_2021-01-17_23-00-05.wav\n",
      "channelA_2021-01-17_23-17-51.wav\n",
      "channelA_2021-02-26_00-00-04.wav\n",
      "channelA_2021-02-26_01-00-04.wav\n",
      "channelA_2021-02-26_02-00-04.wav\n",
      "channelA_2021-02-26_03-00-04.wav\n",
      "channelA_2021-02-26_04-00-04.wav\n",
      "channelA_2021-02-26_05-00-04.wav\n",
      "channelA_2021-02-26_06-00-04.wav\n",
      "channelA_2021-02-26_07-00-04.wav\n",
      "channelA_2021-02-26_08-00-04.wav\n",
      "channelA_2021-02-26_09-00-04.wav\n",
      "channelA_2021-02-26_10-00-04.wav\n",
      "channelA_2021-02-26_11-00-04.wav\n",
      "channelA_2021-02-26_12-00-04.wav\n",
      "channelA_2021-02-26_13-00-04.wav\n",
      "channelA_2021-02-26_14-00-04.wav\n",
      "channelA_2021-02-26_15-00-04.wav\n",
      "channelA_2021-02-26_16-00-04.wav\n",
      "channelA_2021-02-26_17-00-04.wav\n",
      "channelA_2021-02-26_18-00-04.wav\n",
      "channelA_2021-02-26_19-00-04.wav\n",
      "channelA_2021-02-26_20-00-04.wav\n",
      "channelA_2021-02-26_21-00-04.wav\n",
      "channelA_2021-02-26_22-00-04.wav\n",
      "channelA_2021-02-26_23-00-04.wav\n",
      "channelA_2021-03-13_00-00-04.wav\n",
      "channelA_2021-03-13_01-00-04.wav\n",
      "channelA_2021-03-13_02-00-04.wav\n",
      "channelA_2021-03-13_03-00-04.wav\n",
      "channelA_2021-03-13_04-00-04.wav\n",
      "channelA_2021-03-13_05-00-04.wav\n",
      "channelA_2021-03-13_06-00-04.wav\n",
      "channelA_2021-03-13_07-00-04.wav\n",
      "channelA_2021-03-13_08-00-04.wav\n",
      "channelA_2021-03-13_09-00-04.wav\n",
      "channelA_2021-03-13_10-00-04.wav\n",
      "channelA_2021-03-13_11-00-04.wav\n",
      "channelA_2021-03-13_12-00-04.wav\n",
      "channelA_2021-03-13_13-00-04.wav\n",
      "channelA_2021-03-13_14-00-04.wav\n",
      "channelA_2021-03-13_15-00-04.wav\n",
      "channelA_2021-03-13_16-00-04.wav\n",
      "channelA_2021-03-13_17-00-04.wav\n",
      "channelA_2021-03-13_18-00-04.wav\n",
      "channelA_2021-03-13_19-00-04.wav\n",
      "channelA_2021-03-13_20-00-04.wav\n",
      "channelA_2021-03-13_21-00-04.wav\n",
      "channelA_2021-03-13_22-00-04.wav\n",
      "channelA_2021-03-13_23-00-04.wav\n",
      "channelA_2021-04-28_00-00-05.wav\n",
      "channelA_2021-04-28_01-00-05.wav\n",
      "channelA_2021-04-28_02-00-05.wav\n",
      "channelA_2021-04-28_03-00-05.wav\n",
      "channelA_2021-04-28_04-00-05.wav\n",
      "channelA_2021-04-28_05-00-05.wav\n",
      "channelA_2021-04-28_06-00-05.wav\n",
      "channelA_2021-04-28_07-00-05.wav\n",
      "channelA_2021-04-28_08-00-05.wav\n",
      "channelA_2021-04-28_09-00-05.wav\n",
      "channelA_2021-04-28_10-00-05.wav\n",
      "channelA_2021-04-28_11-00-05.wav\n",
      "channelA_2021-04-28_12-00-05.wav\n",
      "channelA_2021-04-28_13-00-05.wav\n",
      "channelA_2021-04-28_14-00-05.wav\n",
      "channelA_2021-04-28_15-00-05.wav\n",
      "channelA_2021-04-28_16-00-05.wav\n",
      "channelA_2021-04-28_17-00-05.wav\n",
      "channelA_2021-04-28_18-00-05.wav\n",
      "channelA_2021-04-28_19-00-05.wav\n",
      "channelA_2021-04-28_20-00-05.wav\n",
      "channelA_2021-04-28_21-00-05.wav\n",
      "channelA_2021-04-28_22-00-05.wav\n",
      "channelA_2021-04-28_23-00-05.wav\n",
      "channelA_2021-05-20_00-00-05_noise_end.wav\n",
      "channelA_2021-06-17_00-00-04.wav\n",
      "channelA_2021-06-17_01-00-04.wav\n",
      "channelA_2021-06-17_02-00-04.wav\n",
      "channelA_2021-06-17_03-00-04.wav\n",
      "channelA_2021-06-17_04-00-04.wav\n",
      "channelA_2021-06-17_05-00-04.wav\n",
      "channelA_2021-06-17_06-00-04.wav\n",
      "channelA_2021-06-17_07-00-04.wav\n",
      "channelA_2021-06-17_08-00-04.wav\n",
      "channelA_2021-06-17_09-00-04.wav\n",
      "channelA_2021-06-17_10-00-04.wav\n",
      "channelA_2021-06-17_11-00-04.wav\n",
      "channelA_2021-06-17_12-00-04.wav\n",
      "channelA_2021-06-17_13-00-04.wav\n",
      "channelA_2021-06-17_14-00-04.wav\n",
      "channelA_2021-06-17_15-00-04.wav\n",
      "channelA_2021-06-17_16-00-04.wav\n",
      "channelA_2021-06-17_17-00-04.wav\n",
      "channelA_2021-06-17_18-00-04.wav\n",
      "channelA_2021-06-17_19-00-04.wav\n",
      "channelA_2021-06-17_20-00-04.wav\n",
      "channelA_2021-06-17_21-00-04.wav\n",
      "channelA_2021-06-17_22-00-04.wav\n",
      "channelA_2021-06-17_23-00-04.wav\n",
      "channelA_2021-07-16_00-00-04.wav\n",
      "channelA_2021-07-16_01-00-04.wav\n",
      "channelA_2021-07-16_02-00-04.wav\n",
      "channelA_2021-07-16_03-00-04.wav\n",
      "channelA_2021-07-16_04-00-04.wav\n",
      "channelA_2021-07-16_05-00-04.wav\n",
      "channelA_2021-07-16_06-00-04.wav\n",
      "channelA_2021-07-16_07-00-04.wav\n",
      "channelA_2021-07-16_08-00-04.wav\n",
      "channelA_2021-07-16_09-00-04.wav\n",
      "channelA_2021-07-16_10-00-04.wav\n",
      "channelA_2021-07-16_11-00-04.wav\n",
      "channelA_2021-07-16_12-00-04.wav\n",
      "channelA_2021-07-16_13-00-04.wav\n",
      "channelA_2021-07-16_14-00-04.wav\n",
      "channelA_2021-07-16_15-00-04.wav\n",
      "channelA_2021-07-16_16-00-04.wav\n",
      "channelA_2021-07-16_17-00-04.wav\n",
      "channelA_2021-07-16_18-00-04.wav\n",
      "channelA_2021-07-16_19-00-04.wav\n",
      "channelA_2021-07-16_20-00-04.wav\n",
      "channelA_2021-07-16_21-00-04.wav\n",
      "channelA_2021-07-16_22-00-04.wav\n",
      "channelA_2021-07-16_23-00-04.wav\n"
     ]
    }
   ],
   "source": [
    "annot = create_noise_annot(audio_dir, deployment_file, file_ext, annot_dur_sec, label_class, label_subclass)"
   ]
  },
  {
   "cell_type": "markdown",
   "metadata": {},
   "source": [
    "Let's look at the summary of annotations that were created:"
   ]
  },
  {
   "cell_type": "code",
   "execution_count": 122,
   "metadata": {
    "scrolled": true
   },
   "outputs": [
    {
     "data": {
      "text/html": [
       "<div>\n",
       "<style scoped>\n",
       "    .dataframe tbody tr th:only-of-type {\n",
       "        vertical-align: middle;\n",
       "    }\n",
       "\n",
       "    .dataframe tbody tr th {\n",
       "        vertical-align: top;\n",
       "    }\n",
       "\n",
       "    .dataframe thead th {\n",
       "        text-align: right;\n",
       "    }\n",
       "</style>\n",
       "<table border=\"1\" class=\"dataframe\">\n",
       "  <thead>\n",
       "    <tr style=\"text-align: right;\">\n",
       "      <th>label_class</th>\n",
       "      <th>NN</th>\n",
       "      <th>Total</th>\n",
       "    </tr>\n",
       "    <tr>\n",
       "      <th>deployment_ID</th>\n",
       "      <th></th>\n",
       "      <th></th>\n",
       "    </tr>\n",
       "  </thead>\n",
       "  <tbody>\n",
       "    <tr>\n",
       "      <th>UK-SAMS-WestScotland-202010-S1</th>\n",
       "      <td>5327</td>\n",
       "      <td>5327</td>\n",
       "    </tr>\n",
       "    <tr>\n",
       "      <th>Total</th>\n",
       "      <td>5327</td>\n",
       "      <td>5327</td>\n",
       "    </tr>\n",
       "  </tbody>\n",
       "</table>\n",
       "</div>"
      ],
      "text/plain": [
       "label_class                       NN  Total\n",
       "deployment_ID                              \n",
       "UK-SAMS-WestScotland-202010-S1  5327   5327\n",
       "Total                           5327   5327"
      ]
     },
     "execution_count": 122,
     "metadata": {},
     "output_type": "execute_result"
    }
   ],
   "source": [
    "annot.summary()"
   ]
  },
  {
   "cell_type": "markdown",
   "metadata": {},
   "source": [
    "The dataset can now be saved as a Raven annotation file and netcdf4 file:"
   ]
  },
  {
   "cell_type": "code",
   "execution_count": 123,
   "metadata": {},
   "outputs": [],
   "source": [
    "annot.to_netcdf(os.path.join(audio_dir, 'Annotations_dataset_' + annot.data['deployment_ID'][0] +' annotations.nc'))\n",
    "annot.to_raven(audio_dir, outfile='Annotations_dataset_' + annot.data['deployment_ID'][0] +'.Table.1.selections.txt', single_file=True)"
   ]
  },
  {
   "cell_type": "code",
   "execution_count": null,
   "metadata": {},
   "outputs": [],
   "source": []
  },
  {
   "cell_type": "markdown",
   "metadata": {},
   "source": [
    "### Dataset 17: UK-UAberdeen-MorayFirth-201709_887-162\n",
    "\n",
    "Definition of all the paths of all folders with the raw annotation and audio files for this deployment."
   ]
  },
  {
   "cell_type": "code",
   "execution_count": 135,
   "metadata": {},
   "outputs": [],
   "source": [
    "audio_dir = r'D:\\NOAA\\2022_Minke_whale_detector\\manual_annotations\\UK-UAberdeen-MorayFirth-201709_887-162\\noise'\n",
    "deployment_file = r'deployment_info.csv' \n",
    "file_ext = 'wav'\n",
    "\n",
    "annot_dur_sec = 60  # duration of the noise annotations in seconds\n",
    "label_class = 'NN'  # label to use for the noise class\n",
    "label_subclass = '' # label to use for the noise subclass (if needed, e.g. S for seismic airguns)"
   ]
  },
  {
   "cell_type": "raw",
   "metadata": {},
   "source": [
    "Now we can create annotations for all audio files in that folder."
   ]
  },
  {
   "cell_type": "code",
   "execution_count": 136,
   "metadata": {
    "scrolled": false
   },
   "outputs": [
    {
     "name": "stdout",
     "output_type": "stream",
     "text": [
      "Depl887_1678508072.170921200002.wav\n",
      "Depl887_1678508072.170909060002.wav\n"
     ]
    }
   ],
   "source": [
    "annot = create_noise_annot(audio_dir, deployment_file, file_ext, annot_dur_sec, label_class, label_subclass)"
   ]
  },
  {
   "cell_type": "markdown",
   "metadata": {},
   "source": [
    "Let's look at the summary of annotations that were created:"
   ]
  },
  {
   "cell_type": "code",
   "execution_count": 138,
   "metadata": {
    "scrolled": true
   },
   "outputs": [
    {
     "data": {
      "text/html": [
       "<div>\n",
       "<style scoped>\n",
       "    .dataframe tbody tr th:only-of-type {\n",
       "        vertical-align: middle;\n",
       "    }\n",
       "\n",
       "    .dataframe tbody tr th {\n",
       "        vertical-align: top;\n",
       "    }\n",
       "\n",
       "    .dataframe thead th {\n",
       "        text-align: right;\n",
       "    }\n",
       "</style>\n",
       "<table border=\"1\" class=\"dataframe\">\n",
       "  <thead>\n",
       "    <tr style=\"text-align: right;\">\n",
       "      <th>label_class</th>\n",
       "      <th>NN</th>\n",
       "      <th>Total</th>\n",
       "    </tr>\n",
       "    <tr>\n",
       "      <th>deployment_ID</th>\n",
       "      <th></th>\n",
       "      <th></th>\n",
       "    </tr>\n",
       "  </thead>\n",
       "  <tbody>\n",
       "    <tr>\n",
       "      <th>UK-UAberdeen-MorayFirth-201709_887-162</th>\n",
       "      <td>18</td>\n",
       "      <td>18</td>\n",
       "    </tr>\n",
       "    <tr>\n",
       "      <th>Total</th>\n",
       "      <td>18</td>\n",
       "      <td>18</td>\n",
       "    </tr>\n",
       "  </tbody>\n",
       "</table>\n",
       "</div>"
      ],
      "text/plain": [
       "label_class                             NN  Total\n",
       "deployment_ID                                    \n",
       "UK-UAberdeen-MorayFirth-201709_887-162  18     18\n",
       "Total                                   18     18"
      ]
     },
     "execution_count": 138,
     "metadata": {},
     "output_type": "execute_result"
    }
   ],
   "source": [
    "annot.summary()"
   ]
  },
  {
   "cell_type": "markdown",
   "metadata": {},
   "source": [
    "The dataset can now be saved as a Raven annotation file and netcdf4 file:"
   ]
  },
  {
   "cell_type": "code",
   "execution_count": 139,
   "metadata": {},
   "outputs": [],
   "source": [
    "annot.to_netcdf(os.path.join(audio_dir, 'Annotations_dataset_' + annot.data['deployment_ID'][0] +' annotations.nc'))\n",
    "annot.to_raven(audio_dir, outfile='Annotations_dataset_' + annot.data['deployment_ID'][0] +'.Table.1.selections.txt', single_file=True)"
   ]
  },
  {
   "cell_type": "code",
   "execution_count": null,
   "metadata": {},
   "outputs": [],
   "source": []
  },
  {
   "cell_type": "markdown",
   "metadata": {},
   "source": [
    "### Dataset 18: UK-UAberdeen-MorayFirth-201905_987-112\n",
    "\n",
    "Definition of all the paths of all folders with the raw annotation and audio files for this deployment."
   ]
  },
  {
   "cell_type": "code",
   "execution_count": 140,
   "metadata": {},
   "outputs": [],
   "source": [
    "audio_dir = r'D:\\NOAA\\2022_Minke_whale_detector\\manual_annotations\\UK-UAberdeen-MorayFirth-201905_987-112\\noise'\n",
    "deployment_file = r'deployment_info.csv' \n",
    "file_ext = 'wav'\n",
    "\n",
    "annot_dur_sec = 60  # duration of the noise annotations in seconds\n",
    "label_class = 'NN'  # label to use for the noise class\n",
    "label_subclass = '' # label to use for the noise subclass (if needed, e.g. S for seismic airguns)"
   ]
  },
  {
   "cell_type": "raw",
   "metadata": {},
   "source": [
    "Now we can create annotations for all audio files in that folder."
   ]
  },
  {
   "cell_type": "code",
   "execution_count": 141,
   "metadata": {
    "scrolled": false
   },
   "outputs": [
    {
     "name": "stdout",
     "output_type": "stream",
     "text": [
      "Depl987_1347451_190610231441.wav\n",
      "Depl987_1347451_190505222502.wav\n",
      "Depl987_1347451_190505225502.wav\n",
      "Depl987_1347451_190505235501.wav\n",
      "Depl987_1347451_190506002501.wav\n",
      "Depl987_1347451_190506005501.wav\n",
      "Depl987_1347451_190523032254.wav\n",
      "Depl987_1347451_190607024508.wav\n"
     ]
    }
   ],
   "source": [
    "annot = create_noise_annot(audio_dir, deployment_file, file_ext, annot_dur_sec, label_class, label_subclass)"
   ]
  },
  {
   "cell_type": "markdown",
   "metadata": {},
   "source": [
    "Let's look at the summary of annotations that were created:"
   ]
  },
  {
   "cell_type": "code",
   "execution_count": 142,
   "metadata": {
    "scrolled": true
   },
   "outputs": [
    {
     "data": {
      "text/html": [
       "<div>\n",
       "<style scoped>\n",
       "    .dataframe tbody tr th:only-of-type {\n",
       "        vertical-align: middle;\n",
       "    }\n",
       "\n",
       "    .dataframe tbody tr th {\n",
       "        vertical-align: top;\n",
       "    }\n",
       "\n",
       "    .dataframe thead th {\n",
       "        text-align: right;\n",
       "    }\n",
       "</style>\n",
       "<table border=\"1\" class=\"dataframe\">\n",
       "  <thead>\n",
       "    <tr style=\"text-align: right;\">\n",
       "      <th>label_class</th>\n",
       "      <th>NN</th>\n",
       "      <th>Total</th>\n",
       "    </tr>\n",
       "    <tr>\n",
       "      <th>deployment_ID</th>\n",
       "      <th></th>\n",
       "      <th></th>\n",
       "    </tr>\n",
       "  </thead>\n",
       "  <tbody>\n",
       "    <tr>\n",
       "      <th>UK-UAberdeen-MorayFirth-201905_987-112</th>\n",
       "      <td>233</td>\n",
       "      <td>233</td>\n",
       "    </tr>\n",
       "    <tr>\n",
       "      <th>Total</th>\n",
       "      <td>233</td>\n",
       "      <td>233</td>\n",
       "    </tr>\n",
       "  </tbody>\n",
       "</table>\n",
       "</div>"
      ],
      "text/plain": [
       "label_class                              NN  Total\n",
       "deployment_ID                                     \n",
       "UK-UAberdeen-MorayFirth-201905_987-112  233    233\n",
       "Total                                   233    233"
      ]
     },
     "execution_count": 142,
     "metadata": {},
     "output_type": "execute_result"
    }
   ],
   "source": [
    "annot.summary()"
   ]
  },
  {
   "cell_type": "markdown",
   "metadata": {},
   "source": [
    "The dataset can now be saved as a Raven annotation file and netcdf4 file:"
   ]
  },
  {
   "cell_type": "code",
   "execution_count": 143,
   "metadata": {},
   "outputs": [],
   "source": [
    "annot.to_netcdf(os.path.join(audio_dir, 'Annotations_dataset_' + annot.data['deployment_ID'][0] +' annotations.nc'))\n",
    "annot.to_raven(audio_dir, outfile='Annotations_dataset_' + annot.data['deployment_ID'][0] +'.Table.1.selections.txt', single_file=True)"
   ]
  },
  {
   "cell_type": "code",
   "execution_count": null,
   "metadata": {},
   "outputs": [],
   "source": []
  },
  {
   "cell_type": "markdown",
   "metadata": {},
   "source": [
    "### Dataset 19: UK-UAberdeen-MorayFirth-201905_987-112\n",
    "\n",
    "Definition of all the paths of all folders with the raw annotation and audio files for this deployment."
   ]
  },
  {
   "cell_type": "code",
   "execution_count": 144,
   "metadata": {},
   "outputs": [],
   "source": [
    "audio_dir = r'D:\\NOAA\\2022_Minke_whale_detector\\manual_annotations\\UK-UAberdeen-MorayFirth-201905_1032-164\\noise'\n",
    "deployment_file = r'deployment_info.csv' \n",
    "file_ext = 'wav'\n",
    "\n",
    "annot_dur_sec = 60  # duration of the noise annotations in seconds\n",
    "label_class = 'NN'  # label to use for the noise class\n",
    "label_subclass = '' # label to use for the noise subclass (if needed, e.g. S for seismic airguns)"
   ]
  },
  {
   "cell_type": "raw",
   "metadata": {},
   "source": [
    "Now we can create annotations for all audio files in that folder."
   ]
  },
  {
   "cell_type": "code",
   "execution_count": 145,
   "metadata": {
    "scrolled": false
   },
   "outputs": [
    {
     "name": "stdout",
     "output_type": "stream",
     "text": [
      "Depl1032_1678508072.190521165218.wav\n",
      "Depl1032_1678508072.190401045951.wav\n",
      "Depl1032_1678508072.190411225740.wav\n",
      "Depl1032_1678508072.190415225713.wav\n",
      "Depl1032_1678508072.190416105710.wav\n",
      "Depl1032_1678508072.190418165650.wav\n",
      "Depl1032_1678508072.190424165556.wav\n",
      "Depl1032_1678508072.190425105552.wav\n",
      "Depl1032_1678508072.190426045547.wav\n",
      "Depl1032_1678508072.190429045528.wav\n",
      "Depl1032_1678508072.190430105517.wav\n",
      "Depl1032_1678508072.190505105434.wav\n",
      "Depl1032_1678508072.190505165432.wav\n",
      "Depl1032_1678508072.190505225431.wav\n",
      "Depl1032_1678508072.190507165415.wav\n",
      "Depl1032_1678508072.190509045359.wav\n",
      "Depl1032_1678508072.190511045342.wav\n",
      "Depl1032_1678508072.190517105252.wav\n",
      "Depl1032_1678508072.190519165233.wav\n"
     ]
    }
   ],
   "source": [
    "annot = create_noise_annot(audio_dir, deployment_file, file_ext, annot_dur_sec, label_class, label_subclass)"
   ]
  },
  {
   "cell_type": "markdown",
   "metadata": {},
   "source": [
    "Let's look at the summary of annotations that were created:"
   ]
  },
  {
   "cell_type": "code",
   "execution_count": 146,
   "metadata": {
    "scrolled": true
   },
   "outputs": [
    {
     "data": {
      "text/html": [
       "<div>\n",
       "<style scoped>\n",
       "    .dataframe tbody tr th:only-of-type {\n",
       "        vertical-align: middle;\n",
       "    }\n",
       "\n",
       "    .dataframe tbody tr th {\n",
       "        vertical-align: top;\n",
       "    }\n",
       "\n",
       "    .dataframe thead th {\n",
       "        text-align: right;\n",
       "    }\n",
       "</style>\n",
       "<table border=\"1\" class=\"dataframe\">\n",
       "  <thead>\n",
       "    <tr style=\"text-align: right;\">\n",
       "      <th>label_class</th>\n",
       "      <th>NN</th>\n",
       "      <th>Total</th>\n",
       "    </tr>\n",
       "    <tr>\n",
       "      <th>deployment_ID</th>\n",
       "      <th></th>\n",
       "      <th></th>\n",
       "    </tr>\n",
       "  </thead>\n",
       "  <tbody>\n",
       "    <tr>\n",
       "      <th>UK-UAberdeen-MorayFirth-201905_1032-164</th>\n",
       "      <td>6821</td>\n",
       "      <td>6821</td>\n",
       "    </tr>\n",
       "    <tr>\n",
       "      <th>Total</th>\n",
       "      <td>6821</td>\n",
       "      <td>6821</td>\n",
       "    </tr>\n",
       "  </tbody>\n",
       "</table>\n",
       "</div>"
      ],
      "text/plain": [
       "label_class                                NN  Total\n",
       "deployment_ID                                       \n",
       "UK-UAberdeen-MorayFirth-201905_1032-164  6821   6821\n",
       "Total                                    6821   6821"
      ]
     },
     "execution_count": 146,
     "metadata": {},
     "output_type": "execute_result"
    }
   ],
   "source": [
    "annot.summary()"
   ]
  },
  {
   "cell_type": "markdown",
   "metadata": {},
   "source": [
    "The dataset can now be saved as a Raven annotation file and netcdf4 file:"
   ]
  },
  {
   "cell_type": "code",
   "execution_count": 147,
   "metadata": {},
   "outputs": [],
   "source": [
    "annot.to_netcdf(os.path.join(audio_dir, 'Annotations_dataset_' + annot.data['deployment_ID'][0] +' annotations.nc'))\n",
    "annot.to_raven(audio_dir, outfile='Annotations_dataset_' + annot.data['deployment_ID'][0] +'.Table.1.selections.txt', single_file=True)"
   ]
  },
  {
   "cell_type": "code",
   "execution_count": null,
   "metadata": {},
   "outputs": [],
   "source": []
  },
  {
   "cell_type": "markdown",
   "metadata": {},
   "source": [
    "### Dataset 20: UK-UAberdeen-MorayFirth-201911_1092-112\n",
    "\n",
    "Definition of all the paths of all folders with the raw annotation and audio files for this deployment."
   ]
  },
  {
   "cell_type": "code",
   "execution_count": 148,
   "metadata": {},
   "outputs": [],
   "source": [
    "audio_dir = r'D:\\NOAA\\2022_Minke_whale_detector\\manual_annotations\\UK-UAberdeen-MorayFirth-201911_1092-112\\noise'\n",
    "deployment_file = r'deployment_info.csv' \n",
    "file_ext = 'wav'\n",
    "\n",
    "annot_dur_sec = 60  # duration of the noise annotations in seconds\n",
    "label_class = 'NN'  # label to use for the noise class\n",
    "label_subclass = '' # label to use for the noise subclass (if needed, e.g. S for seismic airguns)"
   ]
  },
  {
   "cell_type": "raw",
   "metadata": {},
   "source": [
    "Now we can create annotations for all audio files in that folder."
   ]
  },
  {
   "cell_type": "code",
   "execution_count": 149,
   "metadata": {
    "scrolled": false
   },
   "outputs": [
    {
     "name": "stdout",
     "output_type": "stream",
     "text": [
      "Depl1092_1678036995.200202024914.wav\n",
      "Depl1092_1678036995.191106144914.wav\n",
      "Depl1092_1678036995.191222074914.wav\n"
     ]
    }
   ],
   "source": [
    "annot = create_noise_annot(audio_dir, deployment_file, file_ext, annot_dur_sec, label_class, label_subclass)"
   ]
  },
  {
   "cell_type": "markdown",
   "metadata": {},
   "source": [
    "Let's look at the summary of annotations that were created:"
   ]
  },
  {
   "cell_type": "code",
   "execution_count": 150,
   "metadata": {
    "scrolled": true
   },
   "outputs": [
    {
     "data": {
      "text/html": [
       "<div>\n",
       "<style scoped>\n",
       "    .dataframe tbody tr th:only-of-type {\n",
       "        vertical-align: middle;\n",
       "    }\n",
       "\n",
       "    .dataframe tbody tr th {\n",
       "        vertical-align: top;\n",
       "    }\n",
       "\n",
       "    .dataframe thead th {\n",
       "        text-align: right;\n",
       "    }\n",
       "</style>\n",
       "<table border=\"1\" class=\"dataframe\">\n",
       "  <thead>\n",
       "    <tr style=\"text-align: right;\">\n",
       "      <th>label_class</th>\n",
       "      <th>NN</th>\n",
       "      <th>Total</th>\n",
       "    </tr>\n",
       "    <tr>\n",
       "      <th>deployment_ID</th>\n",
       "      <th></th>\n",
       "      <th></th>\n",
       "    </tr>\n",
       "  </thead>\n",
       "  <tbody>\n",
       "    <tr>\n",
       "      <th>UK-UAberdeen-MorayFirth-201911_1092-112</th>\n",
       "      <td>27</td>\n",
       "      <td>27</td>\n",
       "    </tr>\n",
       "    <tr>\n",
       "      <th>Total</th>\n",
       "      <td>27</td>\n",
       "      <td>27</td>\n",
       "    </tr>\n",
       "  </tbody>\n",
       "</table>\n",
       "</div>"
      ],
      "text/plain": [
       "label_class                              NN  Total\n",
       "deployment_ID                                     \n",
       "UK-UAberdeen-MorayFirth-201911_1092-112  27     27\n",
       "Total                                    27     27"
      ]
     },
     "execution_count": 150,
     "metadata": {},
     "output_type": "execute_result"
    }
   ],
   "source": [
    "annot.summary()"
   ]
  },
  {
   "cell_type": "markdown",
   "metadata": {},
   "source": [
    "The dataset can now be saved as a Raven annotation file and netcdf4 file:"
   ]
  },
  {
   "cell_type": "code",
   "execution_count": 151,
   "metadata": {},
   "outputs": [],
   "source": [
    "annot.to_netcdf(os.path.join(audio_dir, 'Annotations_dataset_' + annot.data['deployment_ID'][0] +' annotations.nc'))\n",
    "annot.to_raven(audio_dir, outfile='Annotations_dataset_' + annot.data['deployment_ID'][0] +'.Table.1.selections.txt', single_file=True)"
   ]
  },
  {
   "cell_type": "code",
   "execution_count": null,
   "metadata": {},
   "outputs": [],
   "source": []
  },
  {
   "cell_type": "markdown",
   "metadata": {},
   "source": [
    "### Dataset 21: UK-UAberdeen-MorayFirth-201911_1093-164\n",
    "\n",
    "Definition of all the paths of all folders with the raw annotation and audio files for this deployment."
   ]
  },
  {
   "cell_type": "code",
   "execution_count": 152,
   "metadata": {},
   "outputs": [],
   "source": [
    "audio_dir = r'D:\\NOAA\\2022_Minke_whale_detector\\manual_annotations\\UK-UAberdeen-MorayFirth-201911_1093-164\\noise'\n",
    "deployment_file = r'deployment_info.csv' \n",
    "file_ext = 'wav'\n",
    "\n",
    "annot_dur_sec = 60  # duration of the noise annotations in seconds\n",
    "label_class = 'NN'  # label to use for the noise class\n",
    "label_subclass = '' # label to use for the noise subclass (if needed, e.g. S for seismic airguns)"
   ]
  },
  {
   "cell_type": "raw",
   "metadata": {},
   "source": [
    "Now we can create annotations for all audio files in that folder."
   ]
  },
  {
   "cell_type": "code",
   "execution_count": 153,
   "metadata": {
    "scrolled": false
   },
   "outputs": [
    {
     "name": "stdout",
     "output_type": "stream",
     "text": [
      "Depl1093_1677725722.191106155913.wav\n"
     ]
    }
   ],
   "source": [
    "annot = create_noise_annot(audio_dir, deployment_file, file_ext, annot_dur_sec, label_class, label_subclass)"
   ]
  },
  {
   "cell_type": "markdown",
   "metadata": {},
   "source": [
    "Let's look at the summary of annotations that were created:"
   ]
  },
  {
   "cell_type": "code",
   "execution_count": 154,
   "metadata": {
    "scrolled": true
   },
   "outputs": [
    {
     "data": {
      "text/html": [
       "<div>\n",
       "<style scoped>\n",
       "    .dataframe tbody tr th:only-of-type {\n",
       "        vertical-align: middle;\n",
       "    }\n",
       "\n",
       "    .dataframe tbody tr th {\n",
       "        vertical-align: top;\n",
       "    }\n",
       "\n",
       "    .dataframe thead th {\n",
       "        text-align: right;\n",
       "    }\n",
       "</style>\n",
       "<table border=\"1\" class=\"dataframe\">\n",
       "  <thead>\n",
       "    <tr style=\"text-align: right;\">\n",
       "      <th>label_class</th>\n",
       "      <th>NN</th>\n",
       "      <th>Total</th>\n",
       "    </tr>\n",
       "    <tr>\n",
       "      <th>deployment_ID</th>\n",
       "      <th></th>\n",
       "      <th></th>\n",
       "    </tr>\n",
       "  </thead>\n",
       "  <tbody>\n",
       "    <tr>\n",
       "      <th>UK-UAberdeen-MorayFirth-201911_1093-164</th>\n",
       "      <td>9</td>\n",
       "      <td>9</td>\n",
       "    </tr>\n",
       "    <tr>\n",
       "      <th>Total</th>\n",
       "      <td>9</td>\n",
       "      <td>9</td>\n",
       "    </tr>\n",
       "  </tbody>\n",
       "</table>\n",
       "</div>"
      ],
      "text/plain": [
       "label_class                              NN  Total\n",
       "deployment_ID                                     \n",
       "UK-UAberdeen-MorayFirth-201911_1093-164   9      9\n",
       "Total                                     9      9"
      ]
     },
     "execution_count": 154,
     "metadata": {},
     "output_type": "execute_result"
    }
   ],
   "source": [
    "annot.summary()"
   ]
  },
  {
   "cell_type": "markdown",
   "metadata": {},
   "source": [
    "The dataset can now be saved as a Raven annotation file and netcdf4 file:"
   ]
  },
  {
   "cell_type": "code",
   "execution_count": 155,
   "metadata": {},
   "outputs": [],
   "source": [
    "annot.to_netcdf(os.path.join(audio_dir, 'Annotations_dataset_' + annot.data['deployment_ID'][0] +' annotations.nc'))\n",
    "annot.to_raven(audio_dir, outfile='Annotations_dataset_' + annot.data['deployment_ID'][0] +'.Table.1.selections.txt', single_file=True)"
   ]
  },
  {
   "cell_type": "code",
   "execution_count": null,
   "metadata": {},
   "outputs": [],
   "source": []
  },
  {
   "cell_type": "markdown",
   "metadata": {},
   "source": [
    "### Dataset 22: UK-UAberdeen-MorayFirth-202006_1101-164\n",
    "\n",
    "Definition of all the paths of all folders with the raw annotation and audio files for this deployment."
   ]
  },
  {
   "cell_type": "code",
   "execution_count": 156,
   "metadata": {},
   "outputs": [],
   "source": [
    "audio_dir = r'D:\\NOAA\\2022_Minke_whale_detector\\manual_annotations\\UK-UAberdeen-MorayFirth-202006_1101-164\\noise'\n",
    "deployment_file = r'deployment_info.csv' \n",
    "file_ext = 'wav'\n",
    "\n",
    "annot_dur_sec = 60  # duration of the noise annotations in seconds\n",
    "label_class = 'NN'  # label to use for the noise class\n",
    "label_subclass = '' # label to use for the noise subclass (if needed, e.g. S for seismic airguns)"
   ]
  },
  {
   "cell_type": "raw",
   "metadata": {},
   "source": [
    "Now we can create annotations for all audio files in that folder."
   ]
  },
  {
   "cell_type": "code",
   "execution_count": 157,
   "metadata": {
    "scrolled": false
   },
   "outputs": [
    {
     "name": "stdout",
     "output_type": "stream",
     "text": [
      "Depl1101_134541352_200717210002.wav\n",
      "Depl1101_134541352_200607120002.wav\n",
      "Depl1101_134541352_200608220002.wav\n",
      "Depl1101_134541352_200609210002.wav\n",
      "Depl1101_134541352_200610190002.wav\n",
      "Depl1101_134541352_200617040002.wav\n",
      "Depl1101_134541352_200618070002.wav\n",
      "Depl1101_134541352_200620120002.wav\n",
      "Depl1101_134541352_200621120002.wav\n",
      "Depl1101_134541352_200621130002.wav\n"
     ]
    }
   ],
   "source": [
    "annot = create_noise_annot(audio_dir, deployment_file, file_ext, annot_dur_sec, label_class, label_subclass)"
   ]
  },
  {
   "cell_type": "markdown",
   "metadata": {},
   "source": [
    "Let's look at the summary of annotations that were created:"
   ]
  },
  {
   "cell_type": "code",
   "execution_count": 158,
   "metadata": {
    "scrolled": true
   },
   "outputs": [
    {
     "data": {
      "text/html": [
       "<div>\n",
       "<style scoped>\n",
       "    .dataframe tbody tr th:only-of-type {\n",
       "        vertical-align: middle;\n",
       "    }\n",
       "\n",
       "    .dataframe tbody tr th {\n",
       "        vertical-align: top;\n",
       "    }\n",
       "\n",
       "    .dataframe thead th {\n",
       "        text-align: right;\n",
       "    }\n",
       "</style>\n",
       "<table border=\"1\" class=\"dataframe\">\n",
       "  <thead>\n",
       "    <tr style=\"text-align: right;\">\n",
       "      <th>label_class</th>\n",
       "      <th>NN</th>\n",
       "      <th>Total</th>\n",
       "    </tr>\n",
       "    <tr>\n",
       "      <th>deployment_ID</th>\n",
       "      <th></th>\n",
       "      <th></th>\n",
       "    </tr>\n",
       "  </thead>\n",
       "  <tbody>\n",
       "    <tr>\n",
       "      <th>UK-UAberdeen-MorayFirth-202006_1101-164</th>\n",
       "      <td>91</td>\n",
       "      <td>91</td>\n",
       "    </tr>\n",
       "    <tr>\n",
       "      <th>Total</th>\n",
       "      <td>91</td>\n",
       "      <td>91</td>\n",
       "    </tr>\n",
       "  </tbody>\n",
       "</table>\n",
       "</div>"
      ],
      "text/plain": [
       "label_class                              NN  Total\n",
       "deployment_ID                                     \n",
       "UK-UAberdeen-MorayFirth-202006_1101-164  91     91\n",
       "Total                                    91     91"
      ]
     },
     "execution_count": 158,
     "metadata": {},
     "output_type": "execute_result"
    }
   ],
   "source": [
    "annot.summary()"
   ]
  },
  {
   "cell_type": "markdown",
   "metadata": {},
   "source": [
    "The dataset can now be saved as a Raven annotation file and netcdf4 file:"
   ]
  },
  {
   "cell_type": "code",
   "execution_count": 159,
   "metadata": {},
   "outputs": [],
   "source": [
    "annot.to_netcdf(os.path.join(audio_dir, 'Annotations_dataset_' + annot.data['deployment_ID'][0] +' annotations.nc'))\n",
    "annot.to_raven(audio_dir, outfile='Annotations_dataset_' + annot.data['deployment_ID'][0] +'.Table.1.selections.txt', single_file=True)"
   ]
  },
  {
   "cell_type": "code",
   "execution_count": null,
   "metadata": {},
   "outputs": [],
   "source": []
  },
  {
   "cell_type": "markdown",
   "metadata": {},
   "source": [
    "### Dataset 23: UK-UAberdeen-MorayFirth-202006_1102-112\n",
    "\n",
    "Definition of all the paths of all folders with the raw annotation and audio files for this deployment."
   ]
  },
  {
   "cell_type": "code",
   "execution_count": 160,
   "metadata": {},
   "outputs": [],
   "source": [
    "audio_dir = r'D:\\NOAA\\2022_Minke_whale_detector\\manual_annotations\\UK-UAberdeen-MorayFirth-202006_1102-112\\noise'\n",
    "deployment_file = r'deployment_info.csv' \n",
    "file_ext = 'wav'\n",
    "\n",
    "annot_dur_sec = 60  # duration of the noise annotations in seconds\n",
    "label_class = 'NN'  # label to use for the noise class\n",
    "label_subclass = '' # label to use for the noise subclass (if needed, e.g. S for seismic airguns)"
   ]
  },
  {
   "cell_type": "raw",
   "metadata": {},
   "source": [
    "Now we can create annotations for all audio files in that folder."
   ]
  },
  {
   "cell_type": "code",
   "execution_count": 161,
   "metadata": {
    "scrolled": false
   },
   "outputs": [
    {
     "name": "stdout",
     "output_type": "stream",
     "text": [
      "Depl1102_1678254119_200617040002.wav\n"
     ]
    }
   ],
   "source": [
    "annot = create_noise_annot(audio_dir, deployment_file, file_ext, annot_dur_sec, label_class, label_subclass)"
   ]
  },
  {
   "cell_type": "markdown",
   "metadata": {},
   "source": [
    "Let's look at the summary of annotations that were created:"
   ]
  },
  {
   "cell_type": "code",
   "execution_count": 162,
   "metadata": {
    "scrolled": true
   },
   "outputs": [
    {
     "data": {
      "text/html": [
       "<div>\n",
       "<style scoped>\n",
       "    .dataframe tbody tr th:only-of-type {\n",
       "        vertical-align: middle;\n",
       "    }\n",
       "\n",
       "    .dataframe tbody tr th {\n",
       "        vertical-align: top;\n",
       "    }\n",
       "\n",
       "    .dataframe thead th {\n",
       "        text-align: right;\n",
       "    }\n",
       "</style>\n",
       "<table border=\"1\" class=\"dataframe\">\n",
       "  <thead>\n",
       "    <tr style=\"text-align: right;\">\n",
       "      <th>label_class</th>\n",
       "      <th>NN</th>\n",
       "      <th>Total</th>\n",
       "    </tr>\n",
       "    <tr>\n",
       "      <th>deployment_ID</th>\n",
       "      <th></th>\n",
       "      <th></th>\n",
       "    </tr>\n",
       "  </thead>\n",
       "  <tbody>\n",
       "    <tr>\n",
       "      <th>UK-UAberdeen-MorayFirth-202006_1102-112</th>\n",
       "      <td>9</td>\n",
       "      <td>9</td>\n",
       "    </tr>\n",
       "    <tr>\n",
       "      <th>Total</th>\n",
       "      <td>9</td>\n",
       "      <td>9</td>\n",
       "    </tr>\n",
       "  </tbody>\n",
       "</table>\n",
       "</div>"
      ],
      "text/plain": [
       "label_class                              NN  Total\n",
       "deployment_ID                                     \n",
       "UK-UAberdeen-MorayFirth-202006_1102-112   9      9\n",
       "Total                                     9      9"
      ]
     },
     "execution_count": 162,
     "metadata": {},
     "output_type": "execute_result"
    }
   ],
   "source": [
    "annot.summary()"
   ]
  },
  {
   "cell_type": "markdown",
   "metadata": {},
   "source": [
    "The dataset can now be saved as a Raven annotation file and netcdf4 file:"
   ]
  },
  {
   "cell_type": "code",
   "execution_count": 163,
   "metadata": {},
   "outputs": [],
   "source": [
    "annot.to_netcdf(os.path.join(audio_dir, 'Annotations_dataset_' + annot.data['deployment_ID'][0] +' annotations.nc'))\n",
    "annot.to_raven(audio_dir, outfile='Annotations_dataset_' + annot.data['deployment_ID'][0] +'.Table.1.selections.txt', single_file=True)"
   ]
  },
  {
   "cell_type": "code",
   "execution_count": null,
   "metadata": {},
   "outputs": [],
   "source": []
  },
  {
   "cell_type": "markdown",
   "metadata": {},
   "source": [
    "### Dataset 24: UK-UAberdeen-MorayFirth-202010_1137-112\n",
    "\n",
    "Definition of all the paths of all folders with the raw annotation and audio files for this deployment."
   ]
  },
  {
   "cell_type": "code",
   "execution_count": 164,
   "metadata": {},
   "outputs": [],
   "source": [
    "audio_dir = r'D:\\NOAA\\2022_Minke_whale_detector\\manual_annotations\\UK-UAberdeen-MorayFirth-202010_1137-112\\noise'\n",
    "deployment_file = r'deployment_info.csv' \n",
    "file_ext = 'wav'\n",
    "\n",
    "annot_dur_sec = 60  # duration of the noise annotations in seconds\n",
    "label_class = 'NN'  # label to use for the noise class\n",
    "label_subclass = '' # label to use for the noise subclass (if needed, e.g. S for seismic airguns)"
   ]
  },
  {
   "cell_type": "raw",
   "metadata": {},
   "source": [
    "Now we can create annotations for all audio files in that folder."
   ]
  },
  {
   "cell_type": "code",
   "execution_count": 165,
   "metadata": {
    "scrolled": false
   },
   "outputs": [
    {
     "name": "stdout",
     "output_type": "stream",
     "text": [
      "Depl1137_1678508072_201230040002.wav\n",
      "Depl1137_1678508072_201020080002.wav\n",
      "Depl1137_1678508072_201022090002.wav\n",
      "Depl1137_1678508072_201023080002.wav\n",
      "Depl1137_1678508072_201023220002.wav\n",
      "Depl1137_1678508072_201026100002.wav\n",
      "Depl1137_1678508072_201031040002.wav\n",
      "Depl1137_1678508072_201031150002.wav\n",
      "Depl1137_1678508072_201031160002.wav\n"
     ]
    }
   ],
   "source": [
    "annot = create_noise_annot(audio_dir, deployment_file, file_ext, annot_dur_sec, label_class, label_subclass)"
   ]
  },
  {
   "cell_type": "markdown",
   "metadata": {},
   "source": [
    "Let's look at the summary of annotations that were created:"
   ]
  },
  {
   "cell_type": "code",
   "execution_count": 166,
   "metadata": {
    "scrolled": true
   },
   "outputs": [
    {
     "data": {
      "text/html": [
       "<div>\n",
       "<style scoped>\n",
       "    .dataframe tbody tr th:only-of-type {\n",
       "        vertical-align: middle;\n",
       "    }\n",
       "\n",
       "    .dataframe tbody tr th {\n",
       "        vertical-align: top;\n",
       "    }\n",
       "\n",
       "    .dataframe thead th {\n",
       "        text-align: right;\n",
       "    }\n",
       "</style>\n",
       "<table border=\"1\" class=\"dataframe\">\n",
       "  <thead>\n",
       "    <tr style=\"text-align: right;\">\n",
       "      <th>label_class</th>\n",
       "      <th>NN</th>\n",
       "      <th>Total</th>\n",
       "    </tr>\n",
       "    <tr>\n",
       "      <th>deployment_ID</th>\n",
       "      <th></th>\n",
       "      <th></th>\n",
       "    </tr>\n",
       "  </thead>\n",
       "  <tbody>\n",
       "    <tr>\n",
       "      <th>UK-UAberdeen-MorayFirth-202010_1137-112</th>\n",
       "      <td>81</td>\n",
       "      <td>81</td>\n",
       "    </tr>\n",
       "    <tr>\n",
       "      <th>Total</th>\n",
       "      <td>81</td>\n",
       "      <td>81</td>\n",
       "    </tr>\n",
       "  </tbody>\n",
       "</table>\n",
       "</div>"
      ],
      "text/plain": [
       "label_class                              NN  Total\n",
       "deployment_ID                                     \n",
       "UK-UAberdeen-MorayFirth-202010_1137-112  81     81\n",
       "Total                                    81     81"
      ]
     },
     "execution_count": 166,
     "metadata": {},
     "output_type": "execute_result"
    }
   ],
   "source": [
    "annot.summary()"
   ]
  },
  {
   "cell_type": "markdown",
   "metadata": {},
   "source": [
    "The dataset can now be saved as a Raven annotation file and netcdf4 file:"
   ]
  },
  {
   "cell_type": "code",
   "execution_count": 167,
   "metadata": {},
   "outputs": [],
   "source": [
    "annot.to_netcdf(os.path.join(audio_dir, 'Annotations_dataset_' + annot.data['deployment_ID'][0] +' annotations.nc'))\n",
    "annot.to_raven(audio_dir, outfile='Annotations_dataset_' + annot.data['deployment_ID'][0] +'.Table.1.selections.txt', single_file=True)"
   ]
  },
  {
   "cell_type": "code",
   "execution_count": null,
   "metadata": {},
   "outputs": [],
   "source": []
  },
  {
   "cell_type": "markdown",
   "metadata": {},
   "source": [
    "### Dataset 25: UK-UAberdeen-MorayFirth-202101_1136-164\n",
    "\n",
    "Definition of all the paths of all folders with the raw annotation and audio files for this deployment."
   ]
  },
  {
   "cell_type": "code",
   "execution_count": 168,
   "metadata": {},
   "outputs": [],
   "source": [
    "audio_dir = r'D:\\NOAA\\2022_Minke_whale_detector\\manual_annotations\\UK-UAberdeen-MorayFirth-202101_1136-164\\noise'\n",
    "deployment_file = r'deployment_info.csv' \n",
    "file_ext = 'wav'\n",
    "\n",
    "annot_dur_sec = 60  # duration of the noise annotations in seconds\n",
    "label_class = 'NN'  # label to use for the noise class\n",
    "label_subclass = '' # label to use for the noise subclass (if needed, e.g. S for seismic airguns)"
   ]
  },
  {
   "cell_type": "raw",
   "metadata": {},
   "source": [
    "Now we can create annotations for all audio files in that folder."
   ]
  },
  {
   "cell_type": "code",
   "execution_count": 169,
   "metadata": {
    "scrolled": true
   },
   "outputs": [
    {
     "name": "stdout",
     "output_type": "stream",
     "text": [
      "Depl1136_1677725722.210306060002.wav\n",
      "Depl1136_1677725722.210111080002.wav\n",
      "Depl1136_1677725722.210117130002.wav\n",
      "Depl1136_1677725722.210225000002.wav\n"
     ]
    }
   ],
   "source": [
    "annot = create_noise_annot(audio_dir, deployment_file, file_ext, annot_dur_sec, label_class, label_subclass)"
   ]
  },
  {
   "cell_type": "markdown",
   "metadata": {},
   "source": [
    "Let's look at the summary of annotations that were created:"
   ]
  },
  {
   "cell_type": "code",
   "execution_count": 170,
   "metadata": {
    "scrolled": true
   },
   "outputs": [
    {
     "data": {
      "text/html": [
       "<div>\n",
       "<style scoped>\n",
       "    .dataframe tbody tr th:only-of-type {\n",
       "        vertical-align: middle;\n",
       "    }\n",
       "\n",
       "    .dataframe tbody tr th {\n",
       "        vertical-align: top;\n",
       "    }\n",
       "\n",
       "    .dataframe thead th {\n",
       "        text-align: right;\n",
       "    }\n",
       "</style>\n",
       "<table border=\"1\" class=\"dataframe\">\n",
       "  <thead>\n",
       "    <tr style=\"text-align: right;\">\n",
       "      <th>label_class</th>\n",
       "      <th>NN</th>\n",
       "      <th>Total</th>\n",
       "    </tr>\n",
       "    <tr>\n",
       "      <th>deployment_ID</th>\n",
       "      <th></th>\n",
       "      <th></th>\n",
       "    </tr>\n",
       "  </thead>\n",
       "  <tbody>\n",
       "    <tr>\n",
       "      <th>UK-UAberdeen-MorayFirth-202101_1136-164</th>\n",
       "      <td>37</td>\n",
       "      <td>37</td>\n",
       "    </tr>\n",
       "    <tr>\n",
       "      <th>Total</th>\n",
       "      <td>37</td>\n",
       "      <td>37</td>\n",
       "    </tr>\n",
       "  </tbody>\n",
       "</table>\n",
       "</div>"
      ],
      "text/plain": [
       "label_class                              NN  Total\n",
       "deployment_ID                                     \n",
       "UK-UAberdeen-MorayFirth-202101_1136-164  37     37\n",
       "Total                                    37     37"
      ]
     },
     "execution_count": 170,
     "metadata": {},
     "output_type": "execute_result"
    }
   ],
   "source": [
    "annot.summary()"
   ]
  },
  {
   "cell_type": "markdown",
   "metadata": {},
   "source": [
    "The dataset can now be saved as a Raven annotation file and netcdf4 file:"
   ]
  },
  {
   "cell_type": "code",
   "execution_count": 171,
   "metadata": {},
   "outputs": [],
   "source": [
    "annot.to_netcdf(os.path.join(audio_dir, 'Annotations_dataset_' + annot.data['deployment_ID'][0] +' annotations.nc'))\n",
    "annot.to_raven(audio_dir, outfile='Annotations_dataset_' + annot.data['deployment_ID'][0] +'.Table.1.selections.txt', single_file=True)"
   ]
  },
  {
   "cell_type": "code",
   "execution_count": null,
   "metadata": {},
   "outputs": [],
   "source": []
  },
  {
   "cell_type": "markdown",
   "metadata": {},
   "source": [
    "### Dataset 26: UK-UAberdeen-MorayFirth-202105_1160-112\n",
    "\n",
    "Definition of all the paths of all folders with the raw annotation and audio files for this deployment."
   ]
  },
  {
   "cell_type": "code",
   "execution_count": 172,
   "metadata": {},
   "outputs": [],
   "source": [
    "audio_dir = r'D:\\NOAA\\2022_Minke_whale_detector\\manual_annotations\\UK-UAberdeen-MorayFirth-202105_1160-112\\noise'\n",
    "deployment_file = r'deployment_info.csv' \n",
    "file_ext = 'wav'\n",
    "\n",
    "annot_dur_sec = 60  # duration of the noise annotations in seconds\n",
    "label_class = 'NN'  # label to use for the noise class\n",
    "label_subclass = '' # label to use for the noise subclass (if needed, e.g. S for seismic airguns)"
   ]
  },
  {
   "cell_type": "raw",
   "metadata": {},
   "source": [
    "Now we can create annotations for all audio files in that folder."
   ]
  },
  {
   "cell_type": "code",
   "execution_count": 173,
   "metadata": {
    "scrolled": true
   },
   "outputs": [
    {
     "name": "stdout",
     "output_type": "stream",
     "text": [
      "Depl1160_1678036995_210928140002.wav\n",
      "Depl1160_1678036995_210502000002.wav\n",
      "Depl1160_1678036995_210512200002.wav\n",
      "Depl1160_1678036995_210513170002.wav\n",
      "Depl1160_1678036995_210514090002.wav\n",
      "Depl1160_1678036995_210518060002.wav\n",
      "Depl1160_1678036995_210519160002.wav\n",
      "Depl1160_1678036995_210522020002.wav\n",
      "Depl1160_1678036995_210523020002.wav\n",
      "Depl1160_1678036995_210525020002.wav\n",
      "Depl1160_1678036995_210526190002.wav\n",
      "Depl1160_1678036995_210531120002.wav\n",
      "Depl1160_1678036995_210609190002.wav\n",
      "Depl1160_1678036995_210613170002.wav\n",
      "Depl1160_1678036995_210617060002.wav\n",
      "Depl1160_1678036995_210701100002.wav\n",
      "Depl1160_1678036995_210717050002.wav\n",
      "Depl1160_1678036995_210720110002.wav\n",
      "Depl1160_1678036995_210907110002.wav\n",
      "Depl1160_1678036995_210908150002.wav\n",
      "Depl1160_1678036995_210909140002.wav\n",
      "Depl1160_1678036995_210910080002.wav\n",
      "Depl1160_1678036995_210910120002.wav\n",
      "Depl1160_1678036995_210911060002.wav\n",
      "Depl1160_1678036995_210911140002.wav\n",
      "Depl1160_1678036995_210912140002.wav\n",
      "Depl1160_1678036995_210914120002.wav\n",
      "Depl1160_1678036995_210914170002.wav\n",
      "Depl1160_1678036995_210915140002.wav\n",
      "Depl1160_1678036995_210915160002.wav\n",
      "Depl1160_1678036995_210916210002.wav\n",
      "Depl1160_1678036995_210918040002.wav\n",
      "Depl1160_1678036995_210919010002.wav\n",
      "Depl1160_1678036995_210921180002.wav\n",
      "Depl1160_1678036995_210923160002.wav\n",
      "Depl1160_1678036995_210926220002.wav\n",
      "Depl1160_1678036995_210927000002.wav\n",
      "Depl1160_1678036995_210927010002.wav\n",
      "Depl1160_1678036995_210927030002.wav\n",
      "Depl1160_1678036995_210927050002.wav\n",
      "Depl1160_1678036995_210927080002.wav\n",
      "Depl1160_1678036995_210927090002.wav\n",
      "Depl1160_1678036995_210927140002.wav\n",
      "Depl1160_1678036995_210927170002.wav\n",
      "Depl1160_1678036995_210927180002.wav\n"
     ]
    }
   ],
   "source": [
    "annot = create_noise_annot(audio_dir, deployment_file, file_ext, annot_dur_sec, label_class, label_subclass)"
   ]
  },
  {
   "cell_type": "markdown",
   "metadata": {},
   "source": [
    "Let's look at the summary of annotations that were created:"
   ]
  },
  {
   "cell_type": "code",
   "execution_count": 174,
   "metadata": {
    "scrolled": true
   },
   "outputs": [
    {
     "data": {
      "text/html": [
       "<div>\n",
       "<style scoped>\n",
       "    .dataframe tbody tr th:only-of-type {\n",
       "        vertical-align: middle;\n",
       "    }\n",
       "\n",
       "    .dataframe tbody tr th {\n",
       "        vertical-align: top;\n",
       "    }\n",
       "\n",
       "    .dataframe thead th {\n",
       "        text-align: right;\n",
       "    }\n",
       "</style>\n",
       "<table border=\"1\" class=\"dataframe\">\n",
       "  <thead>\n",
       "    <tr style=\"text-align: right;\">\n",
       "      <th>label_class</th>\n",
       "      <th>NN</th>\n",
       "      <th>Total</th>\n",
       "    </tr>\n",
       "    <tr>\n",
       "      <th>deployment_ID</th>\n",
       "      <th></th>\n",
       "      <th></th>\n",
       "    </tr>\n",
       "  </thead>\n",
       "  <tbody>\n",
       "    <tr>\n",
       "      <th>UK-UAberdeen-MorayFirth-202105_1160-112</th>\n",
       "      <td>416</td>\n",
       "      <td>416</td>\n",
       "    </tr>\n",
       "    <tr>\n",
       "      <th>Total</th>\n",
       "      <td>416</td>\n",
       "      <td>416</td>\n",
       "    </tr>\n",
       "  </tbody>\n",
       "</table>\n",
       "</div>"
      ],
      "text/plain": [
       "label_class                               NN  Total\n",
       "deployment_ID                                      \n",
       "UK-UAberdeen-MorayFirth-202105_1160-112  416    416\n",
       "Total                                    416    416"
      ]
     },
     "execution_count": 174,
     "metadata": {},
     "output_type": "execute_result"
    }
   ],
   "source": [
    "annot.summary()"
   ]
  },
  {
   "cell_type": "markdown",
   "metadata": {},
   "source": [
    "The dataset can now be saved as a Raven annotation file and netcdf4 file:"
   ]
  },
  {
   "cell_type": "code",
   "execution_count": 175,
   "metadata": {},
   "outputs": [],
   "source": [
    "annot.to_netcdf(os.path.join(audio_dir, 'Annotations_dataset_' + annot.data['deployment_ID'][0] +' annotations.nc'))\n",
    "annot.to_raven(audio_dir, outfile='Annotations_dataset_' + annot.data['deployment_ID'][0] +'.Table.1.selections.txt', single_file=True)"
   ]
  },
  {
   "cell_type": "code",
   "execution_count": null,
   "metadata": {},
   "outputs": [],
   "source": []
  },
  {
   "cell_type": "markdown",
   "metadata": {},
   "source": [
    "### Dataset 27: UK-UAberdeen-MorayFirth-202107_1173-281\n",
    "\n",
    "Definition of all the paths of all folders with the raw annotation and audio files for this deployment."
   ]
  },
  {
   "cell_type": "code",
   "execution_count": 176,
   "metadata": {},
   "outputs": [],
   "source": [
    "audio_dir = r'D:\\NOAA\\2022_Minke_whale_detector\\manual_annotations\\UK-UAberdeen-MorayFirth-202107_1173-281\\noise'\n",
    "deployment_file = r'deployment_info.csv' \n",
    "file_ext = 'wav'\n",
    "\n",
    "annot_dur_sec = 60  # duration of the noise annotations in seconds\n",
    "label_class = 'NN'  # label to use for the noise class\n",
    "label_subclass = '' # label to use for the noise subclass (if needed, e.g. S for seismic airguns)"
   ]
  },
  {
   "cell_type": "raw",
   "metadata": {},
   "source": [
    "Now we can create annotations for all audio files in that folder."
   ]
  },
  {
   "cell_type": "code",
   "execution_count": 177,
   "metadata": {
    "scrolled": true
   },
   "outputs": [
    {
     "name": "stdout",
     "output_type": "stream",
     "text": [
      "Depl1173_1678508072_210619100002.wav\n",
      "Depl1173_1678508072_210603070002.wav\n"
     ]
    }
   ],
   "source": [
    "annot = create_noise_annot(audio_dir, deployment_file, file_ext, annot_dur_sec, label_class, label_subclass)"
   ]
  },
  {
   "cell_type": "markdown",
   "metadata": {},
   "source": [
    "Let's look at the summary of annotations that were created:"
   ]
  },
  {
   "cell_type": "code",
   "execution_count": 178,
   "metadata": {
    "scrolled": true
   },
   "outputs": [
    {
     "data": {
      "text/html": [
       "<div>\n",
       "<style scoped>\n",
       "    .dataframe tbody tr th:only-of-type {\n",
       "        vertical-align: middle;\n",
       "    }\n",
       "\n",
       "    .dataframe tbody tr th {\n",
       "        vertical-align: top;\n",
       "    }\n",
       "\n",
       "    .dataframe thead th {\n",
       "        text-align: right;\n",
       "    }\n",
       "</style>\n",
       "<table border=\"1\" class=\"dataframe\">\n",
       "  <thead>\n",
       "    <tr style=\"text-align: right;\">\n",
       "      <th>label_class</th>\n",
       "      <th>NN</th>\n",
       "      <th>Total</th>\n",
       "    </tr>\n",
       "    <tr>\n",
       "      <th>deployment_ID</th>\n",
       "      <th></th>\n",
       "      <th></th>\n",
       "    </tr>\n",
       "  </thead>\n",
       "  <tbody>\n",
       "    <tr>\n",
       "      <th>UK-UAberdeen-MorayFirth-202107_1173-281</th>\n",
       "      <td>18</td>\n",
       "      <td>18</td>\n",
       "    </tr>\n",
       "    <tr>\n",
       "      <th>Total</th>\n",
       "      <td>18</td>\n",
       "      <td>18</td>\n",
       "    </tr>\n",
       "  </tbody>\n",
       "</table>\n",
       "</div>"
      ],
      "text/plain": [
       "label_class                              NN  Total\n",
       "deployment_ID                                     \n",
       "UK-UAberdeen-MorayFirth-202107_1173-281  18     18\n",
       "Total                                    18     18"
      ]
     },
     "execution_count": 178,
     "metadata": {},
     "output_type": "execute_result"
    }
   ],
   "source": [
    "annot.summary()"
   ]
  },
  {
   "cell_type": "markdown",
   "metadata": {},
   "source": [
    "The dataset can now be saved as a Raven annotation file and netcdf4 file:"
   ]
  },
  {
   "cell_type": "code",
   "execution_count": 179,
   "metadata": {},
   "outputs": [],
   "source": [
    "annot.to_netcdf(os.path.join(audio_dir, 'Annotations_dataset_' + annot.data['deployment_ID'][0] +' annotations.nc'))\n",
    "annot.to_raven(audio_dir, outfile='Annotations_dataset_' + annot.data['deployment_ID'][0] +'.Table.1.selections.txt', single_file=True)"
   ]
  },
  {
   "cell_type": "code",
   "execution_count": null,
   "metadata": {},
   "outputs": [],
   "source": []
  },
  {
   "cell_type": "markdown",
   "metadata": {},
   "source": [
    "### Dataset 28: UK-UAberdeen-MorayFirth-202107_1190-295\n",
    "\n",
    "Definition of all the paths of all folders with the raw annotation and audio files for this deployment."
   ]
  },
  {
   "cell_type": "code",
   "execution_count": 180,
   "metadata": {},
   "outputs": [],
   "source": [
    "audio_dir = r'D:\\NOAA\\2022_Minke_whale_detector\\manual_annotations\\UK-UAberdeen-MorayFirth-202107_1190-295\\noise'\n",
    "deployment_file = r'deployment_info.csv' \n",
    "file_ext = 'wav'\n",
    "\n",
    "annot_dur_sec = 60  # duration of the noise annotations in seconds\n",
    "label_class = 'NN'  # label to use for the noise class\n",
    "label_subclass = '' # label to use for the noise subclass (if needed, e.g. S for seismic airguns)"
   ]
  },
  {
   "cell_type": "raw",
   "metadata": {},
   "source": [
    "Now we can create annotations for all audio files in that folder."
   ]
  },
  {
   "cell_type": "code",
   "execution_count": 181,
   "metadata": {
    "scrolled": true
   },
   "outputs": [
    {
     "name": "stdout",
     "output_type": "stream",
     "text": [
      "Depl1190_6281_210726055604.wav\n",
      "Depl1190_6281_210714025737.wav\n",
      "Depl1190_6281_210714055736.wav\n",
      "Depl1190_6281_210714115734.wav\n",
      "Depl1190_6281_210715175725.wav\n",
      "Depl1190_6281_210716055720.wav\n",
      "Depl1190_6281_210716085719.wav\n",
      "Depl1190_6281_210716235714.wav\n",
      "Depl1190_6281_210717055712.wav\n",
      "Depl1190_6281_210720085646.wav\n",
      "Depl1190_6281_210720115645.wav\n",
      "Depl1190_6281_210720205642.wav\n",
      "Depl1190_6281_210720235641.wav\n",
      "Depl1190_6281_210721025640.wav\n",
      "Depl1190_6281_210721055639.wav\n",
      "Depl1190_6281_210721145636.wav\n",
      "Depl1190_6281_210721235633.wav\n",
      "Depl1190_6281_210722115629.wav\n",
      "Depl1190_6281_210722175627.wav\n",
      "Depl1190_6281_210722205626.wav\n",
      "Depl1190_6281_210722235626.wav\n",
      "Depl1190_6281_210723025625.wav\n",
      "Depl1190_6281_210723055624.wav\n",
      "Depl1190_6281_210723085623.wav\n",
      "Depl1190_6281_210723115622.wav\n",
      "Depl1190_6281_210723145622.wav\n",
      "Depl1190_6281_210723175621.wav\n",
      "Depl1190_6281_210723205620.wav\n",
      "Depl1190_6281_210723235619.wav\n",
      "Depl1190_6281_210724025618.wav\n",
      "Depl1190_6281_210724085617.wav\n",
      "Depl1190_6281_210724115616.wav\n",
      "Depl1190_6281_210724145615.wav\n",
      "Depl1190_6281_210724205614.wav\n",
      "Depl1190_6281_210724235613.wav\n",
      "Depl1190_6281_210725025612.wav\n",
      "Depl1190_6281_210725055611.wav\n",
      "Depl1190_6281_210725145608.wav\n",
      "Depl1190_6281_210725175607.wav\n",
      "Depl1190_6281_210725205606.wav\n",
      "Depl1190_6281_210725235605.wav\n",
      "Depl1190_6281_210726025605.wav\n"
     ]
    }
   ],
   "source": [
    "annot = create_noise_annot(audio_dir, deployment_file, file_ext, annot_dur_sec, label_class, label_subclass)"
   ]
  },
  {
   "cell_type": "markdown",
   "metadata": {},
   "source": [
    "Let's look at the summary of annotations that were created:"
   ]
  },
  {
   "cell_type": "code",
   "execution_count": 182,
   "metadata": {
    "scrolled": true
   },
   "outputs": [
    {
     "data": {
      "text/html": [
       "<div>\n",
       "<style scoped>\n",
       "    .dataframe tbody tr th:only-of-type {\n",
       "        vertical-align: middle;\n",
       "    }\n",
       "\n",
       "    .dataframe tbody tr th {\n",
       "        vertical-align: top;\n",
       "    }\n",
       "\n",
       "    .dataframe thead th {\n",
       "        text-align: right;\n",
       "    }\n",
       "</style>\n",
       "<table border=\"1\" class=\"dataframe\">\n",
       "  <thead>\n",
       "    <tr style=\"text-align: right;\">\n",
       "      <th>label_class</th>\n",
       "      <th>NN</th>\n",
       "      <th>Total</th>\n",
       "    </tr>\n",
       "    <tr>\n",
       "      <th>deployment_ID</th>\n",
       "      <th></th>\n",
       "      <th></th>\n",
       "    </tr>\n",
       "  </thead>\n",
       "  <tbody>\n",
       "    <tr>\n",
       "      <th>UK-UAberdeen-MorayFirth-202107_1190-295</th>\n",
       "      <td>7530</td>\n",
       "      <td>7530</td>\n",
       "    </tr>\n",
       "    <tr>\n",
       "      <th>Total</th>\n",
       "      <td>7530</td>\n",
       "      <td>7530</td>\n",
       "    </tr>\n",
       "  </tbody>\n",
       "</table>\n",
       "</div>"
      ],
      "text/plain": [
       "label_class                                NN  Total\n",
       "deployment_ID                                       \n",
       "UK-UAberdeen-MorayFirth-202107_1190-295  7530   7530\n",
       "Total                                    7530   7530"
      ]
     },
     "execution_count": 182,
     "metadata": {},
     "output_type": "execute_result"
    }
   ],
   "source": [
    "annot.summary()"
   ]
  },
  {
   "cell_type": "markdown",
   "metadata": {},
   "source": [
    "The dataset can now be saved as a Raven annotation file and netcdf4 file:"
   ]
  },
  {
   "cell_type": "code",
   "execution_count": 183,
   "metadata": {},
   "outputs": [],
   "source": [
    "annot.to_netcdf(os.path.join(audio_dir, 'Annotations_dataset_' + annot.data['deployment_ID'][0] +' annotations.nc'))\n",
    "annot.to_raven(audio_dir, outfile='Annotations_dataset_' + annot.data['deployment_ID'][0] +'.Table.1.selections.txt', single_file=True)"
   ]
  },
  {
   "cell_type": "code",
   "execution_count": null,
   "metadata": {},
   "outputs": [],
   "source": []
  }
 ],
 "metadata": {
  "kernelspec": {
   "display_name": "Python 3 (ipykernel)",
   "language": "python",
   "name": "python3"
  },
  "language_info": {
   "codemirror_mode": {
    "name": "ipython",
    "version": 3
   },
   "file_extension": ".py",
   "mimetype": "text/x-python",
   "name": "python",
   "nbconvert_exporter": "python",
   "pygments_lexer": "ipython3",
   "version": "3.9.13"
  }
 },
 "nbformat": 4,
 "nbformat_minor": 4
}
